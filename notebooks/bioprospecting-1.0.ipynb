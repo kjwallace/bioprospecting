{
 "cells": [
  {
   "cell_type": "markdown",
   "id": "2a559691-c422-4708-8bc6-e28ed8ef0ebe",
   "metadata": {},
   "source": [
    "### **Bioprospecting pipeline 1.0**"
   ]
  },
  {
   "cell_type": "markdown",
   "id": "d025c6d4-b42d-4041-afb3-1b4f0ca4b208",
   "metadata": {},
   "source": [
    "***\n",
    "#### **Introduction**\n",
    "***"
   ]
  },
  {
   "cell_type": "markdown",
   "id": "826d270a-10de-4bf1-a519-80ab86996c51",
   "metadata": {},
   "source": [
    "A Biosynthetic Gene Cluster (BGC) can be defined as a physically clustered group of two or more genes that encode the biosynthetic enzymes of a pathway (Medema 2015). The compounds encoded by BGCs represent diverse chemical structural classes, which include among others, polyketides, peptides, oligosaccharides, terpenoids, and alkaloids. These are commonly known as natural products and are a rich source of molecule candidates for the development of pharmaceutical applications, for instance, as vitamins, antibiotics, and antifungals (Newman and Cragg 2020). In addition, from an ecological perspective, natural  product BGCs are traits with key roles for the organisms’ survival and adaptation to the environment, participating in defense, nutrient scavenging, quorum sensing, etc (Fischbach and Voigt 2010; O’Brien and Wright 2011).  \n",
    "\n",
    "The advent of new sequencing technologies and the availability of large numbers of genome sequences has boosted our capacity to mine encoded BGCs, especially from microorganisms, which are known to be highly prolific producers of natural products. As a result, genome mining has accelerated the discovery of new BGCs, positioning as a central approach to study these genomic elements (Ziemert, Alanjaryab, and Weber 2016). Metagenomics, as a culture-independent approach, offers unique opportunities to mine the natural product BGCs encoded by environmental microbial communities (Reddy 2012; Charlop-Powers 2015; Lemetre 2017; Rego 2020). However, given the long nature of these genomic elements, commonly in the order of tens of kb, their identification in metagenomic data requires exceptionally high-quality assemblies. In spite of recent advances (e.g., biosyntheticSPAdes (Meleshko 2019) and BiG-MAP (Pascal Andreu 2021)), identifying the different BGC classes in metagenomic data represents a major challenge that must be addressed to be able to expand bioprospecting endeavors (Nayfach 2021; Robinson 2021; Paoli 2022).  \n",
    "\n",
    "The workflow we will develop will capitalize on recent bioinformatic advances in BGC bioprospecting analysis to maximize the exploitation of metagenomic data. Briefly, our strategy will consist of generating metagenome assemblies, including the reconstruction of metagenome assembled genomes (MAGs), identifying BGC sequences, clustering these sequences into Gene Cluster Families (GCFs), computing the BGC coverage and GCFs abundance, and performing the functinoal and taxonomic annotation.\n",
    "In Fig. 1 we represent the implementation of this workflow."
   ]
  },
  {
   "cell_type": "markdown",
   "id": "294d4223-bb7b-4abd-8d53-895d8cc8518f",
   "metadata": {},
   "source": [
    "![Figure 1](../figures/Bioprospectig_reads_vs_assembly_dev.png)"
   ]
  },
  {
   "cell_type": "markdown",
   "id": "6fe41919-740e-484e-8de5-0b4fc0bc89e1",
   "metadata": {},
   "source": [
    "**Fig. 1**. Assembly-based bioprospecting pipeline. Metagenoimc samples are preprocessed and assembled into contigs or Metagenome Assembled Genomes (MAGs) with [VEBA](https://github.com/jolespin/veba). Subsequently, the BGCs are annotated in the assembled data utilizing [antiSMASH](https://github.com/antismash/antismash), and the identified sequences are matched against precomputed Gene Cluster Family (GCF) models of [MIBiG v3](https://mibig.secondarymetabolites.org/) utilizing the [BiG-SLICE](https://github.com/pereiramemo/bigslice) tool to determined or approximate the BGC functions (if these are placed close to known BGCs), and the biosynthetic novelty (i.e., minimum distance to a known BGC sequence). In addition, BGC sequences are taxonomically annotates with [MMseqs taxonomy](https://github.com/soedinglab/MMseqs2#taxonomy) and the unassembled short-read data is mapped on the assembled contigs (or MAGs) to compute the coverage of the BGC sequences. The outputs of the pipeline consists of the following tables: 1) The metadata table containing the functional and taxonomic annotation, and the biosynthetic novelty; 2) The BGC class abundance table; 3) The GCFs abundance tables."
   ]
  },
  {
   "cell_type": "markdown",
   "id": "09e2f57b-f361-4ed3-af72-860b42b571c6",
   "metadata": {},
   "source": [
    "***\n",
    "#### **Prepare the work environment**\n",
    "***"
   ]
  },
  {
   "cell_type": "code",
   "execution_count": 3,
   "id": "5ad1d67a-6b22-42b6-85cc-f71c0c98e7ff",
   "metadata": {
    "tags": []
   },
   "outputs": [
    {
     "name": "stdout",
     "output_type": "stream",
     "text": [
      "env: WORKDIR=workdir\n",
      "env: REPO=/home/epereira/workspace/dev/new_atlantis/repos/bioprospecting\n",
      "env: seqtk=/nfs/bin/seqtk/seqtk\n"
     ]
    }
   ],
   "source": [
    "%load_ext rpy2.ipython\n",
    "%set_env WORKDIR=workdir\n",
    "%set_env REPO=/home/epereira/workspace/dev/new_atlantis/repos/bioprospecting\n",
    "%set_env seqtk=/nfs/bin/seqtk/seqtk"
   ]
  },
  {
   "cell_type": "code",
   "execution_count": null,
   "id": "7fd79a1d-cd45-4458-a5ad-8509d8eb1bd6",
   "metadata": {},
   "outputs": [],
   "source": [
    "%%bash\n",
    "mkdir -p ${WORKDIR}/data/sola\n",
    "mkdir -p ${WORKDIR}/outputs/antismash\n",
    "mkdir ${WORKDIR}/outputs/bgc_abund"
   ]
  },
  {
   "cell_type": "markdown",
   "id": "c5bc0d11-6a20-4ae0-a529-ba4171454a72",
   "metadata": {
    "tags": []
   },
   "source": [
    "***\n",
    "#### **Input data**\n",
    "***"
   ]
  },
  {
   "cell_type": "markdown",
   "id": "a021dff9-f5ab-4f40-bf98-c2db70fe2b45",
   "metadata": {},
   "source": [
    "The input data, as described in the figure above, are metagenomic samples previously preprocessed and assembled with VEBA. For the purpose of this notebook, we will analyze 38 metagenomes of the [SOLA dataset](https://pubmed.ncbi.nlm.nih.gov/29925880/). Namenly, the input consists of assembled contigs and the mapping information (i.e., bam files)."
   ]
  },
  {
   "cell_type": "markdown",
   "id": "32c01c51-eae7-41b9-be71-045d6b954783",
   "metadata": {},
   "source": [
    "We can download the data from the New Atlantis Cloud Lab.  "
   ]
  },
  {
   "cell_type": "code",
   "execution_count": null,
   "id": "3b9b0678-1e9f-401a-915f-ac85d0681011",
   "metadata": {},
   "outputs": [],
   "source": [
    "%%bash\n",
    "\n",
    "# aws s3 cp s3://newatlantis-case-studies/SOLA-samples/ ${WORKDIR}/data/sola --recursive"
   ]
  },
  {
   "cell_type": "markdown",
   "id": "6e6ceba1-b58b-47ff-ab7d-35ee077085c3",
   "metadata": {},
   "source": [
    "***\n",
    "#### **Identify BGC sequences**\n",
    "***"
   ]
  },
  {
   "cell_type": "markdown",
   "id": "d24e870e-fc37-4b9f-9833-97089a78619f",
   "metadata": {
    "tags": []
   },
   "source": [
    "For this we will be using our wrap script [run_antismash](https://github.com/pereiramemo/bioprospecting/blob/main/run_scripts/run_antismash.sh), which runs a our container of antiSMASH.  "
   ]
  },
  {
   "cell_type": "code",
   "execution_count": 6,
   "id": "86ab3b68-8fbb-4122-9774-4abac459ea46",
   "metadata": {
    "tags": []
   },
   "outputs": [],
   "source": [
    "%%bash\n",
    "\n",
    "SCAFFOLDS=$(ls ${WORKDIR}/data/sola/ERR*/output/scaffolds.fasta)\n",
    "for SCAFFOLD in ${SCAFFOLDS}; do\n",
    "\n",
    "  SAMPLE_NAME=$(echo \"${SCAFFOLD}\" | sed \"s/.*\\(ERR[0-9]\\+\\)\\/output.*/\\1/\");\n",
    "  OUTPUT_DIR=\"${WORKDIR}/outputs/antismash/${SAMPLE_NAME}\";\n",
    "  \n",
    "  \"${REPO}\"/run_scripts/run_antismash.sh \"${SCAFFOLD}\" \"${OUTPUT_DIR}\" \\\n",
    "  --cpus 40 \\\n",
    "  --genefinding-tool prodigal-m \\\n",
    "  --taxon bacteria \\\n",
    "  --allow-long-headers \\\n",
    "  --minlength 5000;\n",
    "\n",
    "done\n"
   ]
  },
  {
   "cell_type": "code",
   "execution_count": null,
   "id": "79785753-3862-4fc3-a8d0-407ca3bd85a6",
   "metadata": {},
   "outputs": [],
   "source": [
    "***\n",
    "**2. Compute BGC class abundances**\n",
    "***"
   ]
  },
  {
   "cell_type": "code",
   "execution_count": null,
   "id": "1b6e2957-e156-49d0-8310-1de70a6eaabd",
   "metadata": {},
   "outputs": [],
   "source": [
    "To do this, let's first create a directory where we will put the concatenated BGC gbk and the bam mapping files.  "
   ]
  }
 ],
 "metadata": {
  "kernelspec": {
   "display_name": "Python 3 (ipykernel)",
   "language": "python",
   "name": "python3"
  },
  "language_info": {
   "codemirror_mode": {
    "name": "ipython",
    "version": 3
   },
   "file_extension": ".py",
   "mimetype": "text/x-python",
   "name": "python",
   "nbconvert_exporter": "python",
   "pygments_lexer": "ipython3",
   "version": "3.11.4"
  }
 },
 "nbformat": 4,
 "nbformat_minor": 5
}
