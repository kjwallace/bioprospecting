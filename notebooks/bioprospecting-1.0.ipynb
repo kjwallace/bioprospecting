{
 "cells": [
  {
   "cell_type": "markdown",
   "id": "49c8f402-cc0c-436f-8898-06ecc316f51a",
   "metadata": {},
   "source": [
    "## **MetaBioPros 1.0**\n",
    "\n",
    "#### This notebook integrates the metagenomic bioprospecting analysis  1.0.  \n",
    "#### The tasks are organized in the following sections:  \n",
    "#### [**0. Set env**](#section0)\n",
    "#### [**1. Identify of BGCs**](#section1)\n",
    "#### [**2. Compute BGC class abundances**](#section2)\n",
    "#### [**3. Taxonomic annotation of BGCs**](#section3)\n",
    "#### [**4. Map BGCs onto reference Gene Cluster Families (GCFs)**](#section4)\n",
    "#### [**5. Compute BGCs diversity, functionally annotate, and assess novelty**]((#section5)\n",
    "\n",
    "#### Dependencies to run this notebook (outside the tools we provide):  \n",
    "#### [aws cli](https://aws.amazon.com/cli/)  \n",
    "#### [bash and R kernels](https://evodify.com/python-r-bash-jupyter-notebook/)  \n",
    "#### [Docker](https://www.docker.com/)\n",
    "#### [RSQLite R library](https://cran.r-project.org/web/packages/RSQLite/index.html)\n",
    "#### [tidyverse R library](https://www.tidyverse.org/)\n",
    "#### [seqtk](https://github.com/lh3/seqtk)\n"
   ]
  },
  {
   "cell_type": "markdown",
   "id": "2cbc2398-db3e-4ec2-9b48-848bc6c832b8",
   "metadata": {},
   "source": [
    "<a id='section0'></a>\n",
    "**0. Set env**"
   ]
  },
  {
   "cell_type": "code",
   "execution_count": 1,
   "id": "1357053d-48e1-445e-a0de-e42f0da41828",
   "metadata": {},
   "outputs": [
    {
     "name": "stdout",
     "output_type": "stream",
     "text": [
      "env: WORKDIR=workdir\n",
      "env: REPO=/home/epereira/workspace/dev/new_atlantis/repos/bioprospecting\n",
      "env: seqtk=/nfs/bin/seqtk/seqtk\n"
     ]
    }
   ],
   "source": [
    "%load_ext rpy2.ipython\n",
    "%set_env WORKDIR=workdir\n",
    "%set_env REPO=/home/epereira/workspace/dev/new_atlantis/repos/bioprospecting\n",
    "%set_env seqtk=/nfs/bin/seqtk/seqtk"
   ]
  },
  {
   "cell_type": "code",
   "execution_count": 4,
   "id": "fc7003a2-c4e3-489f-b171-d1920dbd38df",
   "metadata": {
    "tags": []
   },
   "outputs": [],
   "source": [
    "%%bash\n",
    "\n",
    "mkdir -p ${WORKDIR}/data/sola\n",
    "mkdir -p ${WORKDIR}/outputs/antismash"
   ]
  },
  {
   "cell_type": "markdown",
   "id": "ed3a9241-fdfe-4d2d-b5ee-c5537507ad63",
   "metadata": {
    "tags": []
   },
   "source": [
    "<a id='section1'></a>\n",
    "**1. Identification of BGCs**"
   ]
  },
  {
   "cell_type": "markdown",
   "id": "c18d7ac1-ac70-4626-b97e-0610b53e5d61",
   "metadata": {},
   "source": [
    "We will be using the [SOLA metagenomic dataset](https://www.nature.com/articles/s41396-018-0158-1), already assembled with [VEBA](https://github.com/jolespin/veba).\n",
    "Let’s first get the data."
   ]
  },
  {
   "cell_type": "code",
   "execution_count": 12,
   "id": "378b0f1c-7cb4-47b0-815d-fb8ac3723414",
   "metadata": {
    "tags": []
   },
   "outputs": [],
   "source": [
    "%%bash\n",
    "\n",
    "# aws s3 cp s3://newatlantis-case-studies/SOLA-samples/ ${WORKDIR}/data/sola --recursive"
   ]
  },
  {
   "cell_type": "markdown",
   "id": "54a468a9-ac35-4c38-967b-6e68bb31bef8",
   "metadata": {},
   "source": [
    "This dataset contains the assembled scaffolds (\\*.fasta) and the mapping files (\\*.bam)."
   ]
  },
  {
   "cell_type": "code",
   "execution_count": 2,
   "id": "37e84e70-3389-49d3-9fad-9049dcb70132",
   "metadata": {
    "tags": []
   },
   "outputs": [
    {
     "name": "stdout",
     "output_type": "stream",
     "text": [
      "workdir/data/sola/ERR2604071/output:\n",
      "featurecounts.tsv.gz\n",
      "mapped.sorted.bam\n",
      "mapped.sorted.bam.bai\n",
      "scaffolds.fasta\n",
      "scaffolds.fasta.1.bt2\n",
      "scaffolds.fasta.2.bt2\n",
      "scaffolds.fasta.3.bt2\n",
      "scaffolds.fasta.4.bt2\n",
      "scaffolds.fasta.rev.1.bt2\n",
      "scaffolds.fasta.rev.2.bt2\n",
      "scaffolds.fasta.saf\n"
     ]
    }
   ],
   "source": [
    "%%bash\n",
    "\n",
    "ls ${WORKDIR}/data/sola/ERR*/output | head -12"
   ]
  },
  {
   "cell_type": "markdown",
   "id": "cdcece54-3f7f-48fc-8bea-cd9d784a00b0",
   "metadata": {},
   "source": [
    "Now that we have the data, let's run [antisMASH](https://github.com/antismash/antismash) to identify the BGC sequences.  \n",
    "For this we will be using our wrap script [run_antismash](https://github.com/pereiramemo/bioprospecting/blob/main/run_scripts/run_antismash.sh), which runs a containerized version 6.0.0 of antiSMASH.  \n",
    "Note that there is version 7.0.0 available, but for compatibility purposes in downstream analysis, we'll use this version for now.\n",
    "Since we are using a wrap script to run a containerized version of antiSMASH, we have to use the fist two positional parameters as the input and output folders, respectively.  \n",
    "To see the help we run:"
   ]
  },
  {
   "cell_type": "code",
   "execution_count": 3,
   "id": "04c291c2-f727-4198-9941-3cf538950c62",
   "metadata": {
    "tags": []
   },
   "outputs": [
    {
     "name": "stdout",
     "output_type": "stream",
     "text": [
      "\n",
      "########### antiSMASH 6.0.0 #############\n",
      "\n",
      "usage: antismash [-h] [options ..] sequence\n",
      "\n",
      "\n",
      "arguments:\n",
      "  SEQUENCE  GenBank/EMBL/FASTA file(s) containing DNA.\n",
      "\n",
      "--------\n",
      "Options\n",
      "--------\n",
      "-h, --help              Show this help text.\n",
      "--help-showall          Show full lists of arguments on this help text.\n",
      "-c CPUS, --cpus CPUS    How many CPUs to use in parallel. (default: 48)\n",
      "\n",
      "Basic analysis options:\n",
      "\n",
      "  --taxon {bacteria,fungi}\n",
      "                        Taxonomic classification of input sequence. (default:\n",
      "                        bacteria)\n",
      "\n",
      "Additional analysis:\n",
      "\n",
      "  --fullhmmer           Run a whole-genome HMMer analysis.\n",
      "  --cassis              Motif based prediction of SM gene cluster regions.\n",
      "  --clusterhmmer        Run a cluster-limited HMMer analysis.\n",
      "  --tigrfam             Annotate clusters using TIGRFam profiles.\n",
      "  --smcog-trees         Generate phylogenetic trees of sec. met. cluster\n",
      "                        orthologous groups.\n",
      "  --tta-threshold TTA_THRESHOLD\n",
      "                        Lowest GC content to annotate TTA codons at (default:\n",
      "                        0.65).\n",
      "  --cb-general          Compare identified clusters against a database of\n",
      "                        antiSMASH-predicted clusters.\n",
      "  --cb-subclusters      Compare identified clusters against known subclusters\n",
      "                        responsible for synthesising precursors.\n",
      "  --cb-knownclusters    Compare identified clusters against known gene\n",
      "                        clusters from the MIBiG database.\n",
      "  --asf                 Run active site finder analysis.\n",
      "  --pfam2go             Run Pfam to Gene Ontology mapping module.\n",
      "  --rre                 Run RREFinder precision mode on all RiPP gene\n",
      "                        clusters.\n",
      "  --cc-mibig            Run a comparison against the MIBiG dataset\n",
      "\n",
      "Output options:\n",
      "\n",
      "  --output-dir OUTPUT_DIR\n",
      "                        Directory to write results to.\n",
      "  --output-basename OUTPUT_BASENAME\n",
      "                        Base filename to use for output files within the\n",
      "                        output directory.\n",
      "  --html-title HTML_TITLE\n",
      "                        Custom title for the HTML output page (default is\n",
      "                        input filename).\n",
      "  --html-description HTML_DESCRIPTION\n",
      "                        Custom description to add to the output.\n",
      "  --html-start-compact  Use compact view by default for overview page.\n",
      "\n",
      "Gene finding options (ignored when ORFs are annotated):\n",
      "\n",
      "  --genefinding-tool {glimmerhmm,prodigal,prodigal-m,none,error}\n",
      "                        Specify algorithm used for gene finding: GlimmerHMM,\n",
      "                        Prodigal, Prodigal Metagenomic/Anonymous mode, or\n",
      "                        none. The 'error' option will raise an error if\n",
      "                        genefinding is attempted. The 'none' option will not\n",
      "                        run genefinding. (default: error).\n",
      "  --genefinding-gff3 GFF3_FILE\n",
      "                        Specify GFF3 file to extract features from.\n",
      "\n"
     ]
    }
   ],
   "source": [
    "%%bash\n",
    "\n",
    "\"${REPO}\"/run_scripts/run_antismash.sh . . --help"
   ]
  },
  {
   "cell_type": "markdown",
   "id": "37d3bfdb-7eb1-40b4-920e-1be67935214b",
   "metadata": {},
   "source": [
    "Let's run antiSMASH on the SOLA dataset."
   ]
  },
  {
   "cell_type": "code",
   "execution_count": 3,
   "id": "53eab970-dfaa-4d2f-a483-0b62306e8a88",
   "metadata": {
    "tags": []
   },
   "outputs": [
    {
     "name": "stdout",
     "output_type": "stream",
     "text": [
      "ERR2604071\n",
      "ERR2604073\n",
      "ERR2604074\n",
      "ERR2604075\n",
      "ERR2604076\n",
      "ERR2604077\n",
      "ERR2604078\n",
      "ERR2604079\n",
      "ERR2604080\n",
      "ERR2604081\n",
      "ERR2604082\n",
      "ERR2604083\n",
      "ERR2604084\n",
      "ERR2604085\n",
      "ERR2604086\n",
      "ERR2604087\n",
      "ERR2604088\n",
      "ERR2604090\n",
      "ERR2604091\n",
      "ERR2604092\n",
      "ERR2604093\n",
      "ERR2604094\n",
      "ERR2604095\n",
      "ERR2604096\n",
      "ERR2604097\n",
      "ERR2604098\n",
      "ERR2604099\n",
      "ERR2604100\n",
      "ERR2604101\n",
      "ERR2604102\n",
      "ERR2604103\n",
      "ERR2604104\n",
      "ERR2604105\n",
      "ERR2604106\n",
      "ERR2604107\n",
      "ERR2604108\n",
      "ERR2604109\n",
      "ERR2604110\n"
     ]
    }
   ],
   "source": [
    "%%bash\n",
    "\n",
    "SCAFFOLDS=$(ls ${WORKDIR}/data/sola/ERR*/output/scaffolds.fasta)\n",
    "for SCAFFOLD in ${SCAFFOLDS}; do\n",
    "\n",
    "  SAMPLE_NAME=$(echo \"${SCAFFOLD}\" | sed \"s/.*\\(ERR[0-9]\\+\\)\\/output.*/\\1/\");\n",
    "  OUTPUT_DIR=\"${WORKDIR}/outputs/antismash/${SAMPLE_NAME}\";\n",
    "  echo \"${SAMPLE_NAME}\";\n",
    " \n",
    "  \"${REPO}\"/run_scripts/run_antismash.sh \"${SCAFFOLD}\" \"${OUTPUT_DIR}\" \\\n",
    "  --cpus 40 \\\n",
    "  --genefinding-tool prodigal-m \\\n",
    "  --taxon bacteria \\\n",
    "  --allow-long-headers \\\n",
    "  --minlength 5000;\n",
    "\n",
    "done\n"
   ]
  },
  {
   "cell_type": "markdown",
   "id": "335ff3ab-7de8-403a-a6ff-f7f193dcdf29",
   "metadata": {},
   "source": [
    "The annotated BGC sequences can be found in `${WORKDIR}/outputs/antismash/`"
   ]
  },
  {
   "cell_type": "code",
   "execution_count": 4,
   "id": "c5f46a84-8b51-4879-94da-c50e657f9fa6",
   "metadata": {
    "tags": []
   },
   "outputs": [
    {
     "name": "stdout",
     "output_type": "stream",
     "text": [
      "ERR2604071\n",
      "ERR2604073\n",
      "ERR2604074\n",
      "ERR2604075\n",
      "ERR2604076\n",
      "ERR2604077\n",
      "ERR2604078\n",
      "ERR2604079\n",
      "ERR2604080\n",
      "ERR2604081\n",
      "ERR2604082\n",
      "ERR2604083\n",
      "ERR2604084\n",
      "ERR2604085\n",
      "ERR2604086\n",
      "ERR2604087\n",
      "ERR2604088\n",
      "ERR2604090\n",
      "ERR2604091\n",
      "ERR2604092\n",
      "ERR2604093\n",
      "ERR2604094\n",
      "ERR2604095\n",
      "ERR2604096\n",
      "ERR2604097\n",
      "ERR2604098\n",
      "ERR2604099\n",
      "ERR2604100\n",
      "ERR2604101\n",
      "ERR2604102\n",
      "ERR2604103\n",
      "ERR2604104\n",
      "ERR2604105\n",
      "ERR2604106\n",
      "ERR2604107\n",
      "ERR2604108\n",
      "ERR2604109\n",
      "ERR2604110\n"
     ]
    }
   ],
   "source": [
    "%%bash\n",
    "\n",
    "ls ${WORKDIR}/outputs/antismash/"
   ]
  },
  {
   "cell_type": "markdown",
   "id": "6635411a-d5af-41f0-b4c5-f8d5bcc06215",
   "metadata": {
    "tags": []
   },
   "source": [
    "<a id='section2'></a>\n",
    "**2. Compute BGC class abundances**"
   ]
  },
  {
   "cell_type": "markdown",
   "id": "5d9598fa-b705-4b92-8df4-1a626bf8715e",
   "metadata": {},
   "source": [
    "To do this, let's first create a directory where we will put the concatenated BGC gbk and the bam mapping files.  "
   ]
  },
  {
   "cell_type": "code",
   "execution_count": 5,
   "id": "4701455e-5c0a-4ce3-92ef-b723b67ea684",
   "metadata": {
    "tags": []
   },
   "outputs": [],
   "source": [
    "%%bash\n",
    "# mkdir ${WORKDIR}/outputs/bgc_abund\n",
    "\n",
    "ls -d ${WORKDIR}/outputs/antismash/ERR* | \\\n",
    "while read LINE; do\n",
    "  SAMPLE=$(basename \"${LINE}\")\n",
    "  cat \"${LINE}\"/scaffolds/\"${SAMPLE}\"*.region*.gbk > \"${WORKDIR}\"/outputs/bgc_abund/\"${SAMPLE}\".gbk\n",
    "done\n"
   ]
  },
  {
   "cell_type": "markdown",
   "id": "0a851173-72f9-498d-9347-869a7a0c707b",
   "metadata": {
    "tags": []
   },
   "source": [
    "Now we can run our custom scripts [get_cov.py](https://github.com/pereiramemo/bioprospecting/blob/main/aux_scripts/get_cov.py).  "
   ]
  },
  {
   "cell_type": "code",
   "execution_count": 6,
   "id": "d79072c7-5b4e-4b7b-8e32-b862384f6f5e",
   "metadata": {
    "tags": []
   },
   "outputs": [],
   "source": [
    "%%bash\n",
    "\n",
    "ls \"${WORKDIR}\"/outputs/bgc_abund/*.gbk | \\\n",
    "while read LINE; do\n",
    "\n",
    "  SAMPLE=$(basename \"${LINE}\" .gbk)\n",
    "  \n",
    "  \"${REPO}\"/aux_scripts/get_cov.py \\\n",
    "  --input_gbk \"${WORKDIR}\"/outputs/bgc_abund/\"${SAMPLE}\".gbk \\\n",
    "  --input_bam \"${WORKDIR}\"/data/sola/\"${SAMPLE}\"/output/mapped.sorted.bam \\\n",
    "  --sample_name \"${SAMPLE}\" \\\n",
    "  --output_tsv \"${WORKDIR}\"/outputs/bgc_abund/\"${SAMPLE}\".tsv\n",
    "\n",
    "done\n"
   ]
  },
  {
   "cell_type": "code",
   "execution_count": 7,
   "id": "62dca4df-ef65-4008-9f46-54c8a0c35446",
   "metadata": {
    "tags": []
   },
   "outputs": [
    {
     "name": "stdout",
     "output_type": "stream",
     "text": [
      "ERR2604071__k119_144067\tphosphonate\tTrue\t0\t6932\t1.0418349682631276\tERR2604071\t\n",
      "ERR2604071__k119_154594\tbetalactone\tTrue\t0\t11920\t1.014010067114094\tERR2604071\t\n",
      "ERR2604071__k119_29665\tresorcinol\tTrue\t0\t6522\t1.0111928856179087\tERR2604071\t\n",
      "ERR2604071__k119_29813\tterpene\tTrue\t0\t12578\t1.02146605183654\tERR2604071\t\n",
      "ERR2604071__k119_50764\tterpene\tTrue\t0\t6293\t1.034164945177181\tERR2604071\t\n",
      "ERR2604071__k119_63513\tterpene\tTrue\t0\t10997\t1.0230972083295444\tERR2604071\t\n",
      "ERR2604071__k119_65188\tterpene\tTrue\t0\t13915\t1.0409629895795904\tERR2604071\t\n"
     ]
    }
   ],
   "source": [
    "%%bash\n",
    "\n",
    "head \"${WORKDIR}\"/outputs/bgc_abund/ERR2604071.tsv"
   ]
  },
  {
   "cell_type": "markdown",
   "id": "f08ec118-e216-4384-a081-747e57988694",
   "metadata": {},
   "source": [
    "We obtain a tsv file with the following fields: `scafflod id, BGC class, edge, start, end, coverage, sample`"
   ]
  },
  {
   "cell_type": "markdown",
   "id": "4b8ef9b4-d5ea-4a31-aa10-0812970e5f79",
   "metadata": {},
   "source": [
    "Let's concatenate all these files into one tsv table (sample, bgc class, coverage):"
   ]
  },
  {
   "cell_type": "code",
   "execution_count": 17,
   "id": "d3d5dcd2-2c3f-4ff3-a4e3-75cdd34c7be3",
   "metadata": {
    "tags": []
   },
   "outputs": [
    {
     "name": "stdout",
     "output_type": "stream",
     "text": [
      "ERR2604071 phosphonate 1.0418349682631276\n",
      "ERR2604071 betalactone 1.014010067114094\n",
      "ERR2604071 resorcinol 1.0111928856179087\n",
      "ERR2604071 terpene 1.02146605183654\n",
      "ERR2604071 terpene 1.034164945177181\n",
      "ERR2604071 terpene 1.0230972083295444\n",
      "ERR2604071 terpene 1.0409629895795904\n",
      "ERR2604073 terpene 1.0692621095518333\n",
      "ERR2604073 betalactone 1.0658359680119025\n",
      "ERR2604073 hserlactone 1.0689745607133492\n"
     ]
    }
   ],
   "source": [
    "%%bash\n",
    "\n",
    "cat \"${WORKDIR}\"/outputs/bgc_abund/ERR*.tsv | awk -v FS=\"\\t\" '{print $7,$2,$6}' > \"${WORKDIR}\"/outputs/bgc_abund/bgc_abund.tsv\n",
    "head \"${WORKDIR}\"/outputs/bgc_abund/bgc_abund.tsv"
   ]
  },
  {
   "cell_type": "markdown",
   "id": "718abbac-1fa2-4051-b6aa-6d53ba55fae2",
   "metadata": {},
   "source": [
    "<a id='section3'></a>\n",
    "**3. Taxonomic annotation of BGCs**"
   ]
  },
  {
   "cell_type": "markdown",
   "id": "9859a4d1-ceb1-40ea-b0d7-247c38a15091",
   "metadata": {
    "tags": []
   },
   "source": [
    "For this we will use the [MMseqs taxonomy](https://github.com/soedinglab/MMseqs2), for which we have containerized and created the corresponding run script [run_mmseqs_taxonomy.sh](https://github.com/pereiramemo/bioprospecting/blob/main/run_scripts/run_mmseqs_taxonomy.sh).  \n",
    "As a reference we will be using the [UniProtKB/Swiss-Prot](https://www.uniprot.org/uniprotkb?facets=reviewed%3Atrue&query=%2A). "
   ]
  },
  {
   "cell_type": "markdown",
   "id": "6411e68c-3a43-4dbe-b68a-d0492b245784",
   "metadata": {},
   "source": [
    "Before doing anything, we have to organize the data and select the scaffolds in which a BGC was annotated:"
   ]
  },
  {
   "cell_type": "code",
   "execution_count": 21,
   "id": "7747d8ad-bd66-41f5-8743-a44fb69d01bc",
   "metadata": {
    "tags": []
   },
   "outputs": [],
   "source": [
    "%%bash\n",
    "\n",
    "# mkdir \"${WORKDIR}\"/outputs/bgc_taxa\n",
    "\n",
    "cat \"${WORKDIR}\"/outputs/bgc_abund/ERR*.tsv | cut -f1 | sort | uniq > \"${WORKDIR}\"/outputs/bgc_taxa/ids.txt\n",
    "cat \"${WORKDIR}\"/data/sola/ERR*/output/scaffolds.fasta >  \"${WORKDIR}\"/outputs/bgc_taxa/all.fasta\n",
    "\n",
    "\"${seqtk}\" subseq \\\n",
    "\"${WORKDIR}\"/outputs/bgc_taxa/all.fasta \\\n",
    "\"${WORKDIR}\"/outputs/bgc_taxa/ids.txt > \\\n",
    "\"${WORKDIR}\"/outputs/bgc_taxa/bgc.fasta\n"
   ]
  },
  {
   "cell_type": "markdown",
   "id": "7be2fe24-7b34-4241-ad0e-08d4a314307e",
   "metadata": {},
   "source": [
    "Now we can perform the taxonomic annotation:"
   ]
  },
  {
   "cell_type": "code",
   "execution_count": 22,
   "id": "5b5a8626-a7b6-48ac-8d64-8e7c9151e185",
   "metadata": {},
   "outputs": [],
   "source": [
    "%%bash\n",
    "\n",
    "\"${REPO}\"/run_scripts/run_mmseqs_taxonomy.sh \\\n",
    "\"${WORKDIR}\"/outputs/bgc_taxa/bgc.fasta \\\n",
    "\"${WORKDIR}\"/outputs/bgc_taxa/bgc_taxa_annot \\\n",
    "--threads 40 \\\n",
    "--tax-lineage 1 \\\n",
    "-v 0\n"
   ]
  },
  {
   "cell_type": "code",
   "execution_count": 23,
   "id": "2e4442d5-fdbc-4cd5-ae38-a03f27d62e89",
   "metadata": {
    "tags": []
   },
   "outputs": [
    {
     "name": "stdout",
     "output_type": "stream",
     "text": [
      "ERR2604090__k119_185408\t1890424\torder\tSynechococcales\t26\t25\t18\t0.710\t-_cellular organisms;d_Bacteria;-_Terrabacteria group;-_Cyanobacteriota/Melainabacteria group;p_Cyanobacteriota;c_Cyanophyceae;o_Synechococcales\n",
      "ERR2604090__k119_153928\t2\tsuperkingdom\tBacteria\t9\t8\t6\t0.750\t-_cellular organisms;d_Bacteria\n",
      "ERR2604090__k119_123795\t31989\tfamily\tParacoccaceae\t4\t4\t2\t0.500\t-_cellular organisms;d_Bacteria;p_Pseudomonadota;c_Alphaproteobacteria;o_Rhodobacterales;f_Paracoccaceae\n",
      "ERR2604090__k119_131898\t1236\tclass\tGammaproteobacteria\t7\t7\t5\t0.800\t-_cellular organisms;d_Bacteria;p_Pseudomonadota;c_Gammaproteobacteria\n",
      "ERR2604090__k119_155472\t1224\tphylum\tPseudomonadota\t10\t10\t7\t0.670\t-_cellular organisms;d_Bacteria;p_Pseudomonadota\n",
      "ERR2604090__k119_52769\t131567\tno rank\tcellular organisms\t3\t3\t3\t1.000\t-_cellular organisms\n",
      "ERR2604090__k119_148185\t2\tsuperkingdom\tBacteria\t5\t5\t5\t1.000\t-_cellular organisms;d_Bacteria\n",
      "ERR2604090__k119_84479\t1224\tphylum\tPseudomonadota\t9\t9\t8\t0.880\t-_cellular organisms;d_Bacteria;p_Pseudomonadota\n",
      "ERR2604090__k119_203511\t31989\tfamily\tParacoccaceae\t40\t39\t21\t0.570\t-_cellular organisms;d_Bacteria;p_Pseudomonadota;c_Alphaproteobacteria;o_Rhodobacterales;f_Paracoccaceae\n",
      "ERR2604090__k119_195712\t49546\tfamily\tFlavobacteriaceae\t3\t3\t2\t0.670\t-_cellular organisms;d_Bacteria;-_FCB group;-_Bacteroidota/Chlorobiota group;p_Bacteroidota;c_Flavobacteriia;o_Flavobacteriales;f_Flavobacteriaceae\n"
     ]
    }
   ],
   "source": [
    "%%bash\n",
    "\n",
    "head \"${WORKDIR}\"/outputs/bgc_taxa/bgc_taxa_annot_lca.tsv"
   ]
  },
  {
   "cell_type": "markdown",
   "id": "e2cf6c94-38e7-48d4-9269-9b3704e19fc2",
   "metadata": {},
   "source": [
    "<a id='section4'></a>\n",
    "**4. Mapping BGCs onto reference Gene Cluster Families (GCFs)**"
   ]
  },
  {
   "cell_type": "markdown",
   "id": "c42888a2-1139-4204-aab5-5cbd4621af5c",
   "metadata": {},
   "source": [
    "We will use [BiG-SLICE](https://github.com/medema-group/bigslice) to map the identified BGCs onto the GCFs of [BiG-FAM database](https://bigfam.bioinformatics.nl/).  \n",
    "This tool requires the [dataset.tsv and taxonomy files](https://github.com/medema-group/bigslice/wiki/Input-folder). First the `dataset.tsv` with the following commands:  "
   ]
  },
  {
   "cell_type": "code",
   "execution_count": 28,
   "id": "33e2fc96-927e-4f41-aa35-82f57bd1be81",
   "metadata": {
    "tags": []
   },
   "outputs": [],
   "source": [
    "%%bash\n",
    "\n",
    "ls -d \"${WORKDIR}/outputs/antismash/\"ERR* | \\\n",
    "while read LINE; do\n",
    "\n",
    "  DATASET=$(basename $(ls -d ${LINE}))\n",
    "  PATH2DATASET=$(basename $(dirname ${LINE}))\"/\"\n",
    "  echo -e \"${DATASET}\\t./\\ttaxonomy/${DATASET}_taxonomy.tsv\\tdataset_${DATASET}\"\n",
    "\n",
    "done > \"${WORKDIR}/outputs/antismash/datasets.tsv\"\n"
   ]
  },
  {
   "cell_type": "markdown",
   "id": "a02e0ebb-964c-47c8-aa9f-7a29c9ccfc3f",
   "metadata": {},
   "source": [
    "Then, the `taxonomy.tsv` files utilizing our auxiliary script `crate_taxonomy.py`"
   ]
  },
  {
   "cell_type": "code",
   "execution_count": 27,
   "id": "f8b00597-3a67-4d9c-92c3-3983ecc2d514",
   "metadata": {
    "tags": []
   },
   "outputs": [],
   "source": [
    "%%bash\n",
    "\n",
    "\"${REPO}\"/aux_scripts/create_taxonomy.py \\\n",
    "--input_tsv \"${WORKDIR}\"/outputs/bgc_taxa/bgc_taxa_annot_lca.tsv \\\n",
    "--output_dir \"${WORKDIR}/outputs/antismash/taxonomy\"\n"
   ]
  },
  {
   "cell_type": "markdown",
   "id": "d0abda19-67ee-435b-99f0-fecf7c21dc15",
   "metadata": {
    "tags": []
   },
   "source": [
    "Now let's download the [BiG-FAM database](https://bigfam.bioinformatics.nl/) (this can take some time)"
   ]
  },
  {
   "cell_type": "code",
   "execution_count": 9,
   "id": "c7f84a1e-d112-46fc-8feb-63124f039bc9",
   "metadata": {
    "tags": []
   },
   "outputs": [],
   "source": [
    "%%bash\n",
    "\n",
    "# wget http://bioinformatics.nl/~kauts001/ltr/bigslice/paper_data/data/full_run_result.zip --directory-prefix  ${WORKDIR}/data/\n",
    "# unzip ${WORKDIR}/data/full_run_result.zip"
   ]
  },
  {
   "cell_type": "markdown",
   "id": "8681a31f-63dc-4561-956d-1aef2f1277aa",
   "metadata": {
    "tags": []
   },
   "source": [
    "And run [BiG-SLICE](https://github.com/medema-group/bigslice) using our containerized version:"
   ]
  },
  {
   "cell_type": "code",
   "execution_count": 30,
   "id": "bcefcf05-1e26-4fe3-a0d9-786edcf1506b",
   "metadata": {
    "tags": []
   },
   "outputs": [
    {
     "name": "stdout",
     "output_type": "stream",
     "text": [
      "pid 103's current affinity list: 0-47\n",
      "pid 103's new affinity list: 47\n",
      "pid 104's current affinity list: 0-47\n",
      "pid 104's new affinity list: 46\n",
      "pid 105's current affinity list: 0-47\n",
      "pid 105's new affinity list: 45\n",
      "pid 106's current affinity list: 0-47\n",
      "pid 106's new affinity list: 44\n",
      "pid 107's current affinity list: 0-47\n",
      "pid 107's new affinity list: 43\n",
      "pid 108's current affinity list: 0-47\n",
      "pid 108's new affinity list: 42\n",
      "pid 109's current affinity list: 0-47\n",
      "pid 109's new affinity list: 41\n",
      "pid 110's current affinity list: 0-47\n",
      "pid 110's new affinity list: 40\n",
      "pid 111's current affinity list: 0-47\n",
      "pid 111's new affinity list: 39\n",
      "pid 112's current affinity list: 0-47\n",
      "pid 112's new affinity list: 38\n",
      "pid 113's current affinity list: 0-47\n",
      "pid 113's new affinity list: 37\n",
      "pid 114's current affinity list: 0-47\n",
      "pid 114's new affinity list: 36\n",
      "pid 115's current affinity list: 0-47\n",
      "pid 115's new affinity list: 35\n",
      "pid 116's current affinity list: 0-47\n",
      "pid 116's new affinity list: 34\n",
      "pid 117's current affinity list: 0-47\n",
      "pid 117's new affinity list: 33\n",
      "pid 118's current affinity list: 0-47\n",
      "pid 118's new affinity list: 32\n",
      "pid 119's current affinity list: 0-47\n",
      "pid 119's new affinity list: 31\n",
      "pid 120's current affinity list: 0-47\n",
      "pid 120's new affinity list: 30\n",
      "pid 121's current affinity list: 0-47\n",
      "pid 121's new affinity list: 29\n",
      "pid 122's current affinity list: 0-47\n",
      "pid 122's new affinity list: 28\n",
      "pid 123's current affinity list: 0-47\n",
      "pid 123's new affinity list: 27\n",
      "pid 124's current affinity list: 0-47\n",
      "pid 124's new affinity list: 26\n",
      "pid 125's current affinity list: 0-47\n",
      "pid 125's new affinity list: 25\n",
      "pid 126's current affinity list: 0-47\n",
      "pid 126's new affinity list: 24\n",
      "pid 127's current affinity list: 0-47\n",
      "pid 127's new affinity list: 23\n",
      "pid 128's current affinity list: 0-47\n",
      "pid 128's new affinity list: 22\n",
      "pid 129's current affinity list: 0-47\n",
      "pid 129's new affinity list: 21\n",
      "pid 130's current affinity list: 0-47\n",
      "pid 130's new affinity list: 20\n",
      "pid 131's current affinity list: 0-47\n",
      "pid 131's new affinity list: 19\n",
      "pid 132's current affinity list: 0-47\n",
      "pid 132's new affinity list: 18\n",
      "pid 133's current affinity list: 0-47\n",
      "pid 133's new affinity list: 17\n",
      "pid 134's current affinity list: 0-47\n",
      "pid 134's new affinity list: 16\n",
      "pid 135's current affinity list: 0-47\n",
      "pid 135's new affinity list: 15\n",
      "pid 136's current affinity list: 0-47\n",
      "pid 136's new affinity list: 14\n",
      "pid 137's current affinity list: 0-47\n",
      "pid 137's new affinity list: 13\n",
      "pid 138's current affinity list: 0-47\n",
      "pid 138's new affinity list: 12\n",
      "pid 139's current affinity list: 0-47\n",
      "pid 139's new affinity list: 11\n",
      "pid 140's current affinity list: 0-47\n",
      "pid 140's new affinity list: 10\n",
      "pid 141's current affinity list: 0-47\n",
      "pid 141's new affinity list: 9\n",
      "pid 142's current affinity list: 0-47\n",
      "pid 142's new affinity list: 8\n",
      "pid 1's current affinity list: 0-47\n",
      "pid 1's new affinity list: 8-47\n",
      "Fetching run details...\n",
      "--run_id not specified, using Run#8...\n",
      "Parsing & inserting 745 GBKs...\n",
      "Inserted 745 BGCs!\n",
      "Preparing fasta files for hmmscans...\n",
      "Running hmmscans in parallel...\n",
      "Parsing hmmscans results...\n",
      "Preparing fasta files for subpfam_scans...\n",
      "Running subpfam_scans in parallel...\n",
      "Parsing subpfam_scans results...\n",
      "Extracting features...\n",
      "Assigning GCF membership...\n",
      "Query success! please check results via the output visualization (under 'Reports->View all reports')\n",
      "BiG-SLiCE run complete!\n"
     ]
    }
   ],
   "source": [
    "%%bash\n",
    "\n",
    "\"${REPO}\"/run_scripts/run_bigslice.sh query \\\n",
    "\"${WORKDIR}/outputs/antismash/\" \\\n",
    "\"${WORKDIR}/data/full_run_result\" \\\n",
    "--num_threads 40 \\\n",
    "--threshold_pct 0.1 \\\n",
    "--query_name SOLA\n"
   ]
  },
  {
   "cell_type": "markdown",
   "id": "c221b687-8e6c-4a36-90c5-913ae14930c7",
   "metadata": {},
   "source": [
    "We can see the results in the folder `\"${WORKDIR}/data/full_run_result\"`"
   ]
  },
  {
   "cell_type": "code",
   "execution_count": 31,
   "id": "c91ef27f-8e39-4544-b833-65c06670f129",
   "metadata": {
    "tags": []
   },
   "outputs": [
    {
     "name": "stdout",
     "output_type": "stream",
     "text": [
      "1\n",
      "reports.db\n"
     ]
    }
   ],
   "source": [
    "%%bash\n",
    "\n",
    "ls \"${WORKDIR}/data/full_run_result/reports\""
   ]
  },
  {
   "cell_type": "markdown",
   "id": "8c997e1d-40d1-450e-ac7b-172a3757e2f4",
   "metadata": {},
   "source": [
    "The main result we obtain are the SQLite databases. Although we could access these utilizing the mini web application based on Flask library, we are going to import them into an R environment to have full control of results."
   ]
  },
  {
   "cell_type": "code",
   "execution_count": 37,
   "id": "0248f43a-6e4d-4c9e-95b0-aac2d4741cfc",
   "metadata": {},
   "outputs": [
    {
     "name": "stdout",
     "output_type": "stream",
     "text": [
      "── Attaching packages ─────────────────────────────────────── tidyverse 1.3.2 ──\n",
      "✔ ggplot2 3.4.0      ✔ purrr   0.3.5 \n",
      "✔ tibble  3.1.8      ✔ dplyr   1.0.10\n",
      "✔ tidyr   1.2.1      ✔ stringr 1.5.0 \n",
      "✔ readr   2.1.3      ✔ forcats 0.5.2 \n",
      "── Conflicts ────────────────────────────────────────── tidyverse_conflicts() ──\n",
      "✖ dplyr::filter() masks stats::filter()\n",
      "✖ dplyr::lag()    masks stats::lag()\n"
     ]
    }
   ],
   "source": [
    "%%R\n",
    "\n",
    "library(RSQLite)\n",
    "library(tidyverse)\n",
    "\n",
    "conn_reports_db <- dbConnect(RSQLite::SQLite(), \"workdir/data/full_run_result/reports/1/data.db\")\n",
    "conn_data_db <- dbConnect(RSQLite::SQLite(), \"workdir/data/full_run_result/result/data.db\")"
   ]
  },
  {
   "cell_type": "code",
   "execution_count": 35,
   "id": "0d819421-810b-4f9a-9754-eaebbda83105",
   "metadata": {
    "tags": []
   },
   "outputs": [
    {
     "name": "stdout",
     "output_type": "stream",
     "text": [
      " [1] \"bgc\"             \"bgc_class\"       \"bgc_features\"    \"cds\"            \n",
      " [5] \"gcf_membership\"  \"hsp\"             \"hsp_alignment\"   \"hsp_subpfam\"    \n",
      " [9] \"schema\"          \"sqlite_sequence\"\n"
     ]
    }
   ],
   "source": [
    "%%R\n",
    "\n",
    "dbListTables(conn_reports_db)"
   ]
  },
  {
   "cell_type": "code",
   "execution_count": 38,
   "id": "aeae54f2-3eff-4d76-848d-dfce2d9cc462",
   "metadata": {
    "tags": []
   },
   "outputs": [
    {
     "name": "stdout",
     "output_type": "stream",
     "text": [
      "  gcf_id bgc_id membership_value rank\n",
      "1 244878    378         199.3951    0\n",
      "2 244878    671         199.4237    0\n",
      "3 244878    510         199.3276    0\n",
      "4 244878    201         199.3147    0\n",
      "5 244878    140         199.3254    0\n",
      "6 244878    306         199.2584    0\n"
     ]
    }
   ],
   "source": [
    "%%R\n",
    "\n",
    "dbReadTable(conn_reports_db, \"gcf_membership\") %>% head()"
   ]
  },
  {
   "cell_type": "code",
   "execution_count": 56,
   "id": "4086c611-cdff-4348-9961-87194dc4fd89",
   "metadata": {
    "tags": []
   },
   "outputs": [
    {
     "name": "stdout",
     "output_type": "stream",
     "text": [
      " [1] \"bgc\"               \"bgc_class\"         \"bgc_features\"     \n",
      " [4] \"bgc_taxonomy\"      \"cds\"               \"chem_class\"       \n",
      " [7] \"chem_subclass\"     \"chem_subclass_map\" \"clustering\"       \n",
      "[10] \"dataset\"           \"enum_bgc_type\"     \"enum_run_status\"  \n",
      "[13] \"gcf\"               \"gcf_membership\"    \"gcf_models\"       \n",
      "[16] \"hmm\"               \"hmm_db\"            \"hsp\"              \n",
      "[19] \"hsp_alignment\"     \"hsp_subpfam\"       \"run\"              \n",
      "[22] \"run_bgc_status\"    \"run_log\"           \"schema\"           \n",
      "[25] \"sqlite_sequence\"   \"subpfam\"           \"taxon\"            \n",
      "[28] \"taxon_class\"      \n"
     ]
    }
   ],
   "source": [
    "%%R\n",
    "dbListTables(conn_data_db)"
   ]
  },
  {
   "cell_type": "code",
   "execution_count": 111,
   "id": "609147a8-7fb9-445f-ad54-057100e008e6",
   "metadata": {
    "tags": []
   },
   "outputs": [
    {
     "name": "stdout",
     "output_type": "stream",
     "text": [
      "   id                       name                   orig_folder\n",
      "1   1                      mibig                     mibig_2.0\n",
      "2   2           isolate_archaeal          ncbi_archaea_genbank\n",
      "3   3 isolate_bacterial_complete ncbi_bacteria_refseq_complete\n",
      "4   4    isolate_bacterial_draft    ncbi_bacteria_refseq_draft\n",
      "5   5             isolate_fungal            ncbi_fungi_genbank\n",
      "6   6               mag_humangut                  almeida_2019\n",
      "7   7                mag_chicken              glendinning_2020\n",
      "8   8                    mag_uba                    parks_2017\n",
      "9   9                 mag_bovine                  stewart_2019\n",
      "10 10                  mag_ocean                    tully_2018\n",
      "                                                                                           description\n",
      "1                                                                             MIBiG 2.0 reference BGCs\n",
      "2                                          BGCs from Archaeal genbanks taken at 2020-02-12 03:22 UTC+1\n",
      "3                BGCs from complete/chromosome-level Bacterial refseqs taken at 2020-02-17 12:15 UTC+1\n",
      "4                    BGCs from contig/scaffold-level Bacterial refseqs taken at 2020-02-17 12:36 UTC+1\n",
      "5                    BGCs from contig/scaffold-level Bacterial refseqs taken at 2020-02-12 03:19 UTC+1\n",
      "6                  BGCs from Metagenome-assembled genomes of Unified Human Gut dataset (Almeida, 2019)\n",
      "7                 BGCs from Metagenome-assembled genomes of Chicken caecum dataset (Glendinning, 2020)\n",
      "8  BGCs from Metagenome-assembled genomes of Uncultivated Bacterial and Archaeal dataset (Parks, 2017)\n",
      "9                        BGCs from Metagenome-assembled genomes of Cow's rumen dataset (Stewart, 2019)\n",
      "10                          BGCs from Metagenome-assembled genomes of TARA ocean dataset (Tully, 2018)\n"
     ]
    }
   ],
   "source": [
    "%%R\n",
    "# dbReadTable(conn_data_db, \"dataset\")\n",
    "# dbListFields((conn_data_db, \"dataset\")\n",
    "#dbGetQuery(conn_data_db, \"SELECT * FROM gcf_membership LIMIT 10\")\n",
    "dbGetQuery(conn_data_db, \"SELECT * FROM dataset LIMIT 10\")\n",
    "\n",
    "# dbGetQuery(conn_data_db, \"SELECT name FROM bgc WHERE id \")\n",
    "\n"
   ]
  }
 ],
 "metadata": {
  "kernelspec": {
   "display_name": "Python 3 (ipykernel)",
   "language": "python",
   "name": "python3"
  },
  "language_info": {
   "codemirror_mode": {
    "name": "ipython",
    "version": 3
   },
   "file_extension": ".py",
   "mimetype": "text/x-python",
   "name": "python",
   "nbconvert_exporter": "python",
   "pygments_lexer": "ipython3",
   "version": "3.11.4"
  }
 },
 "nbformat": 4,
 "nbformat_minor": 5
}
