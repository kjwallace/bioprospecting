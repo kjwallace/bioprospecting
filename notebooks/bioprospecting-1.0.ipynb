{
 "cells": [
  {
   "cell_type": "markdown",
   "id": "49c8f402-cc0c-436f-8898-06ecc316f51a",
   "metadata": {},
   "source": [
    "## **MetaBioPros 1.0**\n",
    "\n",
    "#### This notebook integrates the metagenomic bioprospecting analysis  1.0.  \n",
    "#### The analysis included are:  \n",
    "#### 0. Set env\n",
    "#### 1. Identification of BGCs\n",
    "#### 2. Taxonnomic annotation of BGCs\n",
    "#### 3. BGC sequences mapping onto referecne Gene Cluster Families (GCFs)\n",
    "#### 4. BGCs diversity estimates, functional prediction, and novelty assessment\n",
    "\n",
    "#### **Dependencies to run this notebook (outside the tools we provide):**  \n",
    "#### [aws cli](https://aws.amazon.com/cli/)  \n",
    "#### [bash and R kernels](https://evodify.com/python-r-bash-jupyter-notebook/)  \n"
   ]
  },
  {
   "cell_type": "markdown",
   "id": "2cbc2398-db3e-4ec2-9b48-848bc6c832b8",
   "metadata": {},
   "source": [
    "**0. Set env**"
   ]
  },
  {
   "cell_type": "code",
   "execution_count": 17,
   "id": "1357053d-48e1-445e-a0de-e42f0da41828",
   "metadata": {},
   "outputs": [
    {
     "name": "stdout",
     "output_type": "stream",
     "text": [
      "The rpy2.ipython extension is already loaded. To reload it, use:\n",
      "  %reload_ext rpy2.ipython\n",
      "env: WORKDIR=workdir\n"
     ]
    }
   ],
   "source": [
    "%load_ext rpy2.ipython\n",
    "%set_env WORKDIR=workdir"
   ]
  },
  {
   "cell_type": "markdown",
   "id": "ed3a9241-fdfe-4d2d-b5ee-c5537507ad63",
   "metadata": {
    "tags": []
   },
   "source": [
    " **1. Identification of BGCs**\n",
    " \n",
    "We will be using the [SOLA metagenomic dataset](https://www.nature.com/articles/s41396-018-0158-1), already assembled with [VEBA](https://github.com/jolespin/veba).\n",
    "Let’s first get the data."
   ]
  },
  {
   "cell_type": "code",
   "execution_count": 18,
   "id": "378b0f1c-7cb4-47b0-815d-fb8ac3723414",
   "metadata": {
    "tags": []
   },
   "outputs": [],
   "source": [
    "%%bash\n",
    "mkdir -p ${WORKDIR}/data/sola\n",
    "aws s3 cp s3://newatlantis-case-studies/SOLA-samples/ ${WORKDIR}/data/sola --recursive"
   ]
  },
  {
   "cell_type": "markdown",
   "id": "54a468a9-ac35-4c38-967b-6e68bb31bef8",
   "metadata": {},
   "source": [
    "This dataset contains the assembled scaffolds (\\*.fasta) and the mapping files (\\*.bam)."
   ]
  },
  {
   "cell_type": "code",
   "execution_count": 24,
   "id": "37e84e70-3389-49d3-9fad-9049dcb70132",
   "metadata": {
    "tags": []
   },
   "outputs": [
    {
     "name": "stdout",
     "output_type": "stream",
     "text": [
      "workdir/data/sola/ERR2604071/output:\n",
      "featurecounts.tsv.gz\n",
      "mapped.sorted.bam\n",
      "mapped.sorted.bam.bai\n",
      "scaffolds.fasta\n",
      "scaffolds.fasta.1.bt2\n",
      "scaffolds.fasta.2.bt2\n",
      "scaffolds.fasta.3.bt2\n",
      "scaffolds.fasta.4.bt2\n",
      "scaffolds.fasta.rev.1.bt2\n",
      "scaffolds.fasta.rev.2.bt2\n",
      "scaffolds.fasta.saf\n"
     ]
    }
   ],
   "source": [
    "%%bash\n",
    "ls ${WORKDIR}/data/sola/ERR*/output | head -12"
   ]
  },
  {
   "cell_type": "markdown",
   "id": "cdcece54-3f7f-48fc-8bea-cd9d784a00b0",
   "metadata": {},
   "source": [
    "Now that we have the data, let's run [antisMASH](https://github.com/antismash/antismash) to identify the BGC sequences.  \n",
    "For this we will be using our wrap script [run_antismash](https://github.com/pereiramemo/bioprospecting/blob/main/run_scripts/run_antismash.sh), which runs a containerized version 6 of antiSMASH.  \n",
    "Note that there is version 7.0.0 available, but for compatibility purposes in downstream analysis, we'll use this version for now."
   ]
  },
  {
   "cell_type": "code",
   "execution_count": null,
   "id": "04c291c2-f727-4198-9941-3cf538950c62",
   "metadata": {},
   "outputs": [],
   "source": []
  }
 ],
 "metadata": {
  "kernelspec": {
   "display_name": "Python 3 (ipykernel)",
   "language": "python",
   "name": "python3"
  },
  "language_info": {
   "codemirror_mode": {
    "name": "ipython",
    "version": 3
   },
   "file_extension": ".py",
   "mimetype": "text/x-python",
   "name": "python",
   "nbconvert_exporter": "python",
   "pygments_lexer": "ipython3",
   "version": "3.11.4"
  }
 },
 "nbformat": 4,
 "nbformat_minor": 5
}
