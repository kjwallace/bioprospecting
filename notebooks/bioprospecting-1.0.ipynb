{
 "cells": [
  {
   "cell_type": "markdown",
   "id": "2a559691-c422-4708-8bc6-e28ed8ef0ebe",
   "metadata": {},
   "source": [
    "### **Bioprospecting pipeline 1.0**"
   ]
  },
  {
   "cell_type": "markdown",
   "id": "d025c6d4-b42d-4041-afb3-1b4f0ca4b208",
   "metadata": {},
   "source": [
    "#### **Introduction**"
   ]
  },
  {
   "cell_type": "markdown",
   "id": "826d270a-10de-4bf1-a519-80ab86996c51",
   "metadata": {},
   "source": [
    "A Biosynthetic Gene Cluster (BGC) can be defined as a physically clustered group of two or more genes that encode the biosynthetic enzymes of a pathway (Medema 2015). The compounds encoded by BGCs represent diverse chemical structural classes, which include among others, polyketides, peptides, oligosaccharides, terpenoids, and alkaloids. These are commonly known as natural products and are a rich source of molecule candidates for the development of pharmaceutical applications, for instance, as vitamins, antibiotics, and antifungals (Newman and Cragg 2020). In addition, from an ecological perspective, natural  product BGCs are traits with key roles for the organisms’ survival and adaptation to the environment, participating in defense, nutrient scavenging, quorum sensing, etc (Fischbach and Voigt 2010; O’Brien and Wright 2011).  \n",
    "\n",
    "The advent of new sequencing technologies and the availability of large numbers of genome sequences has boosted our capacity to mine encoded BGCs, especially from microorganisms, which are known to be highly prolific producers of natural products. As a result, genome mining has accelerated the discovery of new BGCs, positioning as a central approach to study these genomic elements (Ziemert, Alanjaryab, and Weber 2016). Metagenomics, as a culture-independent approach, offers unique opportunities to mine the natural product BGCs encoded by environmental microbial communities (Reddy 2012; Charlop-Powers 2015; Lemetre 2017; Rego 2020). However, given the long nature of these genomic elements, commonly in the order of tens of kb, their identification in metagenomic data requires exceptionally high-quality assemblies. In spite of recent advances (e.g., biosyntheticSPAdes (Meleshko 2019) and BiG-MAP (Pascal Andreu 2021)), identifying the different BGC classes in metagenomic data represents a major challenge that must be addressed to be able to expand bioprospecting endeavors (Nayfach 2021; Robinson 2021; Paoli 2022).  \n",
    "\n",
    "The workflow we will develop will capitalize on recent bioinformatic advances in BGC bioprospecting analysis to maximize the exploitation of metagenomic data. Briefly, our strategy will consist of generating metagenome assemblies, including the reconstruction of metagenome assembled genomes (MAGs), identifying BGC sequences, clustering these sequences into Gene Cluster Families (GCFs), computing the BGC coverage and GCFs abundance, and performing the functinoal and taxonomic annotation.\n",
    "In Fig. 1 we represent the implementation of this workflow."
   ]
  },
  {
   "cell_type": "markdown",
   "id": "294d4223-bb7b-4abd-8d53-895d8cc8518f",
   "metadata": {},
   "source": [
    "![Figure 1](../figures/Bioprospectig_reads_vs_assembly_dev.png)"
   ]
  },
  {
   "cell_type": "markdown",
   "id": "6fe41919-740e-484e-8de5-0b4fc0bc89e1",
   "metadata": {},
   "source": [
    "**Fig. 1**. Assembly-based bioprospecting pipeline. Metagenoimc samples are preprocessed and assembled into contigs or Metagenome Assembled Genomes (MAGs) with [VEBA](https://github.com/jolespin/veba). Subsequently, the BGCs are annotated in the assembled data utilizing [antiSMASH](https://github.com/antismash/antismash), and the identified sequences are matched against precomputed Gene Cluster Family (GCF) models of [MIBiG v3](https://mibig.secondarymetabolites.org/) utilizing the [BiG-SLICE](https://github.com/pereiramemo/bigslice) tool to determined or approximate the BGC functions (if these are placed close to known BGCs), and the biosynthetic novelty (i.e., minimum distance to a known BGC sequence). In addition, BGC sequences are taxonomically annotates with [MMseqs taxonomy](https://github.com/soedinglab/MMseqs2#taxonomy) and the unassembled short-read data is mapped on the assembled contigs (or MAGs) to compute the coverage of the BGC sequences. The outputs of the pipeline consists of the following tables: 1) The metadata table containing the functional and taxonomic annotation, and the biosynthetic novelty; 2) The BGC class abundance table; 3) The GCFs abundance tables."
   ]
  },
  {
   "cell_type": "markdown",
   "id": "c5bc0d11-6a20-4ae0-a529-ba4171454a72",
   "metadata": {},
   "source": [
    "#### **Input data**"
   ]
  },
  {
   "cell_type": "markdown",
   "id": "a021dff9-f5ab-4f40-bf98-c2db70fe2b45",
   "metadata": {},
   "source": [
    "The data we will be utilizing, as described in the figure above, are metagenomic samples previously preprocessed and assembled utilizing VEBA. For the purpose of this notebook, we will analyze 38 metagenomes of the SOLA dataset. Namenly, the input consists of assembled contigs and the mapping information (i.e., bam files)."
   ]
  }
 ],
 "metadata": {
  "kernelspec": {
   "display_name": "Python 3 (ipykernel)",
   "language": "python",
   "name": "python3"
  },
  "language_info": {
   "codemirror_mode": {
    "name": "ipython",
    "version": 3
   },
   "file_extension": ".py",
   "mimetype": "text/x-python",
   "name": "python",
   "nbconvert_exporter": "python",
   "pygments_lexer": "ipython3",
   "version": "3.11.4"
  }
 },
 "nbformat": 4,
 "nbformat_minor": 5
}
