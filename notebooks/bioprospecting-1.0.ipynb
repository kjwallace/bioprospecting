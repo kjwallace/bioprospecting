{
 "cells": [
  {
   "cell_type": "markdown",
   "id": "2a559691-c422-4708-8bc6-e28ed8ef0ebe",
   "metadata": {},
   "source": [
    "### **Bioprospecting pipeline 1.0**"
   ]
  },
  {
   "cell_type": "markdown",
   "id": "d025c6d4-b42d-4041-afb3-1b4f0ca4b208",
   "metadata": {},
   "source": [
    "***\n",
    "#### **Introduction**\n",
    "***"
   ]
  },
  {
   "cell_type": "markdown",
   "id": "826d270a-10de-4bf1-a519-80ab86996c51",
   "metadata": {},
   "source": [
    "A Biosynthetic Gene Cluster (BGC) can be defined as a physically clustered group of two or more genes that encode the biosynthetic enzymes of a pathway (Medema 2015). The compounds encoded by BGCs represent diverse chemical structural classes, which include among others, polyketides, peptides, oligosaccharides, terpenoids, and alkaloids. These are commonly known as natural products and are a rich source of molecule candidates for the development of pharmaceutical applications, for instance, as vitamins, antibiotics, and antifungals (Newman and Cragg 2020). In addition, from an ecological perspective, natural  product BGCs are traits with key roles for the organisms’ survival and adaptation to the environment, participating in defense, nutrient scavenging, quorum sensing, etc (Fischbach and Voigt 2010; O’Brien and Wright 2011).  \n",
    "\n",
    "The advent of new sequencing technologies and the availability of large numbers of genome sequences has boosted our capacity to mine encoded BGCs, especially from microorganisms, which are known to be highly prolific producers of natural products. As a result, genome mining has accelerated the discovery of new BGCs, positioning as a central approach to study these genomic elements (Ziemert, Alanjaryab, and Weber 2016). Metagenomics, as a culture-independent approach, offers unique opportunities to mine the natural product BGCs encoded by environmental microbial communities (Reddy 2012; Charlop-Powers 2015; Lemetre 2017; Rego 2020). However, given the long nature of these genomic elements, commonly in the order of tens of kb, their identification in metagenomic data requires exceptionally high-quality assemblies. In spite of recent advances (e.g., biosyntheticSPAdes (Meleshko 2019) and BiG-MAP (Pascal Andreu 2021)), identifying the different BGC classes in metagenomic data represents a major challenge that must be addressed to be able to expand bioprospecting endeavors (Nayfach 2021; Robinson 2021; Paoli 2022).  \n",
    "\n",
    "The workflow we will develop will capitalize on recent bioinformatic advances in BGC bioprospecting analysis to maximize the exploitation of metagenomic data. Briefly, our strategy will consist of generating metagenome assemblies, including the reconstruction of metagenome assembled genomes (MAGs), identifying BGC sequences, clustering these sequences into Gene Cluster Families (GCFs), computing the BGC coverage and GCFs abundance, and performing the functinoal and taxonomic annotation.\n",
    "In Fig. 1 we represent the implementation of this workflow."
   ]
  },
  {
   "cell_type": "markdown",
   "id": "6fe41919-740e-484e-8de5-0b4fc0bc89e1",
   "metadata": {},
   "source": [
    "**Fig. 1**. Assembly-based bioprospecting pipeline. Metagenoimc samples are preprocessed and assembled into contigs or Metagenome Assembled Genomes (MAGs) with [VEBA](https://github.com/jolespin/veba). Subsequently, the BGCs are annotated in the assembled data utilizing [antiSMASH](https://github.com/antismash/antismash), and the identified sequences are matched against precomputed Gene Cluster Family (GCF) models of [MIBiG v3](https://mibig.secondarymetabolites.org/) utilizing the [BiG-SLICE](https://github.com/pereiramemo/bigslice) tool to determined or approximate the BGC functions (if these are placed close to known BGCs), and the biosynthetic novelty (i.e., minimum distance to a known BGC sequence). In addition, BGC sequences are taxonomically annotates with [MMseqs taxonomy](https://github.com/soedinglab/MMseqs2#taxonomy) and the unassembled short-read data is mapped on the assembled contigs (or MAGs) to compute the coverage of the BGC sequences. The outputs of the pipeline consists of the following tables: 1) The metadata table containing the functional and taxonomic annotation, and the biosynthetic novelty; 2) The BGC class abundance table; 3) The GCFs abundance tables."
   ]
  },
  {
   "cell_type": "markdown",
   "id": "c0e6cee3-79ba-4312-8be4-e9a2f0204ac0",
   "metadata": {
    "tags": []
   },
   "source": [
    "![Figure 1](../figures/Bioprospectig_reads_vs_assembly_dev.png)"
   ]
  },
  {
   "cell_type": "markdown",
   "id": "09e2f57b-f361-4ed3-af72-860b42b571c6",
   "metadata": {},
   "source": [
    "***\n",
    "#### **Prepare the work environment**\n",
    "***"
   ]
  },
  {
   "cell_type": "code",
   "execution_count": null,
   "id": "5ad1d67a-6b22-42b6-85cc-f71c0c98e7ff",
   "metadata": {
    "tags": []
   },
   "outputs": [],
   "source": [
    "%load_ext rpy2.ipython\n",
    "%set_env WORKDIR=workdir\n",
    "%set_env REPO=/home/epereira/workspace/dev/new_atlantis/repos/bioprospecting\n",
    "%set_env seqtk=/nfs/bin/seqtk/seqtk"
   ]
  },
  {
   "cell_type": "code",
   "execution_count": null,
   "id": "7fd79a1d-cd45-4458-a5ad-8509d8eb1bd6",
   "metadata": {
    "tags": []
   },
   "outputs": [],
   "source": [
    "%%bash\n",
    "mkdir -p ${WORKDIR}/data/sola\n",
    "mkdir -p ${WORKDIR}/outputs/antismash/taxonomy\n",
    "mkdir ${WORKDIR}/outputs/bgc_abund\n",
    "mkdir ${WORKDIR}/outputs/bgc_taxa"
   ]
  },
  {
   "cell_type": "markdown",
   "id": "c5bc0d11-6a20-4ae0-a529-ba4171454a72",
   "metadata": {
    "tags": []
   },
   "source": [
    "***\n",
    "#### **Input data**\n",
    "***"
   ]
  },
  {
   "cell_type": "markdown",
   "id": "a021dff9-f5ab-4f40-bf98-c2db70fe2b45",
   "metadata": {},
   "source": [
    "The input data, as described in the figure above, are metagenomic samples previously preprocessed and assembled with VEBA. For the purpose of this notebook, we will analyze 38 metagenomes of the [SOLA dataset](https://pubmed.ncbi.nlm.nih.gov/29925880/). Namenly, the input consists of assembled contigs and the mapping information (i.e., bam files)."
   ]
  },
  {
   "cell_type": "markdown",
   "id": "32c01c51-eae7-41b9-be71-045d6b954783",
   "metadata": {},
   "source": [
    "We can download the data from the New Atlantis Cloud Lab.  "
   ]
  },
  {
   "cell_type": "code",
   "execution_count": null,
   "id": "3b9b0678-1e9f-401a-915f-ac85d0681011",
   "metadata": {},
   "outputs": [],
   "source": [
    "%%bash\n",
    "\n",
    "# aws s3 cp s3://newatlantis-case-studies/SOLA-samples/ ${WORKDIR}/data/sola --recursive\n",
    "# aws s3 cp s3://newatlantis-case-studies/mibig_gcf_models/ ${WORKDIR}/data/mibig_gcf_models --recursive\n"
   ]
  },
  {
   "cell_type": "markdown",
   "id": "6e6ceba1-b58b-47ff-ab7d-35ee077085c3",
   "metadata": {},
   "source": [
    "***\n",
    "#### **1) Identify BGC sequences**\n",
    "***"
   ]
  },
  {
   "cell_type": "markdown",
   "id": "d24e870e-fc37-4b9f-9833-97089a78619f",
   "metadata": {
    "tags": []
   },
   "source": [
    "For this we will be using our wrap script [run_antismash](https://github.com/pereiramemo/bioprospecting/blob/main/run_scripts/run_antismash.sh), which runs a our container of antiSMASH.  "
   ]
  },
  {
   "cell_type": "code",
   "execution_count": null,
   "id": "86ab3b68-8fbb-4122-9774-4abac459ea46",
   "metadata": {
    "tags": []
   },
   "outputs": [],
   "source": [
    "%%bash\n",
    "\n",
    "SCAFFOLDS=$(ls ${WORKDIR}/data/sola/ERR*/output/scaffolds.fasta)\n",
    "for SCAFFOLD in ${SCAFFOLDS}; do\n",
    "  SAMPLE_NAME=$(echo \"${SCAFFOLD}\" | sed \"s/.*\\(ERR[0-9]\\+\\)\\/output.*/\\1/\");\n",
    "  OUTPUT_DIR=\"${WORKDIR}/outputs/antismash/${SAMPLE_NAME}\";\n",
    "  \"${REPO}\"/run_scripts/run_antismash.sh \"${SCAFFOLD}\" \"${OUTPUT_DIR}\" \\\n",
    "  --cpus 40 \\\n",
    "  --genefinding-tool prodigal-m \\\n",
    "  --taxon bacteria \\\n",
    "  --allow-long-headers \\\n",
    "  --minlength 5000;\n",
    "done"
   ]
  },
  {
   "cell_type": "markdown",
   "id": "e7239d7b-378f-4567-a24b-b4827a1c6d9b",
   "metadata": {
    "tags": []
   },
   "source": [
    "***\n",
    "#### **2) Taxonomic annotation of BGCs**\n",
    "***"
   ]
  },
  {
   "cell_type": "markdown",
   "id": "fc20c69f-188f-4d9e-8aa9-46c3528111e8",
   "metadata": {
    "tags": []
   },
   "source": [
    "For this we will use out script [run_mmseqs_taxonomy.sh](https://github.com/pereiramemo/bioprospecting/blob/main/run_scripts/run_mmseqs_taxonomy.sh), which runs a container of [MMseqs](https://github.com/soedinglab/MMseqs2), utilizing [UniProtKB/Swiss-Prot](https://www.uniprot.org/uniprotkb?facets=reviewed%3Atrue&query=%2A) as the refrence database."
   ]
  },
  {
   "cell_type": "markdown",
   "id": "6e538329-651a-46e5-8871-6d2e5373c223",
   "metadata": {},
   "source": [
    "Before doing anything, we have to organize the data and select the scaffolds in which a BGC was annotated:"
   ]
  },
  {
   "cell_type": "code",
   "execution_count": null,
   "id": "1f92398c-f805-4443-b36e-54304f7a57b1",
   "metadata": {},
   "outputs": [],
   "source": [
    "%%bash\n",
    "cat \"${WORKDIR}\"/outputs/bgc_abund/ERR*.tsv | cut -f1 | sort | uniq > \"${WORKDIR}\"/outputs/bgc_taxa/ids.txt\n",
    "cat \"${WORKDIR}\"/data/sola/ERR*/output/scaffolds.fasta >  \"${WORKDIR}\"/outputs/bgc_taxa/all.fasta\n",
    "\"${seqtk}\" subseq \\\n",
    "\"${WORKDIR}\"/outputs/bgc_taxa/all.fasta \\\n",
    "\"${WORKDIR}\"/outputs/bgc_taxa/ids.txt > \\\n",
    "\"${WORKDIR}\"/outputs/bgc_taxa/bgc.fasta"
   ]
  },
  {
   "cell_type": "markdown",
   "id": "4ba53cb8-2a9c-4c35-bf07-f912cacc3f83",
   "metadata": {},
   "source": [
    "Now we can perform the taxonomic annotation."
   ]
  },
  {
   "cell_type": "code",
   "execution_count": null,
   "id": "e0559b24-1293-4120-9238-a06869d83918",
   "metadata": {},
   "outputs": [],
   "source": [
    "%%bash\n",
    "\n",
    "\"${REPO}\"/run_scripts/run_mmseqs_taxonomy.sh \\\n",
    "\"${WORKDIR}\"/outputs/bgc_taxa/bgc.fasta \\\n",
    "\"${WORKDIR}\"/outputs/bgc_taxa/bgc_taxa_annot \\\n",
    "--threads 40 \\\n",
    "--tax-lineage 1 \\\n",
    "-v 0"
   ]
  },
  {
   "cell_type": "markdown",
   "id": "c5df6858-0174-4442-b597-2d6b6453b092",
   "metadata": {},
   "source": [
    "Lastly, we will format the taxonomic datatable to make it more suitable for downstream analyses."
   ]
  },
  {
   "cell_type": "code",
   "execution_count": null,
   "id": "18add4f4-1d12-4308-89be-c18a77e9f78a",
   "metadata": {
    "tags": []
   },
   "outputs": [],
   "source": [
    "%%bash\n",
    "\n",
    "gawk -v FS=\"\\t\" -v OFS=\"\\t\" '{\n",
    "  seq_id = $1; tax_level = $3; tax_path = $9;\n",
    "  sample = gensub(/__.*/,\"\",\"g\", seq_id);\n",
    "  print sample,seq_id,tax_level,tax_path\n",
    "  }' \"${WORKDIR}\"/outputs/bgc_taxa/bgc_taxa_annot_lca.tsv > \\\n",
    "  \"${WORKDIR}\"/outputs/bgc_taxa/bgc_taxa_annot_lca_formatted.tsv"
   ]
  },
  {
   "cell_type": "markdown",
   "id": "4ffbebfd-8fa6-45e4-88fc-f6e8b3ff9960",
   "metadata": {},
   "source": [
    "***\n",
    "#### **3) BGC mapping**\n",
    "***"
   ]
  },
  {
   "cell_type": "markdown",
   "id": "1a05e3ed-dddb-4bb9-b037-2b4ff30a2a08",
   "metadata": {},
   "source": [
    "Here we will assess how similiar are our BGC sequences found in the metagenomic samples in relation to knonw BGC sequences.  \n",
    "For this anlaysis we will run the [BiG-SLICE](https://github.com/pereiramemo/bigslice) to map our BGCs against (prevoulsy constructed) GCF models of the [MIBiG database V3](https://mibig.secondarymetabolites.org/)."
   ]
  },
  {
   "cell_type": "markdown",
   "id": "3ea3739b-91c6-41ea-bb85-bf908546807e",
   "metadata": {},
   "source": [
    "To be able to run [BiG-SLICE](https://github.com/pereiramemo/bigslice) we have to format the input properly, that is, creating the [dataset.tsv and taxonomy files](https://github.com/medema-group/bigslice/wiki/Input-folder). "
   ]
  },
  {
   "cell_type": "code",
   "execution_count": null,
   "id": "13e0e85b-3c4d-4cc5-a8e6-0f42383e7ba0",
   "metadata": {
    "tags": []
   },
   "outputs": [],
   "source": [
    "%%bash\n",
    "\n",
    "ls -d \"${WORKDIR}/outputs/antismash/\"ERR* | \\\n",
    "while read LINE; do\n",
    "  DATASET=$(basename $(ls -d ${LINE}))\n",
    "  PATH2DATASET=$(basename $(dirname ${LINE}))\"/\"\n",
    "  echo -e \"${DATASET}\\t./\\ttaxonomy/${DATASET}_taxonomy.tsv\\tdataset_${DATASET}\"\n",
    "done > \"${WORKDIR}/outputs/antismash/datasets.tsv\"\n",
    "\n",
    "ls \"${WORKDIR}/outputs/antismash/\"ERR*/scaffolds/ERR*region*.gbk | \\\n",
    "while read LINE; do\n",
    "  DATASET=$(basename ${LINE/__k*.region*.gbk//})\n",
    "  SEQID=$(basename ${LINE/.region*.gbk//})\n",
    "  OUTPUT_FILE=\"${WORKDIR}/outputs/antismash/taxonomy/${DATASET}_taxonomy.tsv\"\n",
    "  echo -e \"${SEQID}\\tBacteria\" >> \"${OUTPUT_FILE}\"\n",
    "done"
   ]
  },
  {
   "cell_type": "markdown",
   "id": "881dbd6a-0421-4506-b465-68b9dcdd310b",
   "metadata": {},
   "source": [
    "Now we do the mapping."
   ]
  },
  {
   "cell_type": "code",
   "execution_count": null,
   "id": "ba0701fb-e3c6-4efe-af4e-0b64def9bf07",
   "metadata": {},
   "outputs": [],
   "source": [
    "%%bash\n",
    "\n",
    "\"${REPO}\"/run_scripts/run_bigslice.sh query \\\n",
    "\"${WORKDIR}/outputs/antismash/\" \\\n",
    "\"${WORKDIR}/data/mibig_gcf_models/\" \\\n",
    "--num_threads 40 \\\n",
    "--threshold_pct 0.1 \\\n",
    "--query_name SOLA"
   ]
  },
  {
   "cell_type": "markdown",
   "id": "63411a65-c755-4e81-9166-bb2ddf228921",
   "metadata": {},
   "source": [
    "***\n",
    "#### **4) BGC clustering**\n",
    "***"
   ]
  },
  {
   "cell_type": "markdown",
   "id": "538e1c29-9737-4861-ab5f-533ead4eb496",
   "metadata": {
    "tags": []
   },
   "source": [
    "Here again will use [BiG-SLICE](https://github.com/medema-group/bigslice), this time to cluster our BGC sequences into Gene Cluster Families (GCFs).  "
   ]
  },
  {
   "cell_type": "code",
   "execution_count": null,
   "id": "49a1789d-59bc-40f7-9f4c-2111437ab8a4",
   "metadata": {},
   "outputs": [],
   "source": [
    "%%bash\n",
    "\n",
    "\"${REPO}\"/run_scripts/run_bigslice.sh cluster \\\n",
    "\"${WORKDIR}/outputs/antismash/\" \\\n",
    "\"${WORKDIR}/outputs/sola_clust/\" \\\n",
    "--num_threads 40 \\\n",
    "--threshold_pct 0.1"
   ]
  },
  {
   "cell_type": "markdown",
   "id": "c6a56db3-9439-4e64-8dec-7d14d0093760",
   "metadata": {
    "tags": []
   },
   "source": [
    "***\n",
    "#### **5) Compute coverage**\n",
    "***"
   ]
  },
  {
   "cell_type": "markdown",
   "id": "22decfac-21ed-41a0-a089-deebc774fd0b",
   "metadata": {},
   "source": [
    "To do this, let's we will first concatenat all BGC gbk files from each metagenomic sample.  "
   ]
  },
  {
   "cell_type": "code",
   "execution_count": null,
   "id": "0edf4a0e-7c4a-48fc-b34d-bc2bb60ccdad",
   "metadata": {},
   "outputs": [],
   "source": [
    "%%bash\n",
    "\n",
    "ls -d ${WORKDIR}/outputs/antismash/ERR* | \\\n",
    "while read LINE; do\n",
    "  SAMPLE=$(basename \"${LINE}\")\n",
    "  cat \"${LINE}\"/scaffolds/\"${SAMPLE}\"*.region*.gbk > \"${WORKDIR}\"/outputs/bgc_abund/\"${SAMPLE}\".gbk\n",
    "done"
   ]
  },
  {
   "cell_type": "markdown",
   "id": "0e9bc081-9c69-43a2-b3b1-a08ee3570b56",
   "metadata": {},
   "source": [
    "Now we can run our custom scripts [get_cov.py](https://github.com/pereiramemo/bioprospecting/blob/main/aux_scripts/get_cov.py) to compute the coverage of each BGC."
   ]
  },
  {
   "cell_type": "code",
   "execution_count": null,
   "id": "998fb1b2-aa1a-4f0f-a680-0754df77487f",
   "metadata": {
    "tags": []
   },
   "outputs": [],
   "source": [
    "%%bash\n",
    "\n",
    "ls \"${WORKDIR}\"/outputs/bgc_abund/*.gbk | \\\n",
    "while read LINE; do\n",
    "  SAMPLE=$(basename \"${LINE}\" .gbk)\n",
    "  \"${REPO}\"/aux_scripts/get_cov.py \\\n",
    "  --input_gbk \"${WORKDIR}\"/outputs/bgc_abund/\"${SAMPLE}\".gbk \\\n",
    "  --input_bam \"${WORKDIR}\"/data/sola/\"${SAMPLE}\"/output/mapped.sorted.bam \\\n",
    "  --sample_name \"${SAMPLE}\" \\\n",
    "  --output_tsv \"${WORKDIR}\"/outputs/bgc_abund/\"${SAMPLE}\".tsv\n",
    "done\n",
    "\n",
    "cat \"${WORKDIR}\"/outputs/bgc_abund/ERR*.tsv  > \"${WORKDIR}\"/outputs/bgc_abund/bgc_abund.tsv"
   ]
  },
  {
   "cell_type": "code",
   "execution_count": null,
   "id": "9e452849-cf07-4460-800d-c7871adef802",
   "metadata": {},
   "outputs": [],
   "source": [
    "***\n",
    "#### **5) Compute coverage**\n",
    "***"
   ]
  }
 ],
 "metadata": {
  "kernelspec": {
   "display_name": "Python 3 (ipykernel)",
   "language": "python",
   "name": "python3"
  },
  "language_info": {
   "codemirror_mode": {
    "name": "ipython",
    "version": 3
   },
   "file_extension": ".py",
   "mimetype": "text/x-python",
   "name": "python",
   "nbconvert_exporter": "python",
   "pygments_lexer": "ipython3",
   "version": "3.11.4"
  }
 },
 "nbformat": 4,
 "nbformat_minor": 5
}
