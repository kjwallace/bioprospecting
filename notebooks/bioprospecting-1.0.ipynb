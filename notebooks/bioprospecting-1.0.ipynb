{
 "cells": [
  {
   "cell_type": "markdown",
   "id": "2a559691-c422-4708-8bc6-e28ed8ef0ebe",
   "metadata": {},
   "source": [
    "### **Bioprospecting pipeline 1.0**"
   ]
  },
  {
   "cell_type": "markdown",
   "id": "d025c6d4-b42d-4041-afb3-1b4f0ca4b208",
   "metadata": {},
   "source": [
    "***\n",
    "#### **Introduction**\n",
    "***"
   ]
  },
  {
   "cell_type": "markdown",
   "id": "826d270a-10de-4bf1-a519-80ab86996c51",
   "metadata": {},
   "source": [
    "A Biosynthetic Gene Cluster (BGC) can be defined as a physically clustered group of two or more genes that encode the biosynthetic enzymes of a pathway (Medema 2015). The compounds encoded by BGCs represent diverse chemical structural classes, which include among others, polyketides, peptides, oligosaccharides, terpenoids, and alkaloids. These are commonly known as natural products and are a rich source of molecule candidates for the development of pharmaceutical applications, for instance, as vitamins, antibiotics, and antifungals (Newman and Cragg 2020). In addition, from an ecological perspective, natural  product BGCs are traits with key roles for the organisms’ survival and adaptation to the environment, participating in defense, nutrient scavenging, quorum sensing, etc (Fischbach and Voigt 2010; O’Brien and Wright 2011).  \n",
    "\n",
    "The advent of new sequencing technologies and the availability of large numbers of genome sequences has boosted our capacity to mine encoded BGCs, especially from microorganisms, which are known to be highly prolific producers of natural products. As a result, genome mining has accelerated the discovery of new BGCs, positioning as a central approach to study these genomic elements (Ziemert, Alanjaryab, and Weber 2016). Metagenomics, as a culture-independent approach, offers unique opportunities to mine the natural product BGCs encoded by environmental microbial communities (Reddy 2012; Charlop-Powers 2015; Lemetre 2017; Rego 2020). However, given the long nature of these genomic elements, commonly in the order of tens of kb, their identification in metagenomic data requires exceptionally high-quality assemblies. In spite of recent advances (e.g., biosyntheticSPAdes (Meleshko 2019) and BiG-MAP (Pascal Andreu 2021)), identifying the different BGC classes in metagenomic data represents a major challenge that must be addressed to be able to expand bioprospecting endeavors (Nayfach 2021; Robinson 2021; Paoli 2022).  \n",
    "\n",
    "The workflow we will develop will capitalize on recent bioinformatic advances in BGC bioprospecting analysis to maximize the exploitation of metagenomic data. Briefly, our strategy will consist of generating metagenome assemblies, including the reconstruction of metagenome assembled genomes (MAGs), identifying BGC sequences, clustering these sequences into Gene Cluster Families (GCFs), computing the BGC coverage and GCFs abundance, and performing the functinoal and taxonomic annotation.\n",
    "In Fig. 1 we represent the implementation of this workflow."
   ]
  },
  {
   "cell_type": "markdown",
   "id": "c0e6cee3-79ba-4312-8be4-e9a2f0204ac0",
   "metadata": {
    "tags": []
   },
   "source": [
    "![Figure 1](../figures/Bioprospectig_reads_vs_assembly_dev.png)"
   ]
  },
  {
   "cell_type": "markdown",
   "id": "6fe41919-740e-484e-8de5-0b4fc0bc89e1",
   "metadata": {},
   "source": [
    "**Fig. 1**. Assembly-based bioprospecting pipeline. The input data consists of metagenomic samples previously preprocessed and assembled utilizing [VEBA](https://github.com/jolespin/veba). The pipeline is organized in the following tasks. **1) Identify BGC sequences:** the BGCs are annotated in the assembled metagenomic data utilizing [antiSMASH](https://github.com/antismash/antismash); **2) Taxonomic annotation:** the metagenomic contigs containing BGC sequences are taxonomically annotated utilizing [MMseqs taxonomy](https://github.com/soedinglab/MMseqs2#taxonomy) and the reference database [UniRef100](https://www.uniprot.org/help/uniref); **3) BGC mapping:** the metagenomic BGC sequences are mapped against (previously constructed) Gene Cluster Family (GCF) models of the MIBiG database v3 [MIBiG v3](https://mibig.secondarymetabolites.org/) utilizing [BiG-SLICE](https://github.com/pereiramemo/bigslice); **4) BGC clustering:** the metagenomic BGC sequences are clustered into GCFs with [BiG-SLICE](https://github.com/pereiramemo/bigslice); **5) Compute coverage:** the coverage of the metagenomic contigs, previously computed with [VEBA](https://github.com/jolespin/veba), is utilized to determine the coverage of the BGC sequences. The output of the pipeline consists of the following tables: 1) The metadata table containing the functional and taxonomic annotation, and the biosynthetic novelty; 2) The BGC class abundance table; 3) The GCFs abundance tables."
   ]
  },
  {
   "cell_type": "markdown",
   "id": "09e2f57b-f361-4ed3-af72-860b42b571c6",
   "metadata": {},
   "source": [
    "***\n",
    "#### **Prepare the work environment**\n",
    "***"
   ]
  },
  {
   "cell_type": "code",
   "execution_count": 2,
   "id": "5ad1d67a-6b22-42b6-85cc-f71c0c98e7ff",
   "metadata": {
    "tags": []
   },
   "outputs": [
    {
     "name": "stdout",
     "output_type": "stream",
     "text": [
      "env: WORKDIR=workdir\n",
      "env: REPO=/home/epereira/workspace/dev/new_atlantis/repos/bioprospecting\n",
      "env: seqtk=/nfs/bin/seqtk/seqtk\n"
     ]
    }
   ],
   "source": [
    "%load_ext rpy2.ipython\n",
    "%set_env WORKDIR=workdir\n",
    "%set_env REPO=/home/epereira/workspace/dev/new_atlantis/repos/bioprospecting\n",
    "%set_env seqtk=/nfs/bin/seqtk/seqtk"
   ]
  },
  {
   "cell_type": "code",
   "execution_count": null,
   "id": "7fd79a1d-cd45-4458-a5ad-8509d8eb1bd6",
   "metadata": {
    "tags": []
   },
   "outputs": [],
   "source": [
    "%%bash\n",
    "mkdir -p ${WORKDIR}/data/sola\n",
    "mkdir -p ${WORKDIR}/outputs/antismash/taxonomy\n",
    "mkdir ${WORKDIR}/outputs/bgc_abund\n",
    "mkdir ${WORKDIR}/outputs/bgc_taxa\n",
    "mkdir ${WORKDIR}/outputs/tables\n"
   ]
  },
  {
   "cell_type": "markdown",
   "id": "c5bc0d11-6a20-4ae0-a529-ba4171454a72",
   "metadata": {
    "tags": []
   },
   "source": [
    "***\n",
    "#### **Input data**\n",
    "***"
   ]
  },
  {
   "cell_type": "markdown",
   "id": "a021dff9-f5ab-4f40-bf98-c2db70fe2b45",
   "metadata": {},
   "source": [
    "The input data, as described in the figure above, are metagenomic samples previously preprocessed and assembled with VEBA. For the purpose of this notebook, we will analyze 38 metagenomes of the [SOLA dataset](https://pubmed.ncbi.nlm.nih.gov/29925880/). Namenly, the input consists of assembled contigs and the mapping information (i.e., bam files)."
   ]
  },
  {
   "cell_type": "markdown",
   "id": "32c01c51-eae7-41b9-be71-045d6b954783",
   "metadata": {},
   "source": [
    "We can download the data from the New Atlantis Cloud Lab.  "
   ]
  },
  {
   "cell_type": "code",
   "execution_count": null,
   "id": "3b9b0678-1e9f-401a-915f-ac85d0681011",
   "metadata": {},
   "outputs": [],
   "source": [
    "%%bash\n",
    "\n",
    "# aws s3 cp s3://newatlantis-case-studies/SOLA-samples/ ${WORKDIR}/data/sola --recursive\n",
    "# aws s3 cp s3://newatlantis-case-studies/mibig_gcf_models/ ${WORKDIR}/data/mibig_gcf_models --recursive\n"
   ]
  },
  {
   "cell_type": "markdown",
   "id": "6e6ceba1-b58b-47ff-ab7d-35ee077085c3",
   "metadata": {},
   "source": [
    "***\n",
    "#### **1) Identify BGC sequences**\n",
    "***"
   ]
  },
  {
   "cell_type": "markdown",
   "id": "d24e870e-fc37-4b9f-9833-97089a78619f",
   "metadata": {
    "tags": []
   },
   "source": [
    "For this we will be using our wrap script [run_antismash](https://github.com/pereiramemo/bioprospecting/blob/main/run_scripts/run_antismash.sh), which runs a our container of antiSMASH.  "
   ]
  },
  {
   "cell_type": "code",
   "execution_count": null,
   "id": "86ab3b68-8fbb-4122-9774-4abac459ea46",
   "metadata": {
    "tags": []
   },
   "outputs": [],
   "source": [
    "%%bash\n",
    "\n",
    "SCAFFOLDS=$(ls ${WORKDIR}/data/sola/ERR*/output/scaffolds.fasta)\n",
    "for SCAFFOLD in ${SCAFFOLDS}; do\n",
    "  SAMPLE_NAME=$(echo \"${SCAFFOLD}\" | sed \"s/.*\\(ERR[0-9]\\+\\)\\/output.*/\\1/\");\n",
    "  OUTPUT_DIR=\"${WORKDIR}/outputs/antismash/${SAMPLE_NAME}\";\n",
    "  \"${REPO}\"/run_scripts/run_antismash.sh \"${SCAFFOLD}\" \"${OUTPUT_DIR}\" \\\n",
    "  --cpus 40 \\\n",
    "  --genefinding-tool prodigal-m \\\n",
    "  --taxon bacteria \\\n",
    "  --allow-long-headers \\\n",
    "  --minlength 5000;\n",
    "done"
   ]
  },
  {
   "cell_type": "markdown",
   "id": "e7239d7b-378f-4567-a24b-b4827a1c6d9b",
   "metadata": {
    "tags": []
   },
   "source": [
    "***\n",
    "#### **2) Taxonomic annotation of BGCs**\n",
    "***"
   ]
  },
  {
   "cell_type": "markdown",
   "id": "fc20c69f-188f-4d9e-8aa9-46c3528111e8",
   "metadata": {
    "tags": []
   },
   "source": [
    "For this we will use out script [run_mmseqs_taxonomy.sh](https://github.com/pereiramemo/bioprospecting/blob/main/run_scripts/run_mmseqs_taxonomy.sh), which runs a container of [MMseqs](https://github.com/soedinglab/MMseqs2), utilizing [UniProtKB/Swiss-Prot](https://www.uniprot.org/uniprotkb?facets=reviewed%3Atrue&query=%2A) as the refrence database."
   ]
  },
  {
   "cell_type": "markdown",
   "id": "6e538329-651a-46e5-8871-6d2e5373c223",
   "metadata": {},
   "source": [
    "Before doing anything, we have to organize the data and select the scaffolds in which a BGC was annotated:"
   ]
  },
  {
   "cell_type": "code",
   "execution_count": null,
   "id": "1f92398c-f805-4443-b36e-54304f7a57b1",
   "metadata": {},
   "outputs": [],
   "source": [
    "%%bash\n",
    "cat \"${WORKDIR}\"/outputs/bgc_abund/ERR*.tsv | cut -f1 | sort | uniq > \"${WORKDIR}\"/outputs/bgc_taxa/ids.txt\n",
    "cat \"${WORKDIR}\"/data/sola/ERR*/output/scaffolds.fasta >  \"${WORKDIR}\"/outputs/bgc_taxa/all.fasta\n",
    "\"${seqtk}\" subseq \\\n",
    "\"${WORKDIR}\"/outputs/bgc_taxa/all.fasta \\\n",
    "\"${WORKDIR}\"/outputs/bgc_taxa/ids.txt > \\\n",
    "\"${WORKDIR}\"/outputs/bgc_taxa/bgc.fasta"
   ]
  },
  {
   "cell_type": "markdown",
   "id": "4ba53cb8-2a9c-4c35-bf07-f912cacc3f83",
   "metadata": {},
   "source": [
    "Now we can perform the taxonomic annotation."
   ]
  },
  {
   "cell_type": "code",
   "execution_count": null,
   "id": "e0559b24-1293-4120-9238-a06869d83918",
   "metadata": {},
   "outputs": [],
   "source": [
    "%%bash\n",
    "\n",
    "\"${REPO}\"/run_scripts/run_mmseqs_taxonomy.sh \\\n",
    "\"${WORKDIR}\"/outputs/bgc_taxa/bgc.fasta \\\n",
    "\"${WORKDIR}\"/outputs/bgc_taxa/bgc_taxa_annot \\\n",
    "--threads 40 \\\n",
    "--tax-lineage 1 \\\n",
    "-v 0"
   ]
  },
  {
   "cell_type": "markdown",
   "id": "c5df6858-0174-4442-b597-2d6b6453b092",
   "metadata": {},
   "source": [
    "Lastly, we will format the taxonomic datatable to make it more suitable for downstream analyses."
   ]
  },
  {
   "cell_type": "code",
   "execution_count": null,
   "id": "18add4f4-1d12-4308-89be-c18a77e9f78a",
   "metadata": {
    "tags": []
   },
   "outputs": [],
   "source": [
    "%%bash\n",
    "\n",
    "gawk -v FS=\"\\t\" -v OFS=\"\\t\" '{\n",
    "  seq_id = $1; tax_level = $3; tax_path = $9;\n",
    "  sample = gensub(/__.*/,\"\",\"g\", seq_id);\n",
    "  print sample,seq_id,tax_level,tax_path\n",
    "  }' \"${WORKDIR}\"/outputs/bgc_taxa/bgc_taxa_annot_lca.tsv > \\\n",
    "  \"${WORKDIR}\"/outputs/bgc_taxa/bgc_taxa_annot_lca_formatted.tsv"
   ]
  },
  {
   "cell_type": "markdown",
   "id": "4ffbebfd-8fa6-45e4-88fc-f6e8b3ff9960",
   "metadata": {},
   "source": [
    "***\n",
    "#### **3) BGC mapping**\n",
    "***"
   ]
  },
  {
   "cell_type": "markdown",
   "id": "1a05e3ed-dddb-4bb9-b037-2b4ff30a2a08",
   "metadata": {},
   "source": [
    "Here we will assess how similiar are our BGC sequences found in the metagenomic samples in relation to knonw BGC sequences.  \n",
    "For this anlaysis we will run the [BiG-SLICE](https://github.com/pereiramemo/bigslice) to map our BGCs against (prevoulsy constructed) GCF models of the [MIBiG database V3](https://mibig.secondarymetabolites.org/)."
   ]
  },
  {
   "cell_type": "markdown",
   "id": "3ea3739b-91c6-41ea-bb85-bf908546807e",
   "metadata": {},
   "source": [
    "To be able to run [BiG-SLICE](https://github.com/pereiramemo/bigslice) we have to format the input properly, that is, creating the [dataset.tsv and taxonomy files](https://github.com/medema-group/bigslice/wiki/Input-folder). "
   ]
  },
  {
   "cell_type": "code",
   "execution_count": null,
   "id": "13e0e85b-3c4d-4cc5-a8e6-0f42383e7ba0",
   "metadata": {
    "tags": []
   },
   "outputs": [],
   "source": [
    "%%bash\n",
    "\n",
    "ls -d \"${WORKDIR}/outputs/antismash/\"ERR* | \\\n",
    "while read LINE; do\n",
    "  DATASET=$(basename $(ls -d ${LINE}))\n",
    "  PATH2DATASET=$(basename $(dirname ${LINE}))\"/\"\n",
    "  echo -e \"${DATASET}\\t./\\ttaxonomy/${DATASET}_taxonomy.tsv\\tdataset_${DATASET}\"\n",
    "done > \"${WORKDIR}/outputs/antismash/datasets.tsv\"\n",
    "\n",
    "ls \"${WORKDIR}/outputs/antismash/\"ERR*/scaffolds/ERR*region*.gbk | \\\n",
    "while read LINE; do\n",
    "  DATASET=$(basename ${LINE/__k*.region*.gbk//})\n",
    "  SEQID=$(basename ${LINE/.region*.gbk//})\n",
    "  OUTPUT_FILE=\"${WORKDIR}/outputs/antismash/taxonomy/${DATASET}_taxonomy.tsv\"\n",
    "  echo -e \"${SEQID}\\tBacteria\" >> \"${OUTPUT_FILE}\"\n",
    "done"
   ]
  },
  {
   "cell_type": "markdown",
   "id": "881dbd6a-0421-4506-b465-68b9dcdd310b",
   "metadata": {},
   "source": [
    "Now we do the mapping."
   ]
  },
  {
   "cell_type": "code",
   "execution_count": null,
   "id": "ba0701fb-e3c6-4efe-af4e-0b64def9bf07",
   "metadata": {
    "tags": []
   },
   "outputs": [],
   "source": [
    "%%bash\n",
    "\n",
    "\"${REPO}/run_scripts/run_bigslice.sh\" query \\\n",
    "\"${WORKDIR}/outputs/antismash/\" \\\n",
    "\"${WORKDIR}/data/mibig_gcf_models/\" \\\n",
    "--num_threads 40 \\\n",
    "--threshold_pct 0.1 \\\n",
    "--query_name SOLA "
   ]
  },
  {
   "cell_type": "markdown",
   "id": "63411a65-c755-4e81-9166-bb2ddf228921",
   "metadata": {},
   "source": [
    "***\n",
    "#### **4) BGC clustering**\n",
    "***"
   ]
  },
  {
   "cell_type": "markdown",
   "id": "538e1c29-9737-4861-ab5f-533ead4eb496",
   "metadata": {
    "tags": []
   },
   "source": [
    "Here again will use [BiG-SLICE](https://github.com/medema-group/bigslice), this time to cluster our BGC sequences into Gene Cluster Families (GCFs).  "
   ]
  },
  {
   "cell_type": "code",
   "execution_count": null,
   "id": "49a1789d-59bc-40f7-9f4c-2111437ab8a4",
   "metadata": {
    "tags": []
   },
   "outputs": [],
   "source": [
    "%%bash\n",
    "\n",
    "\"${REPO}/run_scripts/run_bigslice.sh\" cluster \\\n",
    "\"${WORKDIR}/outputs/antismash/\" \\\n",
    "\"${WORKDIR}/outputs/bgslice_clust/\" \\\n",
    "--num_threads 40 \\\n",
    "--threshold_pct 0.1 1> /dev/null 2> /dev/null"
   ]
  },
  {
   "cell_type": "markdown",
   "id": "c6a56db3-9439-4e64-8dec-7d14d0093760",
   "metadata": {
    "tags": []
   },
   "source": [
    "***\n",
    "#### **5) Compute coverage**\n",
    "***"
   ]
  },
  {
   "cell_type": "markdown",
   "id": "22decfac-21ed-41a0-a089-deebc774fd0b",
   "metadata": {},
   "source": [
    "To do this, let's we will first concatenat all BGC gbk files from each metagenomic sample.  "
   ]
  },
  {
   "cell_type": "code",
   "execution_count": 67,
   "id": "0edf4a0e-7c4a-48fc-b34d-bc2bb60ccdad",
   "metadata": {},
   "outputs": [],
   "source": [
    "%%bash\n",
    "\n",
    "ls -d ${WORKDIR}/outputs/antismash/ERR* | \\\n",
    "while read LINE; do\n",
    "  SAMPLE=$(basename \"${LINE}\")\n",
    "  cat \"${LINE}\"/scaffolds/\"${SAMPLE}\"*.region*.gbk > \"${WORKDIR}\"/outputs/bgc_abund/\"${SAMPLE}\".gbk\n",
    "done"
   ]
  },
  {
   "cell_type": "markdown",
   "id": "0e9bc081-9c69-43a2-b3b1-a08ee3570b56",
   "metadata": {},
   "source": [
    "Now we can run our custom scripts [get_cov.py](https://github.com/pereiramemo/bioprospecting/blob/main/aux_scripts/get_cov.py) to compute the coverage of each BGC."
   ]
  },
  {
   "cell_type": "code",
   "execution_count": 72,
   "id": "998fb1b2-aa1a-4f0f-a680-0754df77487f",
   "metadata": {
    "tags": []
   },
   "outputs": [],
   "source": [
    "%%bash\n",
    "\n",
    "ls \"${WORKDIR}\"/outputs/bgc_abund/*.gbk | \\\n",
    "while read LINE; do\n",
    "  SAMPLE=$(basename \"${LINE}\" .gbk)\n",
    "  \"${REPO}\"/aux_scripts/get_cov.py \\\n",
    "  --input_gbk \"${WORKDIR}\"/outputs/bgc_abund/\"${SAMPLE}\".gbk \\\n",
    "  --input_bam \"${WORKDIR}\"/data/sola/\"${SAMPLE}\"/output/mapped.sorted.bam \\\n",
    "  --sample_name \"${SAMPLE}\" \\\n",
    "  --output_tsv \"${WORKDIR}\"/outputs/bgc_abund/\"${SAMPLE}\".tsv\n",
    "done\n",
    "\n",
    "cat \"${WORKDIR}\"/outputs/bgc_abund/ERR*.tsv  > \"${WORKDIR}\"/outputs/bgc_abund/bgc_abund.tsv"
   ]
  },
  {
   "cell_type": "markdown",
   "id": "e92b3db4-1db6-424d-ba9a-3c0243675fe6",
   "metadata": {
    "tags": []
   },
   "source": [
    "***\n",
    "#### **Format outputs**\n",
    "***"
   ]
  },
  {
   "cell_type": "markdown",
   "id": "5c8bba13-0834-4b09-b580-20774dcd48b9",
   "metadata": {
    "tags": []
   },
   "source": [
    "Lastly, after we run the five main tasks that comprise the bioprospecting pipeline, we format the output data generated to obtain the three tables described in Fig. 1.  "
   ]
  },
  {
   "cell_type": "markdown",
   "id": "b06b808d-79ad-4386-b299-e120ec101c54",
   "metadata": {},
   "source": [
    "#### **Output table 1**.  \n",
    "That is, the table containing the functional and taxonomic annotation, and the biosynthetic novelty.  "
   ]
  },
  {
   "cell_type": "code",
   "execution_count": 85,
   "id": "890aff8d-efd9-458a-a40e-de2b94592070",
   "metadata": {},
   "outputs": [],
   "source": [
    "%%R\n",
    "library(RSQLite)\n",
    "library(tidyverse)\n",
    "\n",
    "TAX <- read_tsv(\"workdir/outputs/bgc_taxa/bgc_taxa_annot_lca_formatted.tsv\", \n",
    "                col_names = F, show_col_types = F)\n",
    "colnames(TAX) <- c(\"sample\", \"seq_id\", \"tax_level\", \"tax_path\")\n",
    "CONN_REPORTS_DB <- dbConnect(SQLite(), \"workdir/data/mibig_gcf_models/reports/1/data.db\")\n",
    "CONN_DATA_DB <- dbConnect(SQLite(), \"workdir/data/mibig_gcf_models/result/data.db\")\n",
    "\n",
    "REPORTS_LIST <- lapply(setNames(nm = dbListTables(CONN_REPORTS_DB)), dbReadTable, conn = CONN_REPORTS_DB)\n",
    "DATA_LIST <- lapply(setNames(nm = dbListTables(CONN_DATA_DB)), dbReadTable, conn = CONN_DATA_DB)\n",
    "\n",
    "REPORTS_LIST$bgc$seq_id <- sub(x = REPORTS_LIST$bgc$name, \n",
    "                               pattern = \".*/(.*).region[0-9]+$\", \n",
    "                               replacement = \"\\\\1\")\n",
    "\n",
    "metadata <- left_join(x = TAX, \n",
    "                      y = REPORTS_LIST$bgc,\n",
    "                      by = \"seq_id\") %>%\n",
    "            left_join(x = .,\n",
    "                      y = REPORTS_LIST$gcf_membership, \n",
    "                      by = c(\"id\" = \"bgc_id\")) %>%\n",
    "            left_join(x = .,\n",
    "                      y = REPORTS_LIST$bgc_class, \n",
    "                      by = c(\"id\" = \"bgc_id\")) %>%\n",
    "            left_join(x = .,\n",
    "                      y = DATA_LIST$chem_subclass_map,\n",
    "                      by = c(\"chem_subclass_id\" = \"subclass_id\")) %>%\n",
    "            select(seq_id, class_source, tax_path, membership_value, gcf_id)\n",
    "        \n",
    "colnames(metadata) <- c(\"seq_id\", \"function\", \"taxonomy\", \"novelty\", \"gcf_id\")       \n",
    "        \n",
    "write.table(x = metadata, file = \"workdir/outputs/tables/1-bgc_metadata.tsv\", \n",
    "            sep = \"\\t\", quote = F, row.names = F, col.names = T)"
   ]
  },
  {
   "cell_type": "markdown",
   "id": "3e2787ad-6cf2-4668-ae37-caaa563d6add",
   "metadata": {},
   "source": [
    "This is how it looks like:"
   ]
  },
  {
   "cell_type": "code",
   "execution_count": 86,
   "id": "0871c3dc-e8b3-41e8-82e6-4601acc18c8c",
   "metadata": {
    "tags": []
   },
   "outputs": [
    {
     "name": "stdout",
     "output_type": "stream",
     "text": [
      "seq_id\tfunction\ttaxonomy\tnovelty\tgcf_id\n",
      "ERR2604090__k119_185408\tterpene\t-_cellular organisms;d_Bacteria;-_Terrabacteria group;-_Cyanobacteriota/Melainabacteria group;p_Cyanobacteriota;c_Cyanophyceae;o_Synechococcales\t1.10505376873434\t541\n",
      "ERR2604090__k119_153928\tarylpolyene\t-_cellular organisms;d_Bacteria\t0.952125515265246\t1026\n",
      "ERR2604090__k119_123795\tterpene\t-_cellular organisms;d_Bacteria;p_Pseudomonadota;c_Alphaproteobacteria;o_Rhodobacterales;f_Paracoccaceae\t0.986966759230745\t241\n",
      "ERR2604090__k119_131898\tredox-cofactor\t-_cellular organisms;d_Bacteria;p_Pseudomonadota;c_Gammaproteobacteria\t1.0320650538974\t454\n",
      "ERR2604090__k119_155472\tredox-cofactor\t-_cellular organisms;d_Bacteria;p_Pseudomonadota\t1.12065717045078\t454\n",
      "ERR2604090__k119_52769\tterpene\t-_cellular organisms\t1.26869265952904\t391\n",
      "ERR2604090__k119_148185\tterpene\t-_cellular organisms;d_Bacteria\t1.14012573711592\t391\n",
      "ERR2604090__k119_84479\tterpene\t-_cellular organisms;d_Bacteria;p_Pseudomonadota\t1.25337218528236\t97\n",
      "ERR2604090__k119_203511\tterpene\t-_cellular organisms;d_Bacteria;p_Pseudomonadota;c_Alphaproteobacteria;o_Rhodobacterales;f_Paracoccaceae\t1.01080835391387\t241\n"
     ]
    }
   ],
   "source": [
    "%%bash\n",
    "\n",
    "head \"${WORKDIR}/outputs/tables/1-bgc_metadata.tsv\""
   ]
  },
  {
   "cell_type": "markdown",
   "id": "db1dff38-bf4a-4421-ac07-32d6d77f7ddc",
   "metadata": {},
   "source": [
    "#### **Output table 2**  \n",
    "That is, the BGC class abundance table."
   ]
  },
  {
   "cell_type": "code",
   "execution_count": 75,
   "id": "0bf1d015-12ff-412b-bac9-f92d38a51816",
   "metadata": {
    "tags": []
   },
   "outputs": [
    {
     "name": "stdout",
     "output_type": "stream",
     "text": [
      "`summarise()` has grouped output by 'sample'. You can override using the\n",
      "`.groups` argument.\n"
     ]
    }
   ],
   "source": [
    "%%R\n",
    "\n",
    "BGC_TBL <- read_tsv(\"workdir/outputs/bgc_abund/bgc_abund.tsv\", \n",
    "                    col_names = F,\n",
    "                    show_col_types = F)\n",
    "colnames(BGC_TBL) <- c(\"seq_id\", \"bgc_class\", \"edge\", \"start\", \"end\", \"abund\", \"sample\")\n",
    "\n",
    "BGC_TBL_coll <- BGC_TBL %>%\n",
    "                group_by(sample, bgc_class) %>%\n",
    "                summarize(abund = sum(abund))\n",
    "    \n",
    "write.table(x = BGC_TBL_coll, file = \"workdir/outputs/tables/2-bgc_abund.tsv\", \n",
    "            sep = \"\\t\", quote = F, row.names = F, col.names = T)"
   ]
  },
  {
   "cell_type": "markdown",
   "id": "d5f12f8a-6061-4fdf-96c0-c78ff1eecc3d",
   "metadata": {},
   "source": [
    "This is how it looks like:"
   ]
  },
  {
   "cell_type": "code",
   "execution_count": 77,
   "id": "729851b3-ed7c-443e-9f4c-c25439a0a586",
   "metadata": {
    "tags": []
   },
   "outputs": [
    {
     "name": "stdout",
     "output_type": "stream",
     "text": [
      "sample\tbgc_class\tabund\n",
      "ERR2604071\tbetalactone\t1.01401006711409\n",
      "ERR2604071\tphosphonate\t1.04183496826313\n",
      "ERR2604071\tresorcinol\t1.01119288561791\n",
      "ERR2604071\tterpene\t4.11969119492286\n",
      "ERR2604073\tbetalactone\t3.18565274708853\n",
      "ERR2604073\thserlactone\t1.06897456071335\n",
      "ERR2604073\tphosphonate\t1.05259071729958\n",
      "ERR2604073\tredox-cofactor\t1.07977006857604\n",
      "ERR2604073\tterpene\t7.43873731742168\n"
     ]
    }
   ],
   "source": [
    "%%bash\n",
    "head \"${WORKDIR}/outputs/tables/2-bgc_abund.tsv\""
   ]
  },
  {
   "cell_type": "markdown",
   "id": "39d7e8a0-e9fe-4d36-a35e-d27ff88f2640",
   "metadata": {},
   "source": [
    "Note: For simplicity, we have created the tidy version of the table described in Fig. 1."
   ]
  },
  {
   "cell_type": "markdown",
   "id": "6a9f39ef-dbbf-4b9d-8528-6a70f9202c7c",
   "metadata": {
    "tags": []
   },
   "source": [
    "#### **Output table 3**\n",
    "That is, the GCF abundance table."
   ]
  },
  {
   "cell_type": "code",
   "execution_count": null,
   "id": "cd97110c-ec12-4156-a60a-840a6454b5f9",
   "metadata": {},
   "outputs": [],
   "source": [
    "%%R \n"
   ]
  }
 ],
 "metadata": {
  "kernelspec": {
   "display_name": "Python 3 (ipykernel)",
   "language": "python",
   "name": "python3"
  },
  "language_info": {
   "codemirror_mode": {
    "name": "ipython",
    "version": 3
   },
   "file_extension": ".py",
   "mimetype": "text/x-python",
   "name": "python",
   "nbconvert_exporter": "python",
   "pygments_lexer": "ipython3",
   "version": "3.11.4"
  }
 },
 "nbformat": 4,
 "nbformat_minor": 5
}
