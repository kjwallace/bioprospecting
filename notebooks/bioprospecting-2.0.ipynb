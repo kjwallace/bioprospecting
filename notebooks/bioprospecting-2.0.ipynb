{
 "cells": [
  {
   "cell_type": "markdown",
   "id": "afb76a05-a9e5-438a-85bf-3d9860368e38",
   "metadata": {},
   "source": [
    "## **Bioprospecting analysis 2.0**\n",
    "\n",
    "#### In this Notebook we will use the data generated in the [Bioprospecting analysis 1.0](https://github.com/pereiramemo/bioprospecting/blob/main/notebooks/bioprospecting-1.0.ipynb)\n",
    "#### The tasks are organized in the following sections:  \n",
    "#### **0. Set env**\n",
    "#### **1. Explore the BGC class composition**\n",
    "#### **2. Explore the BGC's taxonomic composition**\n",
    "#### **3. Explore the BGC diversity**\n",
    "#### **4. Assess the BGC novelty**"
   ]
  },
  {
   "cell_type": "markdown",
   "id": "d88587ca-1d42-4a1c-bf52-c1c40bcc2f3a",
   "metadata": {},
   "source": [
    "***\n",
    "<a id='section0'></a>\n",
    "**0. Set env**\n",
    "***"
   ]
  },
  {
   "cell_type": "markdown",
   "id": "d05230c5-edeb-421e-a75e-511f31c09ea0",
   "metadata": {},
   "source": [
    "Load the libraries."
   ]
  },
  {
   "cell_type": "code",
   "execution_count": 27,
   "id": "b86f4020-5a2b-4471-9c3e-7c0d3800f323",
   "metadata": {
    "tags": []
   },
   "outputs": [],
   "source": [
    "library(tidyverse)\n",
    "library(lubridate)\n",
    "library(ggdendro)\n",
    "library(ggpubr)\n",
    "library(vegan)\n",
    "options(dplyr.summarise.inform = FALSE)\n",
    "source(\"../aux_scripts/get_season_north.R\")\n",
    "source(\"../aux_scripts/custom_rarefy.R\")"
   ]
  },
  {
   "cell_type": "markdown",
   "id": "2f50fcb4-60c0-4aab-8abd-4966d67bd3c0",
   "metadata": {},
   "source": [
    "Load the data."
   ]
  },
  {
   "cell_type": "code",
   "execution_count": 28,
   "id": "a5fcc4cf-7b5f-4927-88a6-d6d45501a5c6",
   "metadata": {
    "tags": []
   },
   "outputs": [],
   "source": [
    "BGC_TBL <- read_tsv(\"./tables/bgc_abund.tsv.gz\", \n",
    "                    col_names = F,\n",
    "                    show_col_types = F)\n",
    "colnames(BGC_TBL) <- c(\"sample\", \"seq_id\", \"edge\", \"bgc_class\", \"abund\")\n",
    "\n",
    "TAXA_TBL <- read_tsv(\"./tables/bgc_taxa_annot_lca_formatted.tsv.gz\", \n",
    "                     col_names = F,\n",
    "                     show_col_types = F)\n",
    "colnames(TAXA_TBL) <- c(\"sample\", \"seq_id\", \"tax_level\", \"tax_path\")\n",
    "\n",
    "METADATA_TBL <- read_csv(\"./tables/SOLA_metadata_extended.tsv.gz\",\n",
    "                         col_names = T,\n",
    "                         show_col_types = F)\n",
    "METADATA_TBL$Season <- factor(get_season_north(METADATA_TBL$collection_date), \n",
    "                             levels = c(\"Winter\", \"Spring\", \"Summer\", \"Fall\"))"
   ]
  },
  {
   "cell_type": "markdown",
   "id": "e881069f-c98d-4302-91bc-8ba47df8eb03",
   "metadata": {},
   "source": [
    "***\n",
    "**1. Explore the BGC class composition**\n",
    "***"
   ]
  },
  {
   "cell_type": "markdown",
   "id": "e4ad22ad-fee4-4e34-9b9d-0c4e4acfeba2",
   "metadata": {},
   "source": [
    "First we have to collapse the BGC class abundance per sample."
   ]
  },
  {
   "cell_type": "code",
   "execution_count": 29,
   "id": "18e23a3c-32aa-4ebe-8ed4-8649bcaf180b",
   "metadata": {
    "tags": []
   },
   "outputs": [
    {
     "data": {
      "text/html": [
       "<table class=\"dataframe\">\n",
       "<caption>A tibble: 6 × 5</caption>\n",
       "<thead>\n",
       "\t<tr><th scope=col>bgc_class</th><th scope=col>abund</th><th scope=col>abund_rel</th><th scope=col>collection_date</th><th scope=col>Season</th></tr>\n",
       "\t<tr><th scope=col>&lt;chr&gt;</th><th scope=col>&lt;dbl&gt;</th><th scope=col>&lt;dbl&gt;</th><th scope=col>&lt;chr&gt;</th><th scope=col>&lt;fct&gt;</th></tr>\n",
       "</thead>\n",
       "<tbody>\n",
       "\t<tr><td>betalactone</td><td>1.014010</td><td>14.109479</td><td>2012-01-03</td><td>Winter</td></tr>\n",
       "\t<tr><td>phosphonate</td><td>1.041835</td><td>14.496650</td><td>2012-01-03</td><td>Winter</td></tr>\n",
       "\t<tr><td>resorcinol </td><td>1.011193</td><td>14.070280</td><td>2012-01-03</td><td>Winter</td></tr>\n",
       "\t<tr><td>terpene    </td><td>4.119691</td><td>57.323591</td><td>2012-01-03</td><td>Winter</td></tr>\n",
       "\t<tr><td>betalactone</td><td>3.185653</td><td>23.041487</td><td>2012-02-21</td><td>Winter</td></tr>\n",
       "\t<tr><td>hserlactone</td><td>1.068975</td><td> 7.731779</td><td>2012-02-21</td><td>Winter</td></tr>\n",
       "</tbody>\n",
       "</table>\n"
      ],
      "text/latex": [
       "A tibble: 6 × 5\n",
       "\\begin{tabular}{lllll}\n",
       " bgc\\_class & abund & abund\\_rel & collection\\_date & Season\\\\\n",
       " <chr> & <dbl> & <dbl> & <chr> & <fct>\\\\\n",
       "\\hline\n",
       "\t betalactone & 1.014010 & 14.109479 & 2012-01-03 & Winter\\\\\n",
       "\t phosphonate & 1.041835 & 14.496650 & 2012-01-03 & Winter\\\\\n",
       "\t resorcinol  & 1.011193 & 14.070280 & 2012-01-03 & Winter\\\\\n",
       "\t terpene     & 4.119691 & 57.323591 & 2012-01-03 & Winter\\\\\n",
       "\t betalactone & 3.185653 & 23.041487 & 2012-02-21 & Winter\\\\\n",
       "\t hserlactone & 1.068975 &  7.731779 & 2012-02-21 & Winter\\\\\n",
       "\\end{tabular}\n"
      ],
      "text/markdown": [
       "\n",
       "A tibble: 6 × 5\n",
       "\n",
       "| bgc_class &lt;chr&gt; | abund &lt;dbl&gt; | abund_rel &lt;dbl&gt; | collection_date &lt;chr&gt; | Season &lt;fct&gt; |\n",
       "|---|---|---|---|---|\n",
       "| betalactone | 1.014010 | 14.109479 | 2012-01-03 | Winter |\n",
       "| phosphonate | 1.041835 | 14.496650 | 2012-01-03 | Winter |\n",
       "| resorcinol  | 1.011193 | 14.070280 | 2012-01-03 | Winter |\n",
       "| terpene     | 4.119691 | 57.323591 | 2012-01-03 | Winter |\n",
       "| betalactone | 3.185653 | 23.041487 | 2012-02-21 | Winter |\n",
       "| hserlactone | 1.068975 |  7.731779 | 2012-02-21 | Winter |\n",
       "\n"
      ],
      "text/plain": [
       "  bgc_class   abund    abund_rel collection_date Season\n",
       "1 betalactone 1.014010 14.109479 2012-01-03      Winter\n",
       "2 phosphonate 1.041835 14.496650 2012-01-03      Winter\n",
       "3 resorcinol  1.011193 14.070280 2012-01-03      Winter\n",
       "4 terpene     4.119691 57.323591 2012-01-03      Winter\n",
       "5 betalactone 3.185653 23.041487 2012-02-21      Winter\n",
       "6 hserlactone 1.068975  7.731779 2012-02-21      Winter"
      ]
     },
     "metadata": {},
     "output_type": "display_data"
    }
   ],
   "source": [
    "BGC_TBL_coll <- BGC_TBL %>%\n",
    "                group_by(sample, bgc_class) %>%\n",
    "                summarize(abund = sum(abund)) %>%\n",
    "                group_by(sample) %>%\n",
    "                mutate(abund_rel = 100*abund/sum(abund)) %>%\n",
    "                left_join(x =., \n",
    "                          y = METADATA_TBL %>% select(run_accession, collection_date),\n",
    "                           by = c(\"sample\" = \"run_accession\")) %>%\n",
    "                ungroup %>%\n",
    "                select(-sample) %>%\n",
    "                mutate(Season = get_season_north(collection_date)) %>%\n",
    "                mutate(collection_date = as.character(collection_date))\n",
    "\n",
    "head(BGC_TBL_coll)"
   ]
  },
  {
   "cell_type": "markdown",
   "id": "076292ce-989a-42c3-b45d-585e1fe52753",
   "metadata": {},
   "source": [
    "Let's get some basic stats:"
   ]
  },
  {
   "cell_type": "code",
   "execution_count": 30,
   "id": "da3ff8e5-e857-469d-96b3-33f0e35c1bc2",
   "metadata": {
    "tags": []
   },
   "outputs": [
    {
     "name": "stdout",
     "output_type": "stream",
     "text": [
      "################################################################################ \n",
      "Number of BGC classes: 16 \n",
      "Number of BGC sequences: 744 \n",
      "Number of complete BGC sequences: 75 \n",
      "################################################################################ \n"
     ]
    }
   ],
   "source": [
    "bgc_class_n <- BGC_TBL_coll$bgc_class %>% unique %>% length\n",
    "bgc_seqs_n <- BGC_TBL$seq_id %>% unique %>% length\n",
    "bgc_complete_seqs_n <- sum(!BGC_TBL$edge)\n",
    "\n",
    "cat(paste(rep(\"#\",80), sep = \"\", collapse = \"\"), \"\\n\")\n",
    "cat(paste(\"Number of BGC classes:\", bgc_class_n, sep = \" \"),\"\\n\")\n",
    "cat(paste(\"Number of BGC sequences:\", bgc_seqs_n, sep = \" \"),\"\\n\")\n",
    "cat(paste(\"Number of complete BGC sequences:\", bgc_complete_seqs_n, sep = \" \"),\"\\n\")\n",
    "cat(paste(rep(\"#\",80), sep = \"\", collapse = \"\"), \"\\n\")"
   ]
  },
  {
   "cell_type": "markdown",
   "id": "53108a0b-5274-4a6e-a00e-1751b3ede94a",
   "metadata": {},
   "source": [
    "And count the number of complete BGC sequences per class:"
   ]
  },
  {
   "cell_type": "code",
   "execution_count": 31,
   "id": "cd45abfe-a7dc-4e4e-a210-21812283ab5b",
   "metadata": {
    "tags": []
   },
   "outputs": [
    {
     "data": {
      "text/html": [
       "<table class=\"dataframe\">\n",
       "<caption>A data.frame: 8 × 2</caption>\n",
       "<thead>\n",
       "\t<tr><th scope=col>bgc_class</th><th scope=col>Freq</th></tr>\n",
       "\t<tr><th scope=col>&lt;fct&gt;</th><th scope=col>&lt;int&gt;</th></tr>\n",
       "</thead>\n",
       "<tbody>\n",
       "\t<tr><td>arylpolyene</td><td> 1</td></tr>\n",
       "\t<tr><td>betalactone</td><td> 5</td></tr>\n",
       "\t<tr><td>hserlactone</td><td> 3</td></tr>\n",
       "\t<tr><td>phosphonate</td><td> 1</td></tr>\n",
       "\t<tr><td>RiPP-like  </td><td> 7</td></tr>\n",
       "\t<tr><td>siderophore</td><td> 1</td></tr>\n",
       "\t<tr><td>T1PKS      </td><td> 1</td></tr>\n",
       "\t<tr><td>terpene    </td><td>56</td></tr>\n",
       "</tbody>\n",
       "</table>\n"
      ],
      "text/latex": [
       "A data.frame: 8 × 2\n",
       "\\begin{tabular}{ll}\n",
       " bgc\\_class & Freq\\\\\n",
       " <fct> & <int>\\\\\n",
       "\\hline\n",
       "\t arylpolyene &  1\\\\\n",
       "\t betalactone &  5\\\\\n",
       "\t hserlactone &  3\\\\\n",
       "\t phosphonate &  1\\\\\n",
       "\t RiPP-like   &  7\\\\\n",
       "\t siderophore &  1\\\\\n",
       "\t T1PKS       &  1\\\\\n",
       "\t terpene     & 56\\\\\n",
       "\\end{tabular}\n"
      ],
      "text/markdown": [
       "\n",
       "A data.frame: 8 × 2\n",
       "\n",
       "| bgc_class &lt;fct&gt; | Freq &lt;int&gt; |\n",
       "|---|---|\n",
       "| arylpolyene |  1 |\n",
       "| betalactone |  5 |\n",
       "| hserlactone |  3 |\n",
       "| phosphonate |  1 |\n",
       "| RiPP-like   |  7 |\n",
       "| siderophore |  1 |\n",
       "| T1PKS       |  1 |\n",
       "| terpene     | 56 |\n",
       "\n"
      ],
      "text/plain": [
       "  bgc_class   Freq\n",
       "1 arylpolyene  1  \n",
       "2 betalactone  5  \n",
       "3 hserlactone  3  \n",
       "4 phosphonate  1  \n",
       "5 RiPP-like    7  \n",
       "6 siderophore  1  \n",
       "7 T1PKS        1  \n",
       "8 terpene     56  "
      ]
     },
     "metadata": {},
     "output_type": "display_data"
    }
   ],
   "source": [
    "bgc_complete_seqs_counts <- BGC_TBL %>% filter(edge == F) %>% select(bgc_class) %>% table()\n",
    "as.data.frame(bgc_complete_seqs_counts)"
   ]
  },
  {
   "cell_type": "markdown",
   "id": "3a6a5283-0ebe-45c3-8718-c3cb79bb4756",
   "metadata": {
    "tags": []
   },
   "source": [
    "***"
   ]
  },
  {
   "cell_type": "markdown",
   "id": "2255d7fd-a276-4fda-a9e3-cab547e86ab8",
   "metadata": {},
   "source": [
    "To get a general overview of the BGC class composition, let's create a barplot of relative abundances."
   ]
  },
  {
   "cell_type": "code",
   "execution_count": null,
   "id": "da09aafd-2079-44bb-973e-046dd99dbc1a",
   "metadata": {
    "tags": []
   },
   "outputs": [],
   "source": [
    "bgc_colors <- c('#8c510a','#bf812d','#dfc27d','#f6e8c3',\n",
    "                '#c7eae5','#80cdc1','#35978f','#01665e',\n",
    "                '#abdda4','#66c2a5', '#d53e4f','#f46d43',\n",
    "                '#fdae61','#40004b','#762a83', '#9970ab')\n",
    "\n",
    "season_colors <- c(\"#154360\", \"#3c7810\", \"#c93f1b\",\"#98482b\")\n",
    "\n",
    "bgc_class_names <- unique(BGC_TBL_coll$bgc_class)\n",
    "names(bgc_colors) <- bgc_class_names[order(bgc_class_names)]\n",
    "\n",
    "text_size <- 12\n",
    "BGC_TBL_coll_div <- BGC_TBL_coll %>%\n",
    "                    group_by(collection_date) %>%\n",
    "                    summarize(shannon = diversity(abund_rel))\n",
    "\n",
    "barplot <- ggplot(BGC_TBL_coll, aes(x = collection_date, y = abund_rel, fill = bgc_class)) + \n",
    "           geom_bar(stat = \"identity\", width = 0.5, alpha = 0.7) +\n",
    "           xlab(\"Sample\") +\n",
    "           ylab(\"Percentage of abundance\") +\n",
    "           scale_fill_manual(name=\"BGC class\",\n",
    "                             values = bgc_colors) +\n",
    "           scale_y_continuous(expand=c(0,0.1), limits = c(-1,101), \n",
    "                              sec.axis = sec_axis(~.*(max(BGC_TBL_coll_div$shannon)/101), name = \"Shannon diversity\")) +\n",
    "           theme_light() +\n",
    "           theme( \n",
    "                 axis.text.x = element_text(size = text_size -2, angle = 45, \n",
    "                                            hjust = 1, color = \"black\"),\n",
    "                 axis.text.y = element_text(size = text_size, color = \"black\"),\n",
    "                 axis.title.x = element_text(size = text_size + 4, color = \"black\",\n",
    "                                             margin = margin(10,0,0,0)),\n",
    "                 axis.title.y = element_text(size = text_size + 4, color = \"black\",\n",
    "                                             margin = margin(0,15,0,0)),\n",
    "                 legend.text = element_text(size = text_size +2, color = \"black\"),\n",
    "                 legend.title = element_text(size = text_size +4 , color = \"black\"),\n",
    "                 legend.position = \"right\",\n",
    "                 legend.margin = ggplot2::margin(0,0,-5,0),\n",
    "                 strip.background = element_blank(),\n",
    "                 strip.text = element_text(color = \"black\", size = text_size)) +\n",
    "                 guides(fill = guide_legend(keywidth = 0.6, keyheight = 0.6)) +\n",
    "          geom_line(data = BGC_TBL_coll_div, aes(y = shannon*(99/1.5), fill = NULL, group = 1),\n",
    "                     linewidth = 1.5) \n",
    "\n",
    "options(repr.plot.width=15, repr.plot.height=8)\n",
    "barplot"
   ]
  },
  {
   "cell_type": "markdown",
   "id": "26c983b6-413f-4edd-89cb-bf3a23c5f5ce",
   "metadata": {},
   "source": [
    "**Figure 1**. Barplot representing the relative abundance of BGC classes per sample (left Y axis). The black curve represents the BGC class Shannon diversity (right Y axis). To compute the abundance of each BGC class within a sample, we summed the coverage of all the BGC sequences of the same class."
   ]
  },
  {
   "cell_type": "markdown",
   "id": "3a2b7372-9a04-4053-a93a-54519d74a3ae",
   "metadata": {
    "tags": []
   },
   "source": [
    "**Main observations**: As expected for surface marine environments, we observed a high abundance of terpenes. Similar results have been obtained by [Paoli 2022](https://www.nature.com/articles/s41586-022-04862-3) and [Pereira 2020](https://www.biorxiv.org/content/10.1101/2021.01.20.427441v1). This finding could be explained by a higher abundance of carotenoid pigments involved in light harvesting and oxidative stress protection processes."
   ]
  },
  {
   "cell_type": "markdown",
   "id": "ca5892f1-a95a-4178-a5d1-ee07c7cb91d6",
   "metadata": {},
   "source": [
    "***"
   ]
  },
  {
   "cell_type": "markdown",
   "id": "ca19a7ba-0afb-44be-9ece-3210946eb2b2",
   "metadata": {},
   "source": [
    "To gain more insights about this data, let's create a two-way clustering heatmap.  \n",
    "First, we generate the clusters:"
   ]
  },
  {
   "cell_type": "code",
   "execution_count": null,
   "id": "20c3861c-23d9-4775-9506-24fc59338acf",
   "metadata": {
    "tags": []
   },
   "outputs": [],
   "source": [
    "BGC_TBL_coll_wide <- BGC_TBL_coll %>%\n",
    "                     select(-abund_rel, -Season) %>%\n",
    "                     pivot_wider(names_from = bgc_class, \n",
    "                                 values_from = abund, \n",
    "                                 values_fill = 0) %>%\n",
    "                     column_to_rownames(\"collection_date\")\n",
    "\n",
    "BGC_TBL_norm <- decostand(BGC_TBL_coll_wide, method = \"hellinger\")\n",
    "sample_clust <- hclust(vegdist(BGC_TBL_norm, method = \"euclidean\"), method=\"ward.D\")\n",
    "bgc_clust <- hclust(vegdist(t(BGC_TBL_norm), method = \"euclidean\"), method=\"ward.D\")\n",
    "\n",
    "sample_clust_dendro <- sample_clust %>%\n",
    "                       as.dendrogram\n",
    "bgc_clust_dendro <- bgc_clust %>%\n",
    "                    as.dendrogram \n",
    "\n",
    "sample_clust_data <- dendro_data(sample_clust_dendro)\n",
    "bgc_clust_data <- dendro_data(bgc_clust_dendro)\n"
   ]
  },
  {
   "cell_type": "markdown",
   "id": "3630133b-81dc-48b8-9152-966f2e793eb9",
   "metadata": {},
   "source": [
    "And the dendro plots."
   ]
  },
  {
   "cell_type": "code",
   "execution_count": null,
   "id": "ac6c24ea-f6b6-4027-bf54-2a83d1c17580",
   "metadata": {
    "tags": []
   },
   "outputs": [],
   "source": [
    "sample_clust_metadata <- data.frame(collection_date = label(sample_clust_data)$label %>% \n",
    "                                    as.character,\n",
    "                                    x = label(sample_clust_data)$x,\n",
    "                                    y = label(sample_clust_data)$y) %>%\n",
    "                         mutate(Season = get_season_north(collection_date))\n",
    "\n",
    "season_colors <- c(\"#154360\", \"#3c7810\", \"#c93f1b\",\"#98482b\")\n",
    "\n",
    "sample_clust_plot <- ggplot(segment(sample_clust_data)) +\n",
    "                     coord_flip() +\n",
    "                     geom_segment(aes(x=x, y=y, xend=xend, yend=yend), linewidth = 0.2) +\n",
    "                     geom_point(data = sample_clust_metadata, \n",
    "                                aes(x = x , y = y, colour = Season),\n",
    "                                    shape = 15, size = 4, alpha = 0.8) +\n",
    "                     scale_colour_manual(values=season_colors) +\n",
    "                     theme_void() +\n",
    "                     theme(plot.margin = unit(c(-1,1,6.5,0.2), \"lines\"))\n",
    "\n",
    "bgc_clust_plot <- ggplot(segment(bgc_clust_data)) +\n",
    "                  geom_segment(aes(x=x, y=y, xend=xend, yend=yend), linewidth = 0.2) +\n",
    "                  theme_void() +\n",
    "                  theme(plot.margin = unit(c(1,14.5,-0.5,7.5), \"lines\"))"
   ]
  },
  {
   "cell_type": "markdown",
   "id": "fe73288d-2d82-44f5-9aa1-e1e6b10c35af",
   "metadata": {},
   "source": [
    "Now the heatmap."
   ]
  },
  {
   "cell_type": "code",
   "execution_count": null,
   "id": "c92c1a63-9641-49c4-b754-2ad53e7dd5b0",
   "metadata": {
    "tags": []
   },
   "outputs": [],
   "source": [
    "BGC_TBL_norm_long <- BGC_TBL_norm %>%\n",
    "                     as.data.frame %>%\n",
    "                     rownames_to_column(\"collection_date\") %>%\n",
    "                     pivot_longer(names_to = \"bgc_class\", \n",
    "                                  values_to = \"abund\", \n",
    "                                  cols = 2:(dim(BGC_TBL_norm)[2]+1))\n",
    "                     \n",
    "BGC_TBL_norm_long$collection_date <- factor(BGC_TBL_norm_long$collection_date, \n",
    "                                            levels = sample_clust$labels[sample_clust$order])\n",
    "BGC_TBL_norm_long$bgc_class <- factor(BGC_TBL_norm_long$bgc_class, \n",
    "                                      levels = bgc_clust$labels[bgc_clust$order])\n",
    "heatmap <- ggplot(BGC_TBL_norm_long, aes(x = collection_date, y = bgc_class, fill = abund)) + \n",
    "           geom_tile() +\n",
    "           xlab(\"Collection date\") +\n",
    "           ylab(\"BGC class\") +\n",
    "           theme_light() +\n",
    "           theme( \n",
    "                 axis.text.x = element_text(size = text_size, angle = 45, hjust = 1, color = \"black\"),\n",
    "                 axis.text.y = element_text(size = text_size, color = \"black\"),\n",
    "                 axis.title.x = element_text(size = text_size + 4, color = \"black\",\n",
    "                                             margin = margin(10,0,0,0)),\n",
    "                 axis.title.y = element_text(size = text_size + 4, color = \"black\",\n",
    "                                             margin = margin(0,15,0,0)),\n",
    "                 legend.text = element_text(size = text_size +2, color = \"black\"),\n",
    "                 legend.title = element_text(size = text_size +4 , color = \"black\"),\n",
    "                 legend.position = c(1.3,0.95),\n",
    "                 legend.margin = ggplot2::margin(0,0,-5,0),\n",
    "                 strip.background = element_blank(),\n",
    "                 strip.text = element_text(color = \"black\", size = text_size),\n",
    "                 plot.margin = unit(c(0.2,0,1,1), \"lines\")) +\n",
    "            guides(fill = guide_legend(keywidth = 0.6, keyheight = 0.6)) +\n",
    "            scale_fill_gradient(low=\"white\", high=\"#01665e\", name = \"% of abundance\") +\n",
    "            coord_flip()"
   ]
  },
  {
   "cell_type": "markdown",
   "id": "916876f3-34e2-45e0-be6c-fd6f42cfd673",
   "metadata": {},
   "source": [
    "Lastly, merge all plots."
   ]
  },
  {
   "cell_type": "code",
   "execution_count": null,
   "id": "33c0f6cc-d22d-4769-aa69-41d436d9611e",
   "metadata": {
    "tags": []
   },
   "outputs": [],
   "source": [
    "heatmap_1 <- ggarrange(heatmap, sample_clust_plot,\n",
    "                       nrow = 1, ncol = 2, \n",
    "                       widths = c(0.7, 0.3))\n",
    "\n",
    "heatmap_1and2 <- ggarrange(bgc_clust_plot, heatmap_1,    \n",
    "                           nrow = 2, ncol = 1,  \n",
    "                           heights = c(0.2, 0.8))\n",
    "\n",
    "options(repr.plot.width=10, repr.plot.height=12)\n",
    "heatmap_1and2"
   ]
  },
  {
   "cell_type": "markdown",
   "id": "82477d8f-e194-4d79-a921-4b22010a2c08",
   "metadata": {
    "tags": []
   },
   "source": [
    "**Figure 2.** Two-way clustering heatmap of the metagenomic samples based on their BGC class composition. For this analysis, the BGC class abundance matrix was normalized utilizing the Hellinger transformation. To cluster the rows and columns we used the Ward method and the euclidean distance.  "
   ]
  },
  {
   "cell_type": "markdown",
   "id": "40f90dda-ffbb-4cd0-924f-156a854840f6",
   "metadata": {
    "tags": []
   },
   "source": [
    "**Main observations**: The two main clusters of the samples separate the semesters winter and fall from summer and spring. It is also noticeable that the later semester has a greater abundance of terpenes."
   ]
  },
  {
   "cell_type": "markdown",
   "id": "0c9248f1-a74a-4820-b62a-339769feffbc",
   "metadata": {
    "tags": []
   },
   "source": [
    "***\n",
    "**2. Explore the BGCs’ taxonomic composition**\n",
    "***"
   ]
  },
  {
   "cell_type": "markdown",
   "id": "f546280c-d5ac-4218-b25b-088c764a6f9d",
   "metadata": {},
   "source": [
    "Here we are going to analyze the distribution of the number of BGC sequences per class and phyla.  \n",
    "First we need to match the BGC abundance and taxonomic annotation tables and get the phylum annotations."
   ]
  },
  {
   "cell_type": "code",
   "execution_count": null,
   "id": "50fa22e5-edba-4bf6-a6d3-4d859079cb73",
   "metadata": {
    "tags": []
   },
   "outputs": [],
   "source": [
    "bgc2taxa <- left_join(x = BGC_TBL, y = TAXA_TBL, by = c(\"seq_id\",\"sample\")) %>%\n",
    "            mutate(tax_path2 = if_else(grepl(pattern = \".*;p_[^;]+;.*\", tax_path, perl = T), tax_path, \"p_Unclassified;\")) %>%\n",
    "            mutate(phylum = sub(\".*p_([^;]+);.*\", \"\\\\1\", tax_path2)) %>%\n",
    "            select(-tax_path, -tax_level)\n",
    "\n",
    "head(bgc2taxa, n = 5)"
   ]
  },
  {
   "cell_type": "markdown",
   "id": "5a205955-bc1c-43db-9841-3f162c66d736",
   "metadata": {},
   "source": [
    "Now that we have all organized in a single table, we can create the plots."
   ]
  },
  {
   "cell_type": "code",
   "execution_count": null,
   "id": "3835f540-26ef-4f0b-aac4-fb6f64959641",
   "metadata": {
    "tags": []
   },
   "outputs": [],
   "source": [
    "phyla_names <- unique(bgc2taxa$phylum)\n",
    "i <- phyla_names!=\"Unclassified\"\n",
    "phyla_names <- c(phyla_names[i][order(phyla_names[i])], \"Unclassified\")\n",
    "\n",
    "bgc2taxa_counts <- bgc2taxa %>%\n",
    "                   group_by(phylum, bgc_class) %>%\n",
    "                   summarize(bgc_seqs_n = unique(seq_id) %>% length) %>%\n",
    "                   ungroup()\n",
    "\n",
    "bgc2taxa_counts$phylum <- factor(bgc2taxa_counts$phylum, levels = phyla_names)\n",
    "\n",
    "phyla_barplot <- ggplot(data = bgc2taxa_counts, aes(x = bgc_class, y = bgc_seqs_n +1)) + \n",
    "                 facet_wrap(~phylum, scales = \"free_y\", ncol = 5) +\n",
    "                 geom_bar(stat = \"identity\", width = 0.5, alpha = 0.7) +\n",
    "                 xlab(\"BGC class\") +\n",
    "                 ylab(\"log10 of number of BGC sequences\") +\n",
    "                 scale_y_log10() +\n",
    "                 theme_light() +\n",
    "                 theme( \n",
    "                       axis.text.x = element_text(size = text_size -2, angle = 45, hjust = 1, color = \"black\"),\n",
    "                       axis.text.y = element_text(size = text_size, color = \"black\"),\n",
    "                       axis.title.x = element_text(size = text_size + 4, color = \"black\",\n",
    "                                                   margin = margin(10,0,0,0)),\n",
    "                       axis.title.y = element_text(size = text_size + 4, color = \"black\",\n",
    "                                                   margin = margin(0,15,0,0)),\n",
    "                       legend.text = element_text(size = text_size +2, color = \"black\"),\n",
    "                       legend.title = element_text(size = text_size +4 , color = \"black\"),\n",
    "                       legend.position = \"right\",\n",
    "                       legend.margin = ggplot2::margin(0,0,-5,0),\n",
    "                       strip.background = element_blank(),\n",
    "                        strip.text = element_text(color = \"black\", size = text_size)) +\n",
    "                 guides(fill = guide_legend(keywidth = 0.6, keyheight = 0.6)) \n",
    "\n",
    "options(repr.plot.width=24, repr.plot.height=14)\n",
    "phyla_barplot\n"
   ]
  },
  {
   "cell_type": "markdown",
   "id": "dd3e73a4-cb78-4a65-a034-5c48b049b5e4",
   "metadata": {},
   "source": [
    "**Figure 3.** For each phyla, barplots representing the number of BGC sequences (log10) of the different classes. Unclassified refers to all BGC sequences that did not have a taxonomic annotation at the phylum level. "
   ]
  },
  {
   "cell_type": "markdown",
   "id": "3fbaf876-278f-4ca5-8927-f5ef358cf34b",
   "metadata": {
    "tags": []
   },
   "source": [
    "**Main observations**: The Pseudomonadota (also named Proteobacteria), is the phylum with the largest number of BGC sequences. Notably, we observed a large number of taxonomically unclassified BGC of all 16 BGC classes."
   ]
  },
  {
   "cell_type": "markdown",
   "id": "c37d331b-7266-4e69-8461-117875760972",
   "metadata": {
    "tags": []
   },
   "source": [
    "***"
   ]
  },
  {
   "cell_type": "markdown",
   "id": "b2e05e3b-cdff-4caa-af59-38865c7c80c6",
   "metadata": {},
   "source": [
    "Now let's analyze the taxonomic composition of the complete BGC sequences."
   ]
  },
  {
   "cell_type": "code",
   "execution_count": null,
   "id": "4a5d86de-fa9e-4acd-9e1b-11320c3ac587",
   "metadata": {
    "tags": []
   },
   "outputs": [],
   "source": [
    "phyla_colors <-  as.character(bgc_colors[10:16])\n",
    "\n",
    "bgc2taxa_counts_complete <- bgc2taxa %>%\n",
    "                            filter(edge == F) %>%\n",
    "                            group_by(bgc_class, phylum) %>%\n",
    "                            summarize(seqs_n_tax = n()) %>%\n",
    "                            group_by(bgc_class) %>%\n",
    "                            mutate(seqs_n_tax_rel = 100*seqs_n_tax/sum(seqs_n_tax))\n",
    "\n",
    "phyla_names <- unique(bgc2taxa_counts_complete$phylum)\n",
    "i <- phyla_names!=\"Unclassified\"\n",
    "phyla_names <- c(phyla_names[i][order(phyla_names[i])], \"Unclassified\")\n",
    "bgc2taxa_counts_complete$phylum <- factor(bgc2taxa_counts_complete$phylum, levels = phyla_names)\n",
    "\n",
    "taxa2bgc_barplot <- ggplot(bgc2taxa_counts_complete, aes(x = bgc_class, y = seqs_n_tax, fill = phylum)) + \n",
    "                    geom_bar(stat = \"identity\", width = 0.5, alpha = 0.7) +\n",
    "                    xlab(\"BGC class\") +\n",
    "                    ylab(\"Number of BGC sequences\") +\n",
    "                    scale_fill_manual(name=\"Phylum\",\n",
    "                                      values = phyla_colors) +\n",
    "                  #  scale_y_continuous(expand=c(0,0.1), limits = c(-1,101)) +\n",
    "                    theme_light() +\n",
    "                    theme( \n",
    "                          axis.text.x = element_text(size = text_size +1, angle = 45, hjust = 1, color = \"black\"),\n",
    "                          axis.text.y = element_text(size = text_size, color = \"black\"),\n",
    "                          axis.title.x = element_text(size = text_size + 4, color = \"black\",\n",
    "                                                      margin = margin(10,0,0,0)),\n",
    "                          axis.title.y = element_text(size = text_size + 4, color = \"black\",\n",
    "                                                      margin = margin(0,15,0,0)),\n",
    "                          legend.text = element_text(size = text_size +2, color = \"black\"),\n",
    "                          legend.title = element_text(size = text_size +4 , color = \"black\"),\n",
    "                          legend.position = \"right\",\n",
    "                          legend.margin = ggplot2::margin(0,0,-5,0),\n",
    "                          strip.background = element_blank(),\n",
    "                          strip.text = element_text(color = \"black\", size = text_size)) +\n",
    "                    guides(fill = guide_legend(keywidth = 0.6, keyheight = 0.6)) \n",
    "\n",
    "options(repr.plot.width=8, repr.plot.height=6)\n",
    "taxa2bgc_barplot"
   ]
  },
  {
   "cell_type": "markdown",
   "id": "c431616b-37bf-4c70-a925-0e276b8fbe29",
   "metadata": {
    "tags": []
   },
   "source": [
    "**Figure 4**. Barplots representing the number of complete BGC sequences per class. Different colors in each bar represent different phyla. Complete BGC sequences are identified as those that are not annotated on an edge of a contig."
   ]
  },
  {
   "cell_type": "markdown",
   "id": "ca69c31f-f692-4950-b96d-7518cd40264b",
   "metadata": {
    "tags": []
   },
   "source": [
    "**Main observations**: The Unclassified group concentrates the majority of the BGC sequences, while the terpenes appear as the BGC class with the highest number of complete BGC sequences, probably, due to its higher abundance and relatively shorter length.  "
   ]
  },
  {
   "cell_type": "markdown",
   "id": "4528b168-aa52-4caa-b226-80e021e88cac",
   "metadata": {
    "tags": []
   },
   "source": [
    "***\n",
    "**3. Explore the BGC diversity**\n",
    "***"
   ]
  },
  {
   "cell_type": "markdown",
   "id": "f1fd9522-8838-47ee-b014-04ad920e7d1f",
   "metadata": {
    "tags": []
   },
   "source": [
    "In this analysis we are going to create rarefaction curves based on the Gene Cluster Families (GCFs) obtained with [BiG-SCAPE](https://github.com/medema-group/BiG-SCAPE).  \n",
    "For this, we will follow the same [approach](https://en.wikipedia.org/wiki/Rarefaction_(ecology)) that is traditionally applied when working with Operation Taxonomic Units (OTUs)."
   ]
  },
  {
   "cell_type": "markdown",
   "id": "39a3bfaf-a201-404d-be15-4f69c64897b8",
   "metadata": {},
   "source": [
    "Let's first load the clustering data."
   ]
  },
  {
   "cell_type": "code",
   "execution_count": null,
   "id": "8cf9b22c-79b6-4616-bb8f-f2b53fc58352",
   "metadata": {
    "tags": []
   },
   "outputs": [],
   "source": [
    "BGC_CLUST <- read_tsv(\"./tables/all_clustering_c1.00.tsv.gz\", \n",
    "                     col_names = T, show_col_type = F)\n",
    "head(BGC_CLUST, n = 5)"
   ]
  },
  {
   "cell_type": "markdown",
   "id": "ad0760c0-d127-4853-8c19-f932c23d5f91",
   "metadata": {},
   "source": [
    "Then we construct a sample x GCF abundance matrix.  \n",
    "Thus, we have to map the BGCs' abundance data from our `BGC_TBL` table."
   ]
  },
  {
   "cell_type": "code",
   "execution_count": null,
   "id": "ad633751-c1ce-4282-8250-0f1a85616aac",
   "metadata": {
    "tags": []
   },
   "outputs": [],
   "source": [
    "bcg_clust2abund <- BGC_CLUST %>%\n",
    "                   mutate(seq_id = sub(x = seq_id, pattern = \".region.*\", replacement = \"\")) %>%\n",
    "                   left_join(x = .,\n",
    "                             y = BGC_TBL %>% select(-sample),\n",
    "                             by = \"seq_id\") %>%\n",
    "                   select(bgc, sample, cluster_id, abund) %>%\n",
    "                   group_by(bgc, sample, cluster_id) %>%\n",
    "                   summarize(abund = sum(abund)) %>%\n",
    "                   left_join(x =., \n",
    "                             y = METADATA_TBL %>% select(run_accession, collection_date),\n",
    "                             by = c(\"sample\" = \"run_accession\")) %>%\n",
    "                    ungroup %>%\n",
    "                    select(-sample) %>%\n",
    "                    mutate(sample = as.character(collection_date))\n",
    "               "
   ]
  },
  {
   "cell_type": "markdown",
   "id": "007b0ffa-45ba-45a1-a93d-d3f1c9052b3a",
   "metadata": {
    "tags": []
   },
   "source": [
    "Next, we rarefy the data using our custom R function: [custom_rarefy](https://github.com/pereiramemo/bioprospecting/blob/main/aux_scripts/custom_rarefy.R) and create the plot of the rarefaction curves."
   ]
  },
  {
   "cell_type": "code",
   "execution_count": null,
   "id": "5b26ae0e-eecd-4f55-b26e-1a04a0309be0",
   "metadata": {
    "tags": []
   },
   "outputs": [],
   "source": [
    "bgc_names <- unique(bcg_clust2abund$bgc)\n",
    "rare_plots_list <- list()\n",
    "\n",
    "for (i in bgc_names) {\n",
    "  \n",
    "  rare_data <- custom_rarefy(TBL = bcg_clust2abund, bgc_name = i, n_cores = 20)\n",
    "  \n",
    "  if (is.null(rare_data)) { \n",
    "    \n",
    "    next()\n",
    "    \n",
    "  }\n",
    "  \n",
    "  rare_data$rare$Season <- get_season_north(rare_data$rare$sample)\n",
    "  rare_plots_list[[i]] <- ggplot(rare_data$rare, \n",
    "                                 aes(x = iteration, \n",
    "                                     y = richness, \n",
    "                                     group = sample, \n",
    "                                     color = Season)) +\n",
    "                          scale_color_manual(\"Season\", values = season_colors) +\n",
    "                          geom_line(linewidth = 1.2, alpha = 0.7) +\n",
    "                          ylab(\"Richness\") +\n",
    "                          xlab(\"Sample size\") +\n",
    "                          scale_x_continuous(labels = scales::scientific, \n",
    "                                             limits = c(0,  max(rare_data$rare$iteration) + 3)) +\n",
    "                          scale_y_continuous(labels = scales::scientific) +\n",
    "                          theme_bw() +\n",
    "                          ggtitle(i) +\n",
    "                          theme( \n",
    "                                axis.text.x = element_text(size = text_size +1, color = \"black\"),\n",
    "                                axis.text.y = element_text(size = text_size, color = \"black\"),\n",
    "                                axis.title.x = element_text(size = text_size + 4, color = \"black\",\n",
    "                                                            margin = margin(10,0,0,0)),\n",
    "                                axis.title.y = element_text(size = text_size + 4, color = \"black\",\n",
    "                                                            margin = margin(0,15,0,0)),\n",
    "                                legend.text = element_text(size = text_size +2, color = \"black\"),\n",
    "                                legend.title = element_text(size = text_size +4 , color = \"black\"),\n",
    "                                legend.position = \"right\",\n",
    "                                legend.margin = ggplot2::margin(0,0,-5,0),\n",
    "                                strip.background = element_blank(),\n",
    "                                strip.text = element_text(color = \"black\", size = text_size),\n",
    "                                plot.title = element_text(size = text_size + 8, face = \"bold\", hjust = 0.5)) +\n",
    "                           guides(fill = guide_legend(keywidth = 0.6, keyheight = 0.6)) +\n",
    "                          annotate(\"text\", \n",
    "                                   label = rare_data$coords$sample, \n",
    "                                   x = rare_data$coords$max_interation, \n",
    "                                   y = rare_data$coords$max_richness+ 1,\n",
    "                                   size = 4, check_overlap = T) \n",
    "}\n"
   ]
  },
  {
   "cell_type": "markdown",
   "id": "e0b3900b-4a25-4c19-bd16-695536ce19c7",
   "metadata": {},
   "source": [
    "The only BGC class for which we can create this plot are the **Terpenes**, for all the others we don't have enough data."
   ]
  },
  {
   "cell_type": "code",
   "execution_count": null,
   "id": "e705a3cf-b39a-4f63-9ac6-cede7cea02e5",
   "metadata": {
    "tags": []
   },
   "outputs": [],
   "source": [
    "options(repr.plot.width=16, repr.plot.height=8)\n",
    "rare_plots_list$Terpene"
   ]
  },
  {
   "cell_type": "markdown",
   "id": "f648cd56-2469-4104-b8fc-9854e86aef22",
   "metadata": {
    "tags": []
   },
   "source": [
    "**Figure 5**. Rarefaction curves of the Gene Cluster Families (GCFs) of Terpenes. To create these curves we used the Terpene GCF abundance matrix, which comprised 85 different GCFs.   "
   ]
  },
  {
   "cell_type": "markdown",
   "id": "08bb2f83-5279-4993-8ca6-fbdb3266903f",
   "metadata": {},
   "source": [
    "**Main observations:** This figure shows that the samples from Summer and Spring have a much higher abundance of terpenes and a greater diversity. It is worth noting that none of the curves reach a plateau, that is, a greater sampling effort is needed to capture the diversity of terpenes in these environments. "
   ]
  },
  {
   "cell_type": "markdown",
   "id": "71e57feb-4ef6-48d1-b462-b73a42a9b8c2",
   "metadata": {
    "tags": []
   },
   "source": [
    "***\n",
    "<a id='section4'></a>\n",
    "**4. Assess the BGC novelty**\n",
    "***"
   ]
  },
  {
   "cell_type": "markdown",
   "id": "961bc7d0-8342-4e43-98a5-30606b9a5d06",
   "metadata": {},
   "source": [
    "Lastly, let's assess the novelty of all BGC sequences utilizing [MIBiG DB](https://mibig.secondarymetabolites.org/) as a reference.  \n",
    "For this, we are going to use the output of [BiG-SCAPE](https://github.com/medema-group/BiG-SCAPE), where we clustered the BGC sequences identified in our metagenomic samples together with BGC sequences of MIBiG.  \n",
    "Let's load the table with all the distances between query and reference BGC sequences."
   ]
  },
  {
   "cell_type": "code",
   "execution_count": null,
   "id": "a2c5da3b-5e9b-4c93-9e92-6423c606ccda",
   "metadata": {
    "tags": []
   },
   "outputs": [],
   "source": [
    "BGC_DIST <- read_tsv(\"./tables/all_c1.00.network.gz\", \n",
    "                     col_names = T, show_col_type = F)\n",
    "\n",
    "head(BGC_DIST)"
   ]
  },
  {
   "cell_type": "markdown",
   "id": "a85d99b1-2562-4401-b0de-b9dcd40d6a6b",
   "metadata": {
    "tags": []
   },
   "source": [
    "And now extract our metagenomic BGC sequences."
   ]
  },
  {
   "cell_type": "code",
   "execution_count": null,
   "id": "a9557c0a-5973-4c90-ba5f-7907b203e445",
   "metadata": {
    "tags": []
   },
   "outputs": [],
   "source": [
    "BGC_DIST_redu <- BGC_DIST %>% \n",
    "                 filter( grepl(x = `Clustername 1`, pattern = \"BGC\", perl = T) & grepl(x = `Clustername 2`, pattern = \"ERR\", perl = T) ) \n",
    "head(BGC_DIST_redu)"
   ]
  },
  {
   "cell_type": "markdown",
   "id": "9b3fe118-8884-4a51-949c-1b19a10fd6de",
   "metadata": {},
   "source": [
    "Let's select the BGCs from MIBiG that have the shortest distance to our metagenomic BGCs."
   ]
  },
  {
   "cell_type": "code",
   "execution_count": null,
   "id": "cfb013c4-07e6-4eb2-85f6-4d9f64e030a5",
   "metadata": {
    "tags": []
   },
   "outputs": [],
   "source": [
    "BGC_DIST_redu_min_dist <- BGC_DIST_redu %>%\n",
    "                          mutate(`Clustername 2` = sub(x = `Clustername 2`, pattern = \".region.*\", replacement = \"\")) %>%\n",
    "                          left_join(x = ., \n",
    "                                    y = bgc2taxa, \n",
    "                                    by = c(\"Clustername 2\" = \"seq_id\")) %>%\n",
    "                          group_by(bgc, `Clustername 2`) %>%\n",
    "                          mutate(min_dist = min(`Raw distance`)) %>%\n",
    "                          filter(`Raw distance` <= min_dist)\n",
    "                          \n",
    "\n",
    "head(BGC_DIST_redu_min_dist, n = 5)"
   ]
  },
  {
   "cell_type": "markdown",
   "id": "5a11f4a1-e910-4059-af1d-8f8fe259f9d5",
   "metadata": {},
   "source": [
    "Let's see this in a boxplot."
   ]
  },
  {
   "cell_type": "code",
   "execution_count": null,
   "id": "d0e18439-d211-4a5c-a9e8-133cad30ec0a",
   "metadata": {
    "tags": []
   },
   "outputs": [],
   "source": [
    "phyla_names <- as.character(unique(BGC_DIST_redu_min_dist$phylum))\n",
    "i <- phyla_names!=\"Unclassified\"\n",
    "phyla_names <- c(phyla_names[i][order(phyla_names[i])], \"Unclassified\")\n",
    "BGC_DIST_redu_min_dist$phylum <- factor(BGC_DIST_redu_min_dist$phylum, levels = phyla_names)\n",
    "\n",
    "phyla_colors <- as.character(bgc_colors[1:length(phyla_names)])\n",
    "names(phyla_colors) <- phyla_names\n",
    "\n",
    "bgc_novelty_boxplot <- ggplot(BGC_DIST_redu_min_dist, aes(x = phylum, y = `Raw distance`, \n",
    "                                                          fill = phylum, color = phylum)) + \n",
    "                       facet_wrap(~bgc_class, scales = \"free_x\", nrow = 2) +\n",
    "                       geom_boxplot(alpha = 0.7) +\n",
    "                       # geom_jitter() +\n",
    "                       xlab(\"BGC class\") +\n",
    "                       ylab(\"Minimum distance to a reference BGC\") +\n",
    "                       theme_light() +\n",
    "                       scale_fill_manual(name=\"Phylum\",\n",
    "                                         values = phyla_colors) +\n",
    "                       scale_color_manual(name=\"Phylum\",\n",
    "                                         values = phyla_colors) +\n",
    "                       \n",
    "                       theme( \n",
    "                             axis.text.x = element_text(size = text_size -1, angle = 45, hjust = 1, color = \"black\"),\n",
    "                             axis.text.y = element_text(size = text_size, color = \"black\"),\n",
    "                             axis.title.x = element_text(size = text_size + 4, color = \"black\",\n",
    "                                                         margin = margin(10,0,0,0)),\n",
    "                             axis.title.y = element_text(size = text_size + 4, color = \"black\",\n",
    "                                                         margin = margin(0,15,0,0)),\n",
    "                             strip.background = element_blank(),\n",
    "                             strip.text = element_text(color = \"black\", size = text_size),\n",
    "                             legend.text = element_text(size = text_size +2, color = \"black\"),\n",
    "                             legend.title = element_text(size = text_size +4 , color = \"black\"),\n",
    "                             legend.position = \"none\",\n",
    "                             legend.margin = ggplot2::margin(0,0,-5,0)) +\n",
    "                        guides(fill = guide_legend(keywidth = 0.6, keyheight = 0.6)) \n",
    "\n",
    "options(repr.plot.width=20, repr.plot.height=9)\n",
    "bgc_novelty_boxplot"
   ]
  },
  {
   "cell_type": "markdown",
   "id": "90037f34-3aa4-4135-976c-4674545bd8d9",
   "metadata": {},
   "source": [
    "**Figure 6**. For each BGC class, boxplots representing the distribution of minimum distances between the metagenomic BGC sequence of different phyla and reference MIBiG BGC sequences.  "
   ]
  },
  {
   "cell_type": "markdown",
   "id": "7e68cfed-c2a0-457f-8cc5-96890c411240",
   "metadata": {},
   "source": [
    "**Main observations:** Apart from the Siderophores, TIPKS, and the Bacteroidetes and Unclassified Arylpolyene BGC sequences, the medians of the minimum distances have a value above 0.8, indicating a high novelty with respect to MIBiG. In addition, different phyla show little variation of the minimum distance to reference BGCs, except for Arylpolyene, TIPKS, and Terpene. "
   ]
  },
  {
   "cell_type": "markdown",
   "id": "1ad266b2-f280-4adf-bde6-7401793b3a76",
   "metadata": {
    "tags": []
   },
   "source": [
    "***"
   ]
  },
  {
   "cell_type": "markdown",
   "id": "885d8e56-e1be-4cdf-8f58-5a4a959d73d3",
   "metadata": {},
   "source": [
    "Let's do the same considering only the complete BGC sequences. "
   ]
  },
  {
   "cell_type": "code",
   "execution_count": null,
   "id": "79abecbe-56f3-4845-993b-09887fdbacc8",
   "metadata": {
    "tags": []
   },
   "outputs": [],
   "source": [
    "phyla_names <- BGC_DIST_redu_min_dist %>% filter(edge == F) %>% pull(phylum) %>% unique() %>% as.character()\n",
    "\n",
    "bgc_novelty_boxplot <- ggplot(BGC_DIST_redu_min_dist %>% filter(edge == F), \n",
    "                              aes(x = phylum, y = `Raw distance`, fill = phylum, colour = phylum)) + \n",
    "                       facet_grid(~bgc_class, scales = \"free_x\") +\n",
    "                       geom_boxplot(alpha = 0.7) +\n",
    "                       xlab(\"BGC class\") +\n",
    "                       ylab(\"Distance to reference BGC\") +\n",
    "                       theme_light() +\n",
    "                       scale_fill_manual(name=\"Phyla\",\n",
    "                                         values = phyla_colors[phyla_names[order(phyla_names)]]) +\n",
    "                       scale_color_manual(name=\"Phyla\",\n",
    "                                          values = phyla_colors[phyla_names[order(phyla_names)]]) +\n",
    "                       \n",
    "                       theme( \n",
    "                             axis.text.x = element_text(size = text_size +1, angle = 45, hjust = 1, color = \"black\"),\n",
    "                             axis.text.y = element_text(size = text_size, color = \"black\"),\n",
    "                             axis.title.x = element_text(size = text_size + 4, color = \"black\",\n",
    "                                                         margin = margin(10,0,0,0)),\n",
    "                             axis.title.y = element_text(size = text_size + 4, color = \"black\",\n",
    "                                                         margin = margin(0,15,0,0)),\n",
    "                             strip.background = element_blank(),\n",
    "                             strip.text = element_text(color = \"black\", size = text_size),\n",
    "                             legend.text = element_text(size = text_size +2, color = \"black\"),\n",
    "                             legend.title = element_text(size = text_size +4 , color = \"black\"),\n",
    "                             legend.position = \"none\") +\n",
    "                        guides(fill = guide_legend(keywidth = 0.6, keyheight = 0.6)) \n",
    "\n",
    "options(repr.plot.width=16, repr.plot.height=5)\n",
    "bgc_novelty_boxplot"
   ]
  },
  {
   "cell_type": "markdown",
   "id": "4565f5d5-cad6-4a7f-8398-b01286108eab",
   "metadata": {},
   "source": [
    "**Figure 7**. Same as Figure 6, but restricted to complete BGC sequences."
   ]
  },
  {
   "cell_type": "markdown",
   "id": "860d26d9-bb71-4a0d-922e-b8bbf14f852d",
   "metadata": {
    "tags": []
   },
   "source": [
    "**Main observations:** The RiPPs complete sequences show the highest novelty with respect to MIBiG. [The RiPP BGC class is known to produce a large diversity of compounds as a result of the post translational modifications.](https://pubs.rsc.org/en/content/articlelanding/2013/np/c2np20085f), making these complete sequences an interesting case for further studies."
   ]
  },
  {
   "cell_type": "markdown",
   "id": "939251ae-03b7-49c6-a55d-1d927d225eaf",
   "metadata": {
    "tags": []
   },
   "source": [
    "***"
   ]
  },
  {
   "cell_type": "markdown",
   "id": "d87e5fca-cebf-42d1-9dd9-1f9022866841",
   "metadata": {
    "tags": []
   },
   "source": [
    "We can see which are these reference BGCs with the following command:"
   ]
  },
  {
   "cell_type": "code",
   "execution_count": null,
   "id": "e4a67a93-7204-4ef7-97fe-100eda6efe38",
   "metadata": {
    "tags": []
   },
   "outputs": [],
   "source": [
    "BGC_DIST_redu_min_dist %>%\n",
    "filter(edge == F && bgc_class == \"RiPP-like\") %>%\n",
    "pull(`Clustername 1`) %>%\n",
    "unique()"
   ]
  },
  {
   "cell_type": "markdown",
   "id": "9f489555-4c3a-4848-a069-5075611daf1a",
   "metadata": {
    "tags": []
   },
   "source": [
    "If we look for these BGCs in [MIBiG database](https://mibig.secondarymetabolites.org/) we can find the compounds that they produce.\n",
    "Note: BGC0001546 has a new id in MIBiG which is BGC0001485."
   ]
  },
  {
   "cell_type": "markdown",
   "id": "ec6d8857-4609-44f7-b36e-76267228319c",
   "metadata": {
    "tags": []
   },
   "source": [
    "[BGC0001546](https://mibig.secondarymetabolites.org/repository/BGC0001485/#r1c1) and [BGC0000550](https://mibig.secondarymetabolites.org/repository/BGC0000550/index.html#r1c1) are responsible for the production of chuangxinmycin (antibiotic) and salivaricin G32 (lantibiotic), respectively."
   ]
  }
 ],
 "metadata": {
  "kernelspec": {
   "display_name": "R",
   "language": "R",
   "name": "ir"
  },
  "language_info": {
   "codemirror_mode": "r",
   "file_extension": ".r",
   "mimetype": "text/x-r-source",
   "name": "R",
   "pygments_lexer": "r",
   "version": "4.2.2"
  }
 },
 "nbformat": 4,
 "nbformat_minor": 5
}
