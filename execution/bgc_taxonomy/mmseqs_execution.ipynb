{
 "cells": [
  {
   "cell_type": "markdown",
   "id": "01e9c06c-a5a9-4b03-9aa2-ee7be00ac940",
   "metadata": {},
   "source": [
    "![image](https://cdn.discordapp.com/attachments/996200880351215636/1065002848355631165/New_Atlantis.png) "
   ]
  },
  {
   "cell_type": "markdown",
   "id": "321d56b0-ecb4-47e9-b471-8fcee9da8a87",
   "metadata": {
    "tags": []
   },
   "source": [
    "---\n",
    "# Execution of the MMSeqs Tool: taxonomy mode\n",
    "---"
   ]
  },
  {
   "cell_type": "markdown",
   "id": "f8692730-b6ab-4445-a5db-c07cb4437843",
   "metadata": {},
   "source": [
    "## Introduction\n",
    "---"
   ]
  },
  {
   "cell_type": "markdown",
   "id": "6cf2a05b-d1c0-455b-ac1e-e9a2c811e3fd",
   "metadata": {},
   "source": [
    "[MMseqs2](https://github.com/soedinglab/MMseqs2) (Many-against-Many sequence searching) is a software suite to search and cluster huge protein and nucleotide sequence sets. This tool also includes a [workflow dedicated to the taxonomic annotation of protein sequences](https://github.com/soedinglab/MMseqs2#taxonomy), based on a search against a specified reference database containing taxonomy information, the selection of most representative sequences according to different strategies, and the computation of the lowest common ancestor. "
   ]
  },
  {
   "cell_type": "markdown",
   "id": "800a33bf-bdf4-412a-9b7f-58a4dea69722",
   "metadata": {},
   "source": [
    "## 1. Initialization"
   ]
  },
  {
   "cell_type": "markdown",
   "id": "c183d4a2-03fb-404c-93a1-171a76f06ff6",
   "metadata": {},
   "source": [
    "### 1.1 Create directories (run then comment)\n",
    "---"
   ]
  },
  {
   "cell_type": "code",
   "execution_count": 3,
   "id": "861ea586-f45c-4e37-a828-3eb8be7f5df8",
   "metadata": {
    "tags": []
   },
   "outputs": [],
   "source": [
    "# import os \n",
    "\n",
    "# if not os.path.exists('./src'):\n",
    "#     os.makedirs('./src')\n",
    "#     os.makedirs('./data')\n",
    "#     os.makedirs('./data/input_data')\n",
    "#     os.makedirs('./data/output_data')\n",
    "#     os.makedirs('./data/reference_data')\n",
    "#     with open('./src/requirements.txt', 'w') as f:\n",
    "#         pass\n",
    "#     with open('./src/utilities.ipynb', 'a') as nb:\n",
    "#         pass"
   ]
  },
  {
   "cell_type": "markdown",
   "id": "e77c9dea-7126-4093-8fb3-ef15b5a6494a",
   "metadata": {},
   "source": [
    "### 1.2 Input data \n",
    "---"
   ]
  },
  {
   "cell_type": "markdown",
   "id": "e1a08121-1de5-4a1b-b916-5fc875a1f5aa",
   "metadata": {},
   "source": [
    "The input data consists of the [antiSMASH](https://github.com/antismash/antismash) output, containing the BGC annotated sequences as GenBank files, and the MAGs or contigs generated with [VEBA](https://github.com/jolespin/veba) (i.e., the sequences in which the BGCs were annotated)."
   ]
  },
  {
   "cell_type": "markdown",
   "id": "abbb281f-984d-4d1b-8a6f-e9c094824f26",
   "metadata": {},
   "source": [
    "### 1.3 Output data \n",
    "---"
   ]
  },
  {
   "cell_type": "markdown",
   "id": "1219e61d-c308-4b1f-b0a5-a308951cc9ce",
   "metadata": {},
   "source": [
    "An output table containing the taxonomic annotation of the BGC annotated sequences."
   ]
  },
  {
   "cell_type": "markdown",
   "id": "973a71fe-2e3c-4867-802d-b1d5af0d2122",
   "metadata": {},
   "source": [
    "### 1.4 Data loading\n",
    "---"
   ]
  },
  {
   "cell_type": "markdown",
   "id": "a7d643f7-4c48-4f28-90f4-b7b779f85577",
   "metadata": {},
   "source": [
    "Here we are going to get the previously generated output of antiSMASH, where the tool was used to annotate the BGC sequences in the [SOLA dataset](https://www.nature.com/articles/s41396-018-0158-1). In addition, we will be getting the assembly data of the mentioned dataset."
   ]
  },
  {
   "cell_type": "markdown",
   "id": "33903adb-3d8b-43d5-aca8-6336ce57ccdb",
   "metadata": {},
   "source": [
    "In order to save some space, we are going to create soft links, instead of copying the data."
   ]
  },
  {
   "cell_type": "code",
   "execution_count": 11,
   "id": "286ea992-10ff-43f3-9602-f0caf8d9795f",
   "metadata": {},
   "outputs": [],
   "source": [
    "! ln -s ../bgc_annotation/data/output_data/sola_antismashed/ ./data/input_data/"
   ]
  },
  {
   "cell_type": "code",
   "execution_count": 13,
   "id": "dbb26652-6626-4d75-986f-7910f088e790",
   "metadata": {},
   "outputs": [],
   "source": [
    "! ln -s ../bgc_annotation/data/input_data/sola ./data/input_data/"
   ]
  },
  {
   "cell_type": "markdown",
   "id": "68a91c24-62d1-4d40-83e4-e97de1e4b014",
   "metadata": {},
   "source": [
    "---\n",
    "# 2. Environment\n",
    "---"
   ]
  },
  {
   "cell_type": "markdown",
   "id": "e028d77b-b270-4032-949f-2d2bd47125e6",
   "metadata": {},
   "source": [
    "### 2.1 Main dependencies\n",
    "___"
   ]
  },
  {
   "cell_type": "code",
   "execution_count": 15,
   "id": "607743c7-1f53-4c55-830d-5696ef5ef23d",
   "metadata": {},
   "outputs": [],
   "source": [
    "# Empty"
   ]
  },
  {
   "cell_type": "markdown",
   "id": "18a2a64e-be8a-464b-8968-2eb0d746a72d",
   "metadata": {},
   "source": [
    "### 2.2 Notebook utility installs\n",
    "___"
   ]
  },
  {
   "cell_type": "markdown",
   "id": "98cc9242-ad4e-4d57-bf35-481b041b2936",
   "metadata": {},
   "source": [
    "The import-ipynb package installed here provides utility in using a refernce notebook as a Python module."
   ]
  },
  {
   "cell_type": "code",
   "execution_count": 16,
   "id": "d6c657f2-5f07-4311-a30e-23fc396d8904",
   "metadata": {},
   "outputs": [
    {
     "name": "stdout",
     "output_type": "stream",
     "text": [
      "\u001b[33mDEPRECATION: Loading egg at /home/epereira/anaconda3/lib/python3.11/site-packages/mglib-1.1-py3.11.egg is deprecated. pip 24.3 will enforce this behaviour change. A possible replacement is to use pip for package installation.. Discussion can be found at https://github.com/pypa/pip/issues/12330\u001b[0m\u001b[33m\n",
      "\u001b[0m"
     ]
    }
   ],
   "source": [
    "#install for import-ipynb that will be applied later\n",
    "!pip3 install import-ipynb -q"
   ]
  },
  {
   "cell_type": "markdown",
   "id": "fa817501-0ce5-4612-b433-ef1a007efde9",
   "metadata": {},
   "source": [
    "### 2.3 R Based dependencies\n",
    "---"
   ]
  },
  {
   "cell_type": "code",
   "execution_count": 17,
   "id": "49dbd442-aaf6-45ba-9e35-6ddb4bcb8054",
   "metadata": {},
   "outputs": [],
   "source": [
    "# Empty"
   ]
  },
  {
   "cell_type": "markdown",
   "id": "0c280ab3-bb8b-4924-86e3-c70e8483e3ff",
   "metadata": {},
   "source": [
    "### 2.4 Import statements (code)(import ipynb)\n",
    "---"
   ]
  },
  {
   "cell_type": "code",
   "execution_count": 18,
   "id": "eeb3c845-62e1-4a8e-b8b6-da2b79f9cef6",
   "metadata": {},
   "outputs": [],
   "source": [
    "# Empty"
   ]
  },
  {
   "cell_type": "markdown",
   "id": "7d307b73-998d-4906-ae10-cf1314809ef6",
   "metadata": {},
   "source": [
    "### 2.5 Session envrionmental variables\n",
    "---"
   ]
  },
  {
   "cell_type": "code",
   "execution_count": 22,
   "id": "ed16dda0-8618-4432-b72f-e7c9d6757f1a",
   "metadata": {},
   "outputs": [],
   "source": [
    "#  Empty"
   ]
  },
  {
   "cell_type": "markdown",
   "id": "2d6150e3-8716-4400-8e45-fabe934517ef",
   "metadata": {},
   "source": [
    "### 2.6 Input and output data files and directories \n",
    "---"
   ]
  },
  {
   "cell_type": "code",
   "execution_count": 19,
   "id": "59ce1bea-8911-4cca-885f-ce7a80b79f37",
   "metadata": {},
   "outputs": [
    {
     "name": "stdout",
     "output_type": "stream",
     "text": [
      "env: INPUT_DIR_ANTISMASH=./data/input_data/sola_antismashed\n"
     ]
    }
   ],
   "source": [
    "%env INPUT_DIR_ANTISMASH=./data/input_data/sola_antismashed"
   ]
  },
  {
   "cell_type": "code",
   "execution_count": 20,
   "id": "e4ea02f9-797c-4f31-a6f5-e15a83461a8b",
   "metadata": {},
   "outputs": [
    {
     "name": "stdout",
     "output_type": "stream",
     "text": [
      "env: INPUT_DIR_DATASET=./data/input_data/sola\n"
     ]
    }
   ],
   "source": [
    "%env INPUT_DIR_DATASET=./data/input_data/sola"
   ]
  },
  {
   "cell_type": "code",
   "execution_count": 21,
   "id": "8d9dc894-52ad-4f25-8ff8-d47381c4a6bb",
   "metadata": {},
   "outputs": [
    {
     "name": "stdout",
     "output_type": "stream",
     "text": [
      "env: OUTPUT_DIR=./data/output_dir/\n"
     ]
    }
   ],
   "source": [
    "%env OUTPUT_DIR=./data/output_dir/"
   ]
  },
  {
   "cell_type": "markdown",
   "id": "7f6d2fd2-9ed9-4bad-9e4c-7a79cded4619",
   "metadata": {},
   "source": [
    "---\n",
    "## 3. Parameters\n",
    "---"
   ]
  },
  {
   "cell_type": "markdown",
   "id": "c25d89ea-4365-4cd2-ad8c-dfa288aff206",
   "metadata": {},
   "source": [
    "---\n",
    "## 4. Data Precleaning (if required) \n",
    "---"
   ]
  },
  {
   "cell_type": "markdown",
   "id": "cf48daba-1f74-4e8b-98d8-96b54af6f43b",
   "metadata": {},
   "source": [
    "---\n",
    "# 5. Execution of Tool \n",
    "---"
   ]
  },
  {
   "cell_type": "markdown",
   "id": "4dd74106-3088-49b1-92b4-92f3d78a0e32",
   "metadata": {},
   "source": [
    "---\n",
    "# 6. Data Post Processing (if required) \n",
    "---"
   ]
  },
  {
   "cell_type": "markdown",
   "id": "535a420e-919a-47ba-a8b5-15e2a0733e54",
   "metadata": {},
   "source": [
    "---\n",
    "# Conclusion\n",
    "---\n",
    "Include any final parting thoughts in this section.\n",
    "This section may also incude:\n",
    "- Common mistakes and fixes. \n",
    "- Debugging tips.\n",
    "- Contact for the author.\n",
    "- Any other information you would like to include"
   ]
  },
  {
   "cell_type": "markdown",
   "id": "56339f87-34a1-4fad-a584-9ebfa2be866b",
   "metadata": {},
   "source": []
  },
  {
   "cell_type": "markdown",
   "id": "c9825cda-38b4-4a11-9a35-315f96dfa27f",
   "metadata": {},
   "source": []
  },
  {
   "cell_type": "markdown",
   "id": "3fc821a5-1d24-4899-ae87-24aa86d05c60",
   "metadata": {},
   "source": []
  },
  {
   "cell_type": "markdown",
   "id": "c532b35d-5cc4-48b9-a09f-2f09ebe08d27",
   "metadata": {},
   "source": []
  },
  {
   "cell_type": "markdown",
   "id": "c8001bd4-2ad7-4c32-8117-cd5d5a050bd0",
   "metadata": {},
   "source": []
  },
  {
   "cell_type": "markdown",
   "id": "505e23f4-f056-4803-b336-973de2b5a061",
   "metadata": {},
   "source": []
  }
 ],
 "metadata": {
  "kernelspec": {
   "display_name": "Python 3 (ipykernel)",
   "language": "python",
   "name": "python3"
  },
  "language_info": {
   "codemirror_mode": {
    "name": "ipython",
    "version": 3
   },
   "file_extension": ".py",
   "mimetype": "text/x-python",
   "name": "python",
   "nbconvert_exporter": "python",
   "pygments_lexer": "ipython3",
   "version": "3.11.6"
  }
 },
 "nbformat": 4,
 "nbformat_minor": 5
}
