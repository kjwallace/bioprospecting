{
 "cells": [
  {
   "cell_type": "markdown",
   "id": "8f89cfa5-4c2f-4b5c-839f-2d22252fb17d",
   "metadata": {},
   "source": [
    "![image](https://cdn.discordapp.com/attachments/996200880351215636/1065002848355631165/New_Atlantis.png) "
   ]
  },
  {
   "cell_type": "markdown",
   "id": "321d56b0-ecb4-47e9-b471-8fcee9da8a87",
   "metadata": {
    "tags": []
   },
   "source": [
    "---\n",
    "# Execution of the BiG-SLICE Tool: mapping mode\n",
    "---"
   ]
  },
  {
   "cell_type": "markdown",
   "id": "9c5e14e4-f345-41da-8ab4-29d41771ae56",
   "metadata": {},
   "source": [
    "## Introduction\n",
    "---"
   ]
  },
  {
   "cell_type": "markdown",
   "id": "2a41f9a9-6c2d-47a9-a063-5e9c5b07e0a5",
   "metadata": {},
   "source": [
    "[BiG-SLICE](https://github.com/pereiramemo/bigslice) is a tool designed to cluster BGC sequences into Gene Cluster Families (GCFs) based on their protein domain composition utilizing the [Balanced Iterative Reducing and Clustering using Hierarchies (BIRCH)](https://en.wikipedia.org/wiki/BIRCH) algorithm (which is a near-linear time complexity clustering algorithm).\n",
    "The tool can be executed in clustering mode or query mode, which perform the de novo clustering of BGC sequences and the positioning of query BGC sequences onto previously computed GCF models, respectively.   \n",
    "This notebook is dedicated to the excution of the BiG-SLICE tool utlizing the mapping mode."
   ]
  },
  {
   "cell_type": "markdown",
   "id": "e7aa602b-c578-40ab-a325-c25734c912aa",
   "metadata": {},
   "source": [
    "## 1. Initialization"
   ]
  },
  {
   "cell_type": "markdown",
   "id": "800a33bf-bdf4-412a-9b7f-58a4dea69722",
   "metadata": {},
   "source": [
    "### 1.1 Create directories (run then comment)\n",
    "---"
   ]
  },
  {
   "cell_type": "code",
   "execution_count": 2,
   "id": "861ea586-f45c-4e37-a828-3eb8be7f5df8",
   "metadata": {
    "tags": []
   },
   "outputs": [],
   "source": [
    "# import os \n",
    "\n",
    "# if not os.path.exists('./src'):\n",
    "#     os.makedirs('./src')\n",
    "#     os.makedirs('./data')\n",
    "#     os.makedirs('./data/input_data')\n",
    "#     os.makedirs('./data/output_data')\n",
    "#     os.makedirs('./data/reference_data')\n",
    "#     with open('./src/requirements.txt', 'w') as f:\n",
    "#         pass\n",
    "#     with open('./src/utilities.ipynb', 'a') as nb:\n",
    "#         pass"
   ]
  },
  {
   "cell_type": "markdown",
   "id": "e77c9dea-7126-4093-8fb3-ef15b5a6494a",
   "metadata": {},
   "source": [
    "### 1.2 Input data \n",
    "---"
   ]
  },
  {
   "cell_type": "markdown",
   "id": "e028d77b-b270-4032-949f-2d2bd47125e6",
   "metadata": {},
   "source": [
    "Input data consits of BGC sequences (complete or partial) annotated in contigs of Metagenome Assembled Genomes (MAGs), sotred as GenBank files and named fwollowing the [antiSMASH](https://github.com/antismash/antismash) or [MIBiG](https://mibig.secondarymetabolites.org/) nomenclature (i.e., <genome_name>.regionXXX.gbk and BGCXXXXXXX.gbk, respectively). \n",
    "These sequences have to be organized in a directory structure having the dataset and genomes subfolders as specified [here](https://github.com/medema-group/bigslice/wiki/Input-folder).\n",
    "This is the input data that the user must provide to run this Notebook. However, in order to being able execute the BiG-SLICE tool, here we are automatically generating the dataset.tsv and taxonomy.tsv files as described [here](https://github.com/medema-group/bigslice/wiki/Input-folder#datasetstsv).  \n",
    "For demonstration purposes, here we will be analyzing 38 metagenomics samples of the [SOLA dataset](https://pubmed.ncbi.nlm.nih.gov/29925880/), which is a time series dataset spanning three years (from 2012 to 2015) obtained from a coastal northwestern Mediterranean site. As a reference, we will be using the [MIBiG](https://mibig.secondarymetabolites.org/) v3 previously clustered with [BiG-SLICE](https://github.com/pereiramemo/bigslice). "
   ]
  },
  {
   "cell_type": "markdown",
   "id": "a2803ae5-51dc-4a2d-b442-170a8f18412d",
   "metadata": {},
   "source": [
    "### 1.3 Output data \n",
    "---"
   ]
  },
  {
   "cell_type": "markdown",
   "id": "7b85d43d-7a3c-4b46-8059-6293d0ec700a",
   "metadata": {},
   "source": [
    "A SQLite database is created with the following schema: "
   ]
  },
  {
   "cell_type": "markdown",
   "id": "5dd6c1ce-c2b1-4aae-9245-efb389c8d93a",
   "metadata": {},
   "source": []
  },
  {
   "cell_type": "markdown",
   "id": "30735204-59a5-4304-8891-ae498e3dbc00",
   "metadata": {},
   "source": [
    "### 1.4 Data loading\n",
    "---"
   ]
  },
  {
   "cell_type": "markdown",
   "id": "a695b6d8-926a-49da-9db7-89b31928b14a",
   "metadata": {},
   "source": [
    "Data to be mapped"
   ]
  },
  {
   "cell_type": "code",
   "execution_count": 21,
   "id": "e728dc9f-1b4a-422a-83ca-54d23bf1af07",
   "metadata": {},
   "outputs": [],
   "source": [
    "#cp -r ../bgc_clustering/data/input_data/sola_antismashed ./data/input_data/"
   ]
  },
  {
   "cell_type": "markdown",
   "id": "7a23a8aa-692b-4239-a0d9-97bb7c0f768d",
   "metadata": {},
   "source": [
    "Reference GCF models"
   ]
  },
  {
   "cell_type": "code",
   "execution_count": null,
   "id": "21e5e2d9-ac7e-4970-aba6-39bf2548cf3b",
   "metadata": {},
   "outputs": [],
   "source": [
    "#! aws s3 cp s3://newatlantis-case-studies/mibig_gcf_models/ ./data/output_data/mibig_gcf_models --recursive"
   ]
  },
  {
   "cell_type": "markdown",
   "id": "ad90a79e-33d2-4b4e-bbfe-9987c18b25f4",
   "metadata": {
    "tags": []
   },
   "source": [
    "---\n",
    "# 2. Environment\n",
    "---"
   ]
  },
  {
   "cell_type": "markdown",
   "id": "79bb8ad4-f3f8-4bd1-a284-f4dc25b8f6a5",
   "metadata": {
    "tags": []
   },
   "source": [
    "### 2.1 Main dependencies\n",
    "___"
   ]
  },
  {
   "cell_type": "markdown",
   "id": "3d4ff5f6-8795-431d-84d8-6c9a1e46036b",
   "metadata": {
    "tags": []
   },
   "source": [
    "[Docker](https://www.docker.com/)  \n",
    "[tidyverse R package](https://www.tidyverse.org/)  \n",
    "[RSQLite R package](https://cran.r-project.org/web/packages/RSQLite/index.html)"
   ]
  },
  {
   "cell_type": "markdown",
   "id": "59918e52-950c-48a9-a885-ea9ff54cf05f",
   "metadata": {
    "tags": []
   },
   "source": [
    "### 2.2 Notebook utility installs\n",
    "___"
   ]
  },
  {
   "cell_type": "markdown",
   "id": "16a90163-e6f7-49a3-a2d5-3d5d804b0933",
   "metadata": {},
   "source": [
    "The import-ipynb package installed here provides utility in using a refernce notebook as a Python module."
   ]
  },
  {
   "cell_type": "code",
   "execution_count": 6,
   "id": "d8a6b44b-8afd-4c80-b11d-0a0bcd78a6b5",
   "metadata": {},
   "outputs": [],
   "source": [
    "#install for import-ipynb that will be applied later\n",
    "# !pip3 install import-ipynb -q"
   ]
  },
  {
   "cell_type": "markdown",
   "id": "997df0a0-0b9b-444b-a6bb-f8905e4e2c98",
   "metadata": {},
   "source": [
    "### 2.3 R Based dependencies\n",
    "---"
   ]
  },
  {
   "cell_type": "code",
   "execution_count": null,
   "id": "5647a4a2-f0e6-4960-bcd2-9d29cd97a211",
   "metadata": {},
   "outputs": [],
   "source": [
    "# !Rscript -e 'install.packages(\"tidyverse\")' &> /dev/null\n",
    "# !Rscript -e 'install.packages(\"RSQLite\")' &> /dev/null"
   ]
  },
  {
   "cell_type": "markdown",
   "id": "f80cc56d-36e9-482d-93cc-636158a2d3f5",
   "metadata": {},
   "source": [
    "### 2.4 Import statements (code)(import ipynb)\n",
    "---"
   ]
  },
  {
   "cell_type": "code",
   "execution_count": 2,
   "id": "4f7b3ebf-21a7-46c4-8701-b3a02a69ff7d",
   "metadata": {},
   "outputs": [],
   "source": [
    "# Empty"
   ]
  },
  {
   "cell_type": "markdown",
   "id": "9ee330ce-46eb-4634-bb17-b06ab1fc09c1",
   "metadata": {},
   "source": [
    "### 2.5 Session envrionmental variables\n",
    "---"
   ]
  },
  {
   "cell_type": "code",
   "execution_count": 8,
   "id": "af655571-741c-4cdd-abec-51f1ea104a50",
   "metadata": {},
   "outputs": [],
   "source": [
    "# Empty"
   ]
  },
  {
   "cell_type": "markdown",
   "id": "b3ddae72-6500-4f99-9a8c-27206ab52da1",
   "metadata": {},
   "source": [
    "### 2.6 Input and output data files and directories \n",
    "---"
   ]
  },
  {
   "cell_type": "code",
   "execution_count": 23,
   "id": "5ad658ff-23c4-4335-a90d-628a13495549",
   "metadata": {},
   "outputs": [
    {
     "name": "stdout",
     "output_type": "stream",
     "text": [
      "env: INPUT_DIR=./data/input_data/sola_antismashed\n"
     ]
    }
   ],
   "source": [
    "%env INPUT_DIR=./data/input_data/sola_antismashed"
   ]
  },
  {
   "cell_type": "code",
   "execution_count": 24,
   "id": "b3a6092a-cfc3-465e-a19e-40f7f41ba088",
   "metadata": {},
   "outputs": [
    {
     "name": "stdout",
     "output_type": "stream",
     "text": [
      "env: REF_DIR=./data/output_data/mibig_gcf_models\n"
     ]
    }
   ],
   "source": [
    "%env REF_DIR=./data/output_data/mibig_gcf_models"
   ]
  },
  {
   "cell_type": "markdown",
   "id": "5e51905b-74dd-42d9-9b66-5e1e8f56cb60",
   "metadata": {
    "tags": []
   },
   "source": [
    "---\n",
    "## 3. Parameters\n",
    "---"
   ]
  },
  {
   "cell_type": "markdown",
   "id": "5c0479a5-6f3b-42e5-a7b7-87327f743d0f",
   "metadata": {},
   "source": [
    "`-t <N>, --num_threads <N>` The number of parallel jobs to run (default: 48)."
   ]
  },
  {
   "cell_type": "code",
   "execution_count": 10,
   "id": "db9399b0-477f-4128-bd7d-a772586b481e",
   "metadata": {
    "tags": []
   },
   "outputs": [
    {
     "name": "stdout",
     "output_type": "stream",
     "text": [
      "env: NUM_THREADS=40\n"
     ]
    }
   ],
   "source": [
    "%env NUM_THREADS=40"
   ]
  },
  {
   "cell_type": "markdown",
   "id": "dcf6f220-6fb4-43f7-89d3-76c8f8499fba",
   "metadata": {
    "tags": []
   },
   "source": [
    "`-threshold_pct <N>` Calculate clustering threshold (T) based on a random sampling of pairwise distances between the data, taking the N-th percentile value as the threshold.  \n",
    "Mutually exclusive with --threshold, use '-1' to turn off this parameter (default: -1)."
   ]
  },
  {
   "cell_type": "code",
   "execution_count": 11,
   "id": "689130ba-7ea3-46bd-a8c4-9e5102cdf109",
   "metadata": {
    "tags": []
   },
   "outputs": [
    {
     "name": "stdout",
     "output_type": "stream",
     "text": [
      "env: THRESHOLD_PCT=0.1\n"
     ]
    }
   ],
   "source": [
    "%env THRESHOLD_PCT=0.1"
   ]
  },
  {
   "cell_type": "markdown",
   "id": "09a101bf-d9b6-40e8-8473-6e8abce9ad0e",
   "metadata": {},
   "source": [
    "`--query_name <name>` Give a unique name to the query run so that it will be easier to trace within the output visualization."
   ]
  },
  {
   "cell_type": "code",
   "execution_count": 12,
   "id": "493c706b-05a9-43e9-82cb-220058cf7241",
   "metadata": {},
   "outputs": [
    {
     "name": "stdout",
     "output_type": "stream",
     "text": [
      "env: QUERY_NAME=sola\n"
     ]
    }
   ],
   "source": [
    "%env QUERY_NAME=sola"
   ]
  },
  {
   "cell_type": "markdown",
   "id": "96260cdb-cfc4-4b17-b686-6aba52f13c64",
   "metadata": {
    "tags": []
   },
   "source": [
    "---\n",
    "## 4. Data Precleaning (if required) \n",
    "---"
   ]
  },
  {
   "cell_type": "code",
   "execution_count": 1,
   "id": "b43b7008-2fca-48ec-85cf-e0b06f6f7e21",
   "metadata": {},
   "outputs": [],
   "source": [
    "# Empty"
   ]
  },
  {
   "cell_type": "markdown",
   "id": "e4f64e2f-e7ea-472d-9942-2010e2dcb193",
   "metadata": {
    "tags": []
   },
   "source": [
    "---\n",
    "# 5. Execution of Tool \n",
    "---"
   ]
  },
  {
   "cell_type": "code",
   "execution_count": 32,
   "id": "736599ad-4e8b-4b2a-8899-ab65d7330c16",
   "metadata": {},
   "outputs": [
    {
     "name": "stdout",
     "output_type": "stream",
     "text": [
      "sola\n"
     ]
    }
   ],
   "source": [
    "!echo \"${QUERY_NAME}\""
   ]
  },
  {
   "cell_type": "code",
   "execution_count": null,
   "id": "6fb48725-d14d-4d5c-819e-28cd0583c13b",
   "metadata": {
    "tags": []
   },
   "outputs": [],
   "source": [
    "! ./src/run_bigslice.sh query \"${INPUT_DIR}\" \"${REF_DIR}\" \\\n",
    "--num_threads \"${NUM_THREADS}\" \\\n",
    "--threshold_pct \"${THRESHOLD_PCT}\" \\\n",
    "--query_name \"${QUERY_NAME}\" &> /dev/null"
   ]
  },
  {
   "cell_type": "markdown",
   "id": "31aa663f-fc33-4af2-b25b-195edeeb5f0a",
   "metadata": {
    "tags": []
   },
   "source": [
    "---\n",
    "# Data Post Processing (if required) \n",
    "---"
   ]
  },
  {
   "cell_type": "markdown",
   "id": "96d262b3-64e7-47ec-bb18-41d1691612aa",
   "metadata": {},
   "source": [
    "## Write to output directory\n",
    "---\n",
    "If the tool does not do it automatically, use this cell to write the output data to the output directory defined in the parameter section."
   ]
  },
  {
   "cell_type": "markdown",
   "id": "a95f5b0f-10dc-429d-82a0-e5ce3b55a7a5",
   "metadata": {},
   "source": [
    "This section aims to contain all the code necessary to perform the data cleaning, formatting or analysis that would be performed on the output of this tool. Use the same formatting as previously mentioned in the execution section of the notebook:\n",
    "- Offload long code sections to the src/Utility_NB and import the code \n",
    "- Add validation to catch errors in and irregularities in the data \n",
    "- Alternate code and markdown cells \n",
    "- Include a markdown header for each step using ### to add it to the table of contents\n",
    "- Display data and transformations where necessary. "
   ]
  },
  {
   "cell_type": "markdown",
   "id": "56339f87-34a1-4fad-a584-9ebfa2be866b",
   "metadata": {},
   "source": []
  },
  {
   "cell_type": "markdown",
   "id": "c9825cda-38b4-4a11-9a35-315f96dfa27f",
   "metadata": {},
   "source": []
  },
  {
   "cell_type": "markdown",
   "id": "3fc821a5-1d24-4899-ae87-24aa86d05c60",
   "metadata": {},
   "source": []
  },
  {
   "cell_type": "markdown",
   "id": "c532b35d-5cc4-48b9-a09f-2f09ebe08d27",
   "metadata": {},
   "source": []
  },
  {
   "cell_type": "markdown",
   "id": "c8001bd4-2ad7-4c32-8117-cd5d5a050bd0",
   "metadata": {},
   "source": []
  },
  {
   "cell_type": "markdown",
   "id": "505e23f4-f056-4803-b336-973de2b5a061",
   "metadata": {},
   "source": []
  }
 ],
 "metadata": {
  "kernelspec": {
   "display_name": "Python 3 (ipykernel)",
   "language": "python",
   "name": "python3"
  },
  "language_info": {
   "codemirror_mode": {
    "name": "ipython",
    "version": 3
   },
   "file_extension": ".py",
   "mimetype": "text/x-python",
   "name": "python",
   "nbconvert_exporter": "python",
   "pygments_lexer": "ipython3",
   "version": "3.11.6"
  }
 },
 "nbformat": 4,
 "nbformat_minor": 5
}
