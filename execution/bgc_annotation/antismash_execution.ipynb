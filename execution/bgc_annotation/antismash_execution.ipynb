{
 "cells": [
  {
   "cell_type": "markdown",
   "id": "edbe3e02-a1ac-4540-b368-0a8b3d64c2a6",
   "metadata": {},
   "source": [
    "![image](https://cdn.discordapp.com/attachments/996200880351215636/1065002848355631165/New_Atlantis.png) "
   ]
  },
  {
   "cell_type": "markdown",
   "id": "321d56b0-ecb4-47e9-b471-8fcee9da8a87",
   "metadata": {
    "tags": []
   },
   "source": [
    "---\n",
    "# Execution of the antiSMASH Tool\n",
    "---"
   ]
  },
  {
   "cell_type": "markdown",
   "id": "3ad9045a-b22a-4690-8566-cbf08e920b28",
   "metadata": {},
   "source": [
    "## Introduction"
   ]
  },
  {
   "cell_type": "markdown",
   "id": "b3feb993-eb12-435d-a51f-856bc6028ea3",
   "metadata": {},
   "source": [
    " \n",
    " This notebook will give a demonstration of running the tool `antiSMASH` on assembled metagenomic data to identify Biosynthetic Gene Clusters (BGCs) from amongst the reads. `antiSMASH` stands for (antibiotics and Secondary Metabolite Analysis Shell) and is a comprehensive genome mining tool used for the automated identification, annotation, and analysis of secondary metabolite biosynthesis gene clusters in bacterial and fungal genomes. Secondary metabolites are bioactive compounds, often with therapeutic potential, including antibiotics, antifungals and antitumorals.\n",
    "'antiSMASH' has quite a few features, but here we utilize only its ability to identify BGCs It can identify all known types of BGCs such as those responsible for the production of polyketides, non-ribosomal peptides, terpenes, etc.\n",
    "   \n",
    "   \n",
    "The `antiSMASH` tool provides biologists and bioinformaticians with a useful means of deep-diving into genomic data to accelerate the discovery and diversification of biologically active secondary metabolites."
   ]
  },
  {
   "cell_type": "markdown",
   "id": "2a41f9a9-6c2d-47a9-a063-5e9c5b07e0a5",
   "metadata": {},
   "source": [
    "`antiSMASH` (antiSMASH - the antibiotics and Secondary Metabolite Analysis SHell) uses a rule-based approach to identify many different types of biosynthetic pathways involved in SM production. These rules are based on the annotation of specific domains (utilizing HMM profiles), and can be found [here](https://docs.antismash.secondarymetabolites.org/glossary/#clustertypes).\n",
    "In addition, `antiSMASH` integrates secondary metabolite analysis modules such as [ClusterBlast](https://docs.antismash.secondarymetabolites.org/modules/clusterblast/), [Cluster Compare](https://docs.antismash.secondarymetabolites.org/modules/cluster_compare/), and CompaRiPPson(https://docs.antismash.secondarymetabolites.org/modules/comparippson/)."
   ]
  },
  {
   "cell_type": "markdown",
   "id": "aa126491-7853-4df9-ae5e-e89b4f413d61",
   "metadata": {},
   "source": [
    "## 1. Initialization"
   ]
  },
  {
   "cell_type": "markdown",
   "id": "e3c69083-7782-4f1c-bd4c-843f1d3706af",
   "metadata": {},
   "source": [
    "### 1.1 Create directories (Run then comment)\n",
    "---"
   ]
  },
  {
   "cell_type": "code",
   "execution_count": null,
   "id": "081a913e-7bd3-45df-aa52-f8deee332d35",
   "metadata": {},
   "outputs": [],
   "source": [
    "# import os \n",
    "\n",
    "# if not os.path.exists('./src'):\n",
    "#     os.makedirs('./src')\n",
    "#     os.makedirs('./data')\n",
    "#     os.makedirs('./data/input_data')\n",
    "#     os.makedirs('./data/output_data')\n",
    "#     os.makedirs('./data/reference_data')\n",
    "#     with open('./src/requirements.txt', 'w') as f:\n",
    "#         pass\n",
    "#     with open('./src/utilities.ipynb', 'a') as nb:\n",
    "#         pass"
   ]
  },
  {
   "cell_type": "markdown",
   "id": "e77c9dea-7126-4093-8fb3-ef15b5a6494a",
   "metadata": {},
   "source": [
    "### 1.2 Input Data \n",
    "---"
   ]
  },
  {
   "cell_type": "markdown",
   "id": "e028d77b-b270-4032-949f-2d2bd47125e6",
   "metadata": {},
   "source": [
    "The input data are metagenomic samples previously preprocessed and assembled with [VEBA](https://github.com/jolespin/veba), a metagenomic assembly tool.\n",
    "The input consists of:\n",
    "1. **Assembled contigs**: .fasta files.\n",
    "\n",
    "2. **Mapping files** of the assembled contigs in .bam files.\n"
   ]
  },
  {
   "cell_type": "markdown",
   "id": "a2803ae5-51dc-4a2d-b442-170a8f18412d",
   "metadata": {},
   "source": [
    "### 1.3 Output Data \n",
    "---"
   ]
  },
  {
   "cell_type": "markdown",
   "id": "7b85d43d-7a3c-4b46-8059-6293d0ec700a",
   "metadata": {},
   "source": [
    "`antiSMASH` outputs an array of data related to the identified secondary metabolite biosynthesis gene clusters (BGCs). The output is highly comprehensive and may very depending on which modules are included in the execution of the tool. However, in this module, we will be executing the tool in the minimal mode, that is, only to annotate BGC domains.\n",
    "In this case, the output of antiSMASH consists of a list of GenBank files containing BGC identified sequences.\n"
   ]
  },
  {
   "cell_type": "markdown",
   "id": "96260cdb-cfc4-4b17-b686-6aba52f13c64",
   "metadata": {
    "tags": []
   },
   "source": [
    "### 1.4 Data Loading\n",
    "---"
   ]
  },
  {
   "cell_type": "markdown",
   "id": "0f2565f6-62ff-49aa-8a4e-fdd9593de188",
   "metadata": {},
   "source": [
    "For the purpose of this notebook, we will analyze metagenomes originally from the [SOLA dataset](https://www.nature.com/articles/s41396-018-0158-1). This dataset consists of 40 metagenomic samples of the surface seawater collected monthly from January 2012 to February 2015 at the SOLA station, located in the northwestern Mediterranean (42°31′N, 03°11′E). \n"
   ]
  },
  {
   "cell_type": "markdown",
   "id": "9268647b-e16e-45b1-99e5-e31f134daabe",
   "metadata": {},
   "source": [
    "Download fasta and bam files containing the assemblies"
   ]
  },
  {
   "cell_type": "markdown",
   "id": "b8820d33-fdc2-45ac-96a0-c413c2d41bb9",
   "metadata": {},
   "source": [
    "Download the demonstration sample from New Atlantis S3 resources. \n",
    "\n",
    "NOTE: additional tests required to ensure s3 is intalled on JHUB and will always work. K+T task.\n",
    "\n",
    "NOTE: add these utility bash commands to user env. Also have functions written python for this.\n"
   ]
  },
  {
   "cell_type": "code",
   "execution_count": null,
   "id": "e32bb103-9ff6-48c6-860f-0656fdd2a550",
   "metadata": {},
   "outputs": [],
   "source": [
    "! #aws s3 cp s3://newatlantis-case-studies/SOLA-samples/ERR2604088 ${WORKDIR}/data/sola/${SAMPLE}* --recursive"
   ]
  },
  {
   "cell_type": "markdown",
   "id": "ad90a79e-33d2-4b4e-bbfe-9987c18b25f4",
   "metadata": {
    "tags": []
   },
   "source": [
    "---\n",
    "# 2. Environment\n",
    "---"
   ]
  },
  {
   "cell_type": "markdown",
   "id": "cf3371a7-5fe9-4258-a49b-05d599051e85",
   "metadata": {},
   "source": [
    "### 2.1 Main dependencies\n",
    "___"
   ]
  },
  {
   "cell_type": "markdown",
   "id": "493ca348-566c-400f-855e-13e2edb06cf2",
   "metadata": {},
   "source": [
    "The `antiSMASH` operating environment is fully decribed in the Dockerfile located in the src subfolder of this notebook. The docker image contains all necessary packages to run `antiSMASH`, all distributions are the most recent versions of their respective packages and distributed via apt. \n",
    "These packages include:\n",
    "\n",
    "- [hmmer 1/2](http://hmmer.org)\n",
    "- [diamond](https://github.com/bbuchfink/diamond)\n",
    "- [fasttree](http://www.microbesonline.org/fasttree/)\n",
    "- [prodigal](https://github.com/hyattpd/Prodigal)\n",
    "- [ncbi blast](https://blast.ncbi.nlm.nih.gov/doc/blast-help/downloadblastdata.html)\n",
    "- [muscle](https://www.ebi.ac.uk/Tools/msa/muscle/)\n",
    "- [glimmerhmm](https://ccb.jhu.edu/software/glimmerhmm/man.shtml)\n",
    "    \n",
    "The `antiSMASH` [distribution](https://antismash.secondarymetabolites.org) and its associated refernce data are pulled directly from their website.\n",
    "For more information and detail on how these packages are installed, see the Dockerfile.\n",
    "\n",
    "NOTE: Add pointer to image on dockerhub when uploaded."
   ]
  },
  {
   "cell_type": "markdown",
   "id": "8006bc65-d07b-47bc-936f-c081f40ccf0e",
   "metadata": {},
   "source": [
    "### 2.2 Notebook utility installs\n",
    "___"
   ]
  },
  {
   "cell_type": "markdown",
   "id": "7f3df6f8-0e74-46bc-8d2e-06c810405d55",
   "metadata": {},
   "source": [
    "The import-ipynb package installed here provides utility in using a refernce notebook as a Python module."
   ]
  },
  {
   "cell_type": "code",
   "execution_count": 52,
   "id": "f21efd60-c031-4586-bb0a-23b552a60482",
   "metadata": {},
   "outputs": [],
   "source": [
    "#install for import-ipynb that will be applied later\n",
    "!pip3 install import-ipynb -q"
   ]
  },
  {
   "cell_type": "markdown",
   "id": "ba91e36d-a9db-4de2-a79e-597db5a0fced",
   "metadata": {},
   "source": [
    "### 2.3 R based dependencies\n",
    "---"
   ]
  },
  {
   "cell_type": "markdown",
   "id": "e00ac888-f20b-408a-aa81-f656cf927c61",
   "metadata": {},
   "source": [
    "Insert handling and instructions for the above."
   ]
  },
  {
   "cell_type": "markdown",
   "id": "c41406d8-3984-45da-b65f-81d10af215c0",
   "metadata": {},
   "source": [
    "### 2.4 Import statements (code)(import ipynb)\n",
    "---"
   ]
  },
  {
   "cell_type": "code",
   "execution_count": 1,
   "id": "050d9b6c-a887-43bd-add9-263b913bfb53",
   "metadata": {},
   "outputs": [
    {
     "name": "stdout",
     "output_type": "stream",
     "text": [
      "importing Jupyter notebook from /home/epereira/workspace/dev/new_atlantis/repos/bioprospecting/execution/bgc_annotation/src/utilitites.ipynb\n"
     ]
    }
   ],
   "source": [
    "import import_ipynb\n",
    "from src.utilitites import *"
   ]
  },
  {
   "cell_type": "markdown",
   "id": "df46f2d5-559a-42fa-8ad7-ab0e5de7e223",
   "metadata": {},
   "source": [
    "### 2.5 Session envrionmental variables\n",
    "---"
   ]
  },
  {
   "cell_type": "markdown",
   "id": "62434768-bd53-4971-ad7e-f74f615fe99f",
   "metadata": {},
   "source": [
    "The ID of the sample being processed."
   ]
  },
  {
   "cell_type": "code",
   "execution_count": 2,
   "id": "6e0bd006-519b-4bd6-a702-69455adc8898",
   "metadata": {
    "tags": []
   },
   "outputs": [
    {
     "name": "stdout",
     "output_type": "stream",
     "text": [
      "env: SAMPLE=ERR2604088\n"
     ]
    }
   ],
   "source": [
    "%env SAMPLE=ERR2604088"
   ]
  },
  {
   "cell_type": "markdown",
   "id": "0087c162-c5f3-43d7-a9a1-c74d17b53355",
   "metadata": {},
   "source": [
    "### 2.6 Input and output data files and directories \n",
    "---"
   ]
  },
  {
   "cell_type": "code",
   "execution_count": 3,
   "id": "1009a520-09c7-4fcc-8e51-dcf77a716320",
   "metadata": {},
   "outputs": [
    {
     "name": "stdout",
     "output_type": "stream",
     "text": [
      "env: INPUT_FOLDER=./data/input_data/ERR2604088\n"
     ]
    }
   ],
   "source": [
    "%env INPUT_FOLDER=./data/input_data/ERR2604088"
   ]
  },
  {
   "cell_type": "code",
   "execution_count": 4,
   "id": "3148c923-6670-4a4e-b437-70e073a97f5b",
   "metadata": {},
   "outputs": [
    {
     "name": "stdout",
     "output_type": "stream",
     "text": [
      "env: INPUT_FASTA=./data/input_data/ERR2604088/output/scaffolds.fasta\n"
     ]
    }
   ],
   "source": [
    "%env INPUT_FASTA=./data/input_data/ERR2604088/output/scaffolds.fasta"
   ]
  },
  {
   "cell_type": "code",
   "execution_count": 9,
   "id": "4605a564-d0da-4654-9973-837718fac819",
   "metadata": {},
   "outputs": [
    {
     "name": "stdout",
     "output_type": "stream",
     "text": [
      "env: INPUT_BAM=./data/input_data/ERR2604088/output/mapped.sorted.bam\n"
     ]
    }
   ],
   "source": [
    "%env INPUT_BAM=./data/input_data/ERR2604088/output/mapped.sorted.bam"
   ]
  },
  {
   "cell_type": "code",
   "execution_count": 12,
   "id": "8a29b2cc-aacc-4568-8d19-3df46bff8d54",
   "metadata": {},
   "outputs": [
    {
     "name": "stdout",
     "output_type": "stream",
     "text": [
      "env: OUTPUT_DIR=./data/output_data/sola_antismashed/ERR2604088\n"
     ]
    }
   ],
   "source": [
    "%env OUTPUT_DIR=./data/output_data/sola_antismashed/ERR2604088"
   ]
  },
  {
   "cell_type": "markdown",
   "id": "5e51905b-74dd-42d9-9b66-5e1e8f56cb60",
   "metadata": {
    "tags": []
   },
   "source": [
    "---\n",
    "## 3. Parameters\n",
    "---"
   ]
  },
  {
   "cell_type": "markdown",
   "id": "e23c198d-fcef-4acf-a53d-2d7af3cc9f07",
   "metadata": {},
   "source": [
    "Add handling for bash flags and r - object oriented parameter approach. parameter object?"
   ]
  },
  {
   "cell_type": "markdown",
   "id": "bddb0e82-48da-49cc-8a66-dc8167d81558",
   "metadata": {},
   "source": [
    "### 3.1 Run Time ENV Variables\n",
    "___"
   ]
  },
  {
   "cell_type": "markdown",
   "id": "e31180d9-47ab-463c-9760-839bc2470365",
   "metadata": {},
   "source": [
    "`--taxon` {bacteria,fungi} Taxonomic classification of input sequence. (default: bacteria)"
   ]
  },
  {
   "cell_type": "code",
   "execution_count": 17,
   "id": "39ad029b-768c-46f8-b4cf-22710cbb1af5",
   "metadata": {
    "tags": []
   },
   "outputs": [
    {
     "name": "stdout",
     "output_type": "stream",
     "text": [
      "env: TAXON=bacteria\n"
     ]
    }
   ],
   "source": [
    "%env TAXON=bacteria"
   ]
  },
  {
   "cell_type": "markdown",
   "id": "5236bc20-abe6-464f-be53-5779700623cb",
   "metadata": {},
   "source": [
    "`-c CPUS, --cpus CPUS` How many CPUs to use in parallel. (default: 48)  \n",
    "Note: Should be set/optimized per job scheduler."
   ]
  },
  {
   "cell_type": "code",
   "execution_count": 18,
   "id": "b8676c4b-5601-4e16-b176-f95cc4d2e187",
   "metadata": {
    "tags": []
   },
   "outputs": [
    {
     "name": "stdout",
     "output_type": "stream",
     "text": [
      "env: CPUS=4\n"
     ]
    }
   ],
   "source": [
    "%env CPUS=4"
   ]
  },
  {
   "cell_type": "markdown",
   "id": "092af61a-4efc-41a9-8c59-c50769d30d53",
   "metadata": {},
   "source": [
    "`--genefinding-tool` {glimmerhmm,prodigal,prodigal-m,none,error} Specify algorithm used for gene finding: GlimmerHMM, Prodigal, Prodigal Metagenomic/Anonymous mode, or none. The 'error' option will raise an error if genefinding is attempted. The 'none' option will not run genefinding. (default: error).  \n",
    "Note: Tool that `antiSMASH` uses to identify and assemble genes, we recommend using prodigal for this purpose."
   ]
  },
  {
   "cell_type": "code",
   "execution_count": 19,
   "id": "3801cc8c-6b50-453d-816e-bfa7e426aba2",
   "metadata": {
    "tags": []
   },
   "outputs": [
    {
     "name": "stdout",
     "output_type": "stream",
     "text": [
      "env: GENEFINDING_TOOL=prodigal-m\n"
     ]
    }
   ],
   "source": [
    "%env GENEFINDING_TOOL=prodigal-m"
   ]
  },
  {
   "cell_type": "markdown",
   "id": "95bff71d-c00f-404a-91ee-2d7324be4b20",
   "metadata": {},
   "source": [
    "`--minlength` MINLENGTH Only process sequences larger than <minlength> (default: 1000)."
   ]
  },
  {
   "cell_type": "markdown",
   "id": "ef7c2ddc-8a00-4fde-b301-7eebc957457e",
   "metadata": {},
   "source": [
    "`--minimal` Only run core detection modules, no analysis modules unless explicitly enabled"
   ]
  },
  {
   "cell_type": "markdown",
   "id": "9b54dfca-b1c5-4cf4-a5d0-3fb025c18636",
   "metadata": {},
   "source": [
    "---\n",
    "## 4. Data Precleaning (if required) \n",
    "---"
   ]
  },
  {
   "cell_type": "code",
   "execution_count": 15,
   "id": "52052fc8-2a82-4188-851c-5674b5386fd1",
   "metadata": {},
   "outputs": [],
   "source": [
    "# Empty"
   ]
  },
  {
   "cell_type": "markdown",
   "id": "e4f64e2f-e7ea-472d-9942-2010e2dcb193",
   "metadata": {
    "tags": []
   },
   "source": [
    "---\n",
    "# 5. Execution of Tool \n",
    "---"
   ]
  },
  {
   "cell_type": "markdown",
   "id": "358612e9-411d-4fba-ac26-719e4c9d9cba",
   "metadata": {},
   "source": [
    "The best way to run `antiSMASH` is using the shell script that is provided in the src directory. This file runs the tool in the proper docker container and then saves the results to the output directories specified in the previous section. View `run_antismash.sh . . --help` for more detail on how the tool is run. The following bash script identifies sample files and runs each in the target directory. "
   ]
  },
  {
   "cell_type": "markdown",
   "id": "bea7fc90-41cb-42b9-99b4-5e07f73f7383",
   "metadata": {},
   "source": [
    "### Execute antiSMASH shell script\n",
    "---"
   ]
  },
  {
   "cell_type": "code",
   "execution_count": null,
   "id": "13bf9741-ed20-4821-9590-e7c4f78e727b",
   "metadata": {},
   "outputs": [],
   "source": [
    "./src/run_antismash.sh \"${INPUT_FASTA}\" \"${OUTPUT_DIR}\" \\\n",
    "  --cpus \"${CPUS}\" \\\n",
    "  --genefinding-tool \"${GENEFINDING_TOOL}\" \\\n",
    "  --taxon \"${TAXON}\" \\\n",
    "  --allow-long-headers \\\n",
    "  --minlength \"${MINLENGTH}\" \\\n",
    "  --minimal"
   ]
  },
  {
   "cell_type": "markdown",
   "id": "bf34b2a6-db56-4074-bd5a-0bc03d573b07",
   "metadata": {},
   "source": [
    "### Compute the coverage of the identified BGC sequences\n",
    "---"
   ]
  },
  {
   "cell_type": "code",
   "execution_count": 11,
   "id": "c2e82539-a895-472a-8de4-de7cc5d1f468",
   "metadata": {},
   "outputs": [
    {
     "data": {
      "text/html": [
       "<div>\n",
       "<style scoped>\n",
       "    .dataframe tbody tr th:only-of-type {\n",
       "        vertical-align: middle;\n",
       "    }\n",
       "\n",
       "    .dataframe tbody tr th {\n",
       "        vertical-align: top;\n",
       "    }\n",
       "\n",
       "    .dataframe thead th {\n",
       "        text-align: right;\n",
       "    }\n",
       "</style>\n",
       "<table border=\"1\" class=\"dataframe\">\n",
       "  <thead>\n",
       "    <tr style=\"text-align: right;\">\n",
       "      <th></th>\n",
       "      <th>acc</th>\n",
       "      <th>bgc_class</th>\n",
       "      <th>on_edge</th>\n",
       "      <th>start</th>\n",
       "      <th>end</th>\n",
       "      <th>coverage</th>\n",
       "      <th>sample_name</th>\n",
       "    </tr>\n",
       "  </thead>\n",
       "  <tbody>\n",
       "    <tr>\n",
       "      <th>ERR2604088__k119_156069-1</th>\n",
       "      <td>ERR2604088__k119_156069</td>\n",
       "      <td>redox-cofactor</td>\n",
       "      <td>True</td>\n",
       "      <td>0</td>\n",
       "      <td>6581</td>\n",
       "      <td>1.042547</td>\n",
       "      <td>ERR2604088</td>\n",
       "    </tr>\n",
       "    <tr>\n",
       "      <th>ERR2604088__k119_116291-1</th>\n",
       "      <td>ERR2604088__k119_116291</td>\n",
       "      <td>betalactone</td>\n",
       "      <td>True</td>\n",
       "      <td>0</td>\n",
       "      <td>18303</td>\n",
       "      <td>1.01803</td>\n",
       "      <td>ERR2604088</td>\n",
       "    </tr>\n",
       "    <tr>\n",
       "      <th>ERR2604088__k119_33754-1</th>\n",
       "      <td>ERR2604088__k119_33754</td>\n",
       "      <td>terpene</td>\n",
       "      <td>True</td>\n",
       "      <td>0</td>\n",
       "      <td>18531</td>\n",
       "      <td>1.053532</td>\n",
       "      <td>ERR2604088</td>\n",
       "    </tr>\n",
       "    <tr>\n",
       "      <th>ERR2604088__k119_73676-1</th>\n",
       "      <td>ERR2604088__k119_73676</td>\n",
       "      <td>betalactone</td>\n",
       "      <td>True</td>\n",
       "      <td>0</td>\n",
       "      <td>8132</td>\n",
       "      <td>1.064437</td>\n",
       "      <td>ERR2604088</td>\n",
       "    </tr>\n",
       "    <tr>\n",
       "      <th>ERR2604088__k119_146697-1</th>\n",
       "      <td>ERR2604088__k119_146697</td>\n",
       "      <td>terpene</td>\n",
       "      <td>True</td>\n",
       "      <td>0</td>\n",
       "      <td>5125</td>\n",
       "      <td>1.062829</td>\n",
       "      <td>ERR2604088</td>\n",
       "    </tr>\n",
       "    <tr>\n",
       "      <th>ERR2604088__k119_9801-1</th>\n",
       "      <td>ERR2604088__k119_9801</td>\n",
       "      <td>terpene</td>\n",
       "      <td>True</td>\n",
       "      <td>0</td>\n",
       "      <td>14890</td>\n",
       "      <td>1.048019</td>\n",
       "      <td>ERR2604088</td>\n",
       "    </tr>\n",
       "    <tr>\n",
       "      <th>ERR2604088__k119_111249-1</th>\n",
       "      <td>ERR2604088__k119_111249</td>\n",
       "      <td>phosphonate</td>\n",
       "      <td>True</td>\n",
       "      <td>0</td>\n",
       "      <td>11770</td>\n",
       "      <td>1.031606</td>\n",
       "      <td>ERR2604088</td>\n",
       "    </tr>\n",
       "    <tr>\n",
       "      <th>ERR2604088__k119_102369-1</th>\n",
       "      <td>ERR2604088__k119_102369</td>\n",
       "      <td>terpene</td>\n",
       "      <td>True</td>\n",
       "      <td>0</td>\n",
       "      <td>19680</td>\n",
       "      <td>1.043699</td>\n",
       "      <td>ERR2604088</td>\n",
       "    </tr>\n",
       "    <tr>\n",
       "      <th>ERR2604088__k119_8575-1</th>\n",
       "      <td>ERR2604088__k119_8575</td>\n",
       "      <td>terpene</td>\n",
       "      <td>True</td>\n",
       "      <td>0</td>\n",
       "      <td>6550</td>\n",
       "      <td>1.049924</td>\n",
       "      <td>ERR2604088</td>\n",
       "    </tr>\n",
       "    <tr>\n",
       "      <th>ERR2604088__k119_63734-1</th>\n",
       "      <td>ERR2604088__k119_63734</td>\n",
       "      <td>betalactone</td>\n",
       "      <td>True</td>\n",
       "      <td>0</td>\n",
       "      <td>9507</td>\n",
       "      <td>1.033344</td>\n",
       "      <td>ERR2604088</td>\n",
       "    </tr>\n",
       "  </tbody>\n",
       "</table>\n",
       "</div>"
      ],
      "text/plain": [
       "                                               acc       bgc_class on_edge  \\\n",
       "ERR2604088__k119_156069-1  ERR2604088__k119_156069  redox-cofactor    True   \n",
       "ERR2604088__k119_116291-1  ERR2604088__k119_116291     betalactone    True   \n",
       "ERR2604088__k119_33754-1    ERR2604088__k119_33754         terpene    True   \n",
       "ERR2604088__k119_73676-1    ERR2604088__k119_73676     betalactone    True   \n",
       "ERR2604088__k119_146697-1  ERR2604088__k119_146697         terpene    True   \n",
       "ERR2604088__k119_9801-1      ERR2604088__k119_9801         terpene    True   \n",
       "ERR2604088__k119_111249-1  ERR2604088__k119_111249     phosphonate    True   \n",
       "ERR2604088__k119_102369-1  ERR2604088__k119_102369         terpene    True   \n",
       "ERR2604088__k119_8575-1      ERR2604088__k119_8575         terpene    True   \n",
       "ERR2604088__k119_63734-1    ERR2604088__k119_63734     betalactone    True   \n",
       "\n",
       "                          start    end  coverage sample_name  \n",
       "ERR2604088__k119_156069-1     0   6581  1.042547  ERR2604088  \n",
       "ERR2604088__k119_116291-1     0  18303   1.01803  ERR2604088  \n",
       "ERR2604088__k119_33754-1      0  18531  1.053532  ERR2604088  \n",
       "ERR2604088__k119_73676-1      0   8132  1.064437  ERR2604088  \n",
       "ERR2604088__k119_146697-1     0   5125  1.062829  ERR2604088  \n",
       "ERR2604088__k119_9801-1       0  14890  1.048019  ERR2604088  \n",
       "ERR2604088__k119_111249-1     0  11770  1.031606  ERR2604088  \n",
       "ERR2604088__k119_102369-1     0  19680  1.043699  ERR2604088  \n",
       "ERR2604088__k119_8575-1       0   6550  1.049924  ERR2604088  \n",
       "ERR2604088__k119_63734-1      0   9507  1.033344  ERR2604088  "
      ]
     },
     "execution_count": 11,
     "metadata": {},
     "output_type": "execute_result"
    }
   ],
   "source": [
    "import os\n",
    "input_dir = os.environ.get(\"OUTPUT_DIR\", \"Default Value\")\n",
    "input_bam = os.environ.get(\"INPUT_BAM\", \"Default Value\")\n",
    "sample = os.environ.get(\"SAMPLE\", \"Default Value\")\n",
    "\n",
    "get_coverage(input_dir=input_dir, input_bam=input_bam, sample_name=sample)"
   ]
  },
  {
   "cell_type": "markdown",
   "id": "535a420e-919a-47ba-a8b5-15e2a0733e54",
   "metadata": {},
   "source": [
    "---\n",
    "# Conclusion\n",
    "---\n",
    "Include any final parting thoughts in this section.\n",
    "This section may also incude:\n",
    "- Common mistakes and fixes. \n",
    "- Debugging tips.\n",
    "- Contact for the author.\n",
    "- Any other information you would like to include"
   ]
  },
  {
   "cell_type": "markdown",
   "id": "56339f87-34a1-4fad-a584-9ebfa2be866b",
   "metadata": {},
   "source": [
    "# Write what you want in the above."
   ]
  },
  {
   "cell_type": "markdown",
   "id": "c9825cda-38b4-4a11-9a35-315f96dfa27f",
   "metadata": {},
   "source": []
  },
  {
   "cell_type": "markdown",
   "id": "3fc821a5-1d24-4899-ae87-24aa86d05c60",
   "metadata": {},
   "source": []
  },
  {
   "cell_type": "markdown",
   "id": "c532b35d-5cc4-48b9-a09f-2f09ebe08d27",
   "metadata": {},
   "source": []
  },
  {
   "cell_type": "markdown",
   "id": "c8001bd4-2ad7-4c32-8117-cd5d5a050bd0",
   "metadata": {},
   "source": []
  },
  {
   "cell_type": "markdown",
   "id": "505e23f4-f056-4803-b336-973de2b5a061",
   "metadata": {},
   "source": []
  }
 ],
 "metadata": {
  "kernelspec": {
   "display_name": "Python 3 (ipykernel)",
   "language": "python",
   "name": "python3"
  },
  "language_info": {
   "codemirror_mode": {
    "name": "ipython",
    "version": 3
   },
   "file_extension": ".py",
   "mimetype": "text/x-python",
   "name": "python",
   "nbconvert_exporter": "python",
   "pygments_lexer": "ipython3",
   "version": "3.11.6"
  }
 },
 "nbformat": 4,
 "nbformat_minor": 5
}
